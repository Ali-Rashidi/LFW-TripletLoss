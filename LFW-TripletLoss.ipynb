{
  "cells": [
    {
      "cell_type": "code",
      "execution_count": 1,
      "metadata": {
        "colab": {
          "base_uri": "https://localhost:8080/"
        },
        "id": "-Z4ecSyWOlSA",
        "outputId": "3eb5f18e-6761-44c0-f3ff-ae621f7a68f5"
      },
      "outputs": [
        {
          "name": "stdout",
          "output_type": "stream",
          "text": [
            "Looking in indexes: https://pypi.org/simple, https://us-python.pkg.dev/colab-wheels/public/simple/\n",
            "Requirement already satisfied: pytorch-metric-learning in /usr/local/lib/python3.8/dist-packages (1.6.3)\n",
            "Requirement already satisfied: tqdm in /usr/local/lib/python3.8/dist-packages (from pytorch-metric-learning) (4.64.1)\n",
            "Requirement already satisfied: scikit-learn in /usr/local/lib/python3.8/dist-packages (from pytorch-metric-learning) (1.0.2)\n",
            "Requirement already satisfied: numpy in /usr/local/lib/python3.8/dist-packages (from pytorch-metric-learning) (1.21.6)\n",
            "Requirement already satisfied: torch>=1.6.0 in /usr/local/lib/python3.8/dist-packages (from pytorch-metric-learning) (1.13.0+cu116)\n",
            "Requirement already satisfied: torchvision in /usr/local/lib/python3.8/dist-packages (from pytorch-metric-learning) (0.14.0+cu116)\n",
            "Requirement already satisfied: typing-extensions in /usr/local/lib/python3.8/dist-packages (from torch>=1.6.0->pytorch-metric-learning) (4.4.0)\n",
            "Requirement already satisfied: joblib>=0.11 in /usr/local/lib/python3.8/dist-packages (from scikit-learn->pytorch-metric-learning) (1.2.0)\n",
            "Requirement already satisfied: scipy>=1.1.0 in /usr/local/lib/python3.8/dist-packages (from scikit-learn->pytorch-metric-learning) (1.7.3)\n",
            "Requirement already satisfied: threadpoolctl>=2.0.0 in /usr/local/lib/python3.8/dist-packages (from scikit-learn->pytorch-metric-learning) (3.1.0)\n",
            "Requirement already satisfied: pillow!=8.3.*,>=5.3.0 in /usr/local/lib/python3.8/dist-packages (from torchvision->pytorch-metric-learning) (7.1.2)\n",
            "Requirement already satisfied: requests in /usr/local/lib/python3.8/dist-packages (from torchvision->pytorch-metric-learning) (2.25.1)\n",
            "Requirement already satisfied: chardet<5,>=3.0.2 in /usr/local/lib/python3.8/dist-packages (from requests->torchvision->pytorch-metric-learning) (4.0.0)\n",
            "Requirement already satisfied: certifi>=2017.4.17 in /usr/local/lib/python3.8/dist-packages (from requests->torchvision->pytorch-metric-learning) (2022.12.7)\n",
            "Requirement already satisfied: idna<3,>=2.5 in /usr/local/lib/python3.8/dist-packages (from requests->torchvision->pytorch-metric-learning) (2.10)\n",
            "Requirement already satisfied: urllib3<1.27,>=1.21.1 in /usr/local/lib/python3.8/dist-packages (from requests->torchvision->pytorch-metric-learning) (1.24.3)\n",
            "Looking in indexes: https://pypi.org/simple, https://us-python.pkg.dev/colab-wheels/public/simple/\n",
            "Requirement already satisfied: faiss-gpu in /usr/local/lib/python3.8/dist-packages (1.7.2)\n",
            "Looking in indexes: https://pypi.org/simple, https://us-python.pkg.dev/colab-wheels/public/simple/\n",
            "Requirement already satisfied: umap-learn in /usr/local/lib/python3.8/dist-packages (0.5.3)\n",
            "Requirement already satisfied: numpy>=1.17 in /usr/local/lib/python3.8/dist-packages (from umap-learn) (1.21.6)\n",
            "Requirement already satisfied: tqdm in /usr/local/lib/python3.8/dist-packages (from umap-learn) (4.64.1)\n",
            "Requirement already satisfied: scipy>=1.0 in /usr/local/lib/python3.8/dist-packages (from umap-learn) (1.7.3)\n",
            "Requirement already satisfied: numba>=0.49 in /usr/local/lib/python3.8/dist-packages (from umap-learn) (0.56.4)\n",
            "Requirement already satisfied: pynndescent>=0.5 in /usr/local/lib/python3.8/dist-packages (from umap-learn) (0.5.8)\n",
            "Requirement already satisfied: scikit-learn>=0.22 in /usr/local/lib/python3.8/dist-packages (from umap-learn) (1.0.2)\n",
            "Requirement already satisfied: setuptools in /usr/local/lib/python3.8/dist-packages (from numba>=0.49->umap-learn) (57.4.0)\n",
            "Requirement already satisfied: importlib-metadata in /usr/local/lib/python3.8/dist-packages (from numba>=0.49->umap-learn) (5.2.0)\n",
            "Requirement already satisfied: llvmlite<0.40,>=0.39.0dev0 in /usr/local/lib/python3.8/dist-packages (from numba>=0.49->umap-learn) (0.39.1)\n",
            "Requirement already satisfied: joblib>=0.11 in /usr/local/lib/python3.8/dist-packages (from pynndescent>=0.5->umap-learn) (1.2.0)\n",
            "Requirement already satisfied: threadpoolctl>=2.0.0 in /usr/local/lib/python3.8/dist-packages (from scikit-learn>=0.22->umap-learn) (3.1.0)\n",
            "Requirement already satisfied: zipp>=0.5 in /usr/local/lib/python3.8/dist-packages (from importlib-metadata->numba>=0.49->umap-learn) (3.11.0)\n",
            "Looking in indexes: https://pypi.org/simple, https://us-python.pkg.dev/colab-wheels/public/simple/\n",
            "Requirement already satisfied: matplotlib in /usr/local/lib/python3.8/dist-packages (3.2.2)\n",
            "Requirement already satisfied: python-dateutil>=2.1 in /usr/local/lib/python3.8/dist-packages (from matplotlib) (2.8.2)\n",
            "Requirement already satisfied: pyparsing!=2.0.4,!=2.1.2,!=2.1.6,>=2.0.1 in /usr/local/lib/python3.8/dist-packages (from matplotlib) (3.0.9)\n",
            "Requirement already satisfied: kiwisolver>=1.0.1 in /usr/local/lib/python3.8/dist-packages (from matplotlib) (1.4.4)\n",
            "Requirement already satisfied: cycler>=0.10 in /usr/local/lib/python3.8/dist-packages (from matplotlib) (0.11.0)\n",
            "Requirement already satisfied: numpy>=1.11 in /usr/local/lib/python3.8/dist-packages (from matplotlib) (1.21.6)\n",
            "Requirement already satisfied: six>=1.5 in /usr/local/lib/python3.8/dist-packages (from python-dateutil>=2.1->matplotlib) (1.15.0)\n",
            "Looking in indexes: https://pypi.org/simple, https://us-python.pkg.dev/colab-wheels/public/simple/\n",
            "Requirement already satisfied: datashader in /usr/local/lib/python3.8/dist-packages (0.14.3)\n",
            "Requirement already satisfied: pandas in /usr/local/lib/python3.8/dist-packages (from datashader) (1.3.5)\n",
            "Requirement already satisfied: datashape in /usr/local/lib/python3.8/dist-packages (from datashader) (0.5.2)\n",
            "Requirement already satisfied: dask in /usr/local/lib/python3.8/dist-packages (from datashader) (2022.2.1)\n",
            "Requirement already satisfied: pyct in /usr/local/lib/python3.8/dist-packages (from datashader) (0.4.8)\n",
            "Requirement already satisfied: param in /usr/local/lib/python3.8/dist-packages (from datashader) (1.12.3)\n",
            "Requirement already satisfied: toolz in /usr/local/lib/python3.8/dist-packages (from datashader) (0.12.0)\n",
            "Requirement already satisfied: numpy in /usr/local/lib/python3.8/dist-packages (from datashader) (1.21.6)\n",
            "Requirement already satisfied: requests in /usr/local/lib/python3.8/dist-packages (from datashader) (2.25.1)\n",
            "Requirement already satisfied: scipy in /usr/local/lib/python3.8/dist-packages (from datashader) (1.7.3)\n",
            "Requirement already satisfied: numba>=0.51 in /usr/local/lib/python3.8/dist-packages (from datashader) (0.56.4)\n",
            "Requirement already satisfied: pillow in /usr/local/lib/python3.8/dist-packages (from datashader) (7.1.2)\n",
            "Requirement already satisfied: colorcet in /usr/local/lib/python3.8/dist-packages (from datashader) (3.0.1)\n",
            "Requirement already satisfied: xarray in /usr/local/lib/python3.8/dist-packages (from datashader) (2022.12.0)\n",
            "Requirement already satisfied: importlib-metadata in /usr/local/lib/python3.8/dist-packages (from numba>=0.51->datashader) (5.2.0)\n",
            "Requirement already satisfied: setuptools in /usr/local/lib/python3.8/dist-packages (from numba>=0.51->datashader) (57.4.0)\n",
            "Requirement already satisfied: llvmlite<0.40,>=0.39.0dev0 in /usr/local/lib/python3.8/dist-packages (from numba>=0.51->datashader) (0.39.1)\n",
            "Requirement already satisfied: partd>=0.3.10 in /usr/local/lib/python3.8/dist-packages (from dask->datashader) (1.3.0)\n",
            "Requirement already satisfied: pyyaml>=5.3.1 in /usr/local/lib/python3.8/dist-packages (from dask->datashader) (6.0)\n",
            "Requirement already satisfied: packaging>=20.0 in /usr/local/lib/python3.8/dist-packages (from dask->datashader) (21.3)\n",
            "Requirement already satisfied: fsspec>=0.6.0 in /usr/local/lib/python3.8/dist-packages (from dask->datashader) (2022.11.0)\n",
            "Requirement already satisfied: cloudpickle>=1.1.1 in /usr/local/lib/python3.8/dist-packages (from dask->datashader) (1.5.0)\n",
            "Requirement already satisfied: python-dateutil in /usr/local/lib/python3.8/dist-packages (from datashape->datashader) (2.8.2)\n",
            "Requirement already satisfied: multipledispatch>=0.4.7 in /usr/local/lib/python3.8/dist-packages (from datashape->datashader) (0.6.0)\n",
            "Requirement already satisfied: pytz>=2017.3 in /usr/local/lib/python3.8/dist-packages (from pandas->datashader) (2022.7)\n",
            "Requirement already satisfied: urllib3<1.27,>=1.21.1 in /usr/local/lib/python3.8/dist-packages (from requests->datashader) (1.24.3)\n",
            "Requirement already satisfied: idna<3,>=2.5 in /usr/local/lib/python3.8/dist-packages (from requests->datashader) (2.10)\n",
            "Requirement already satisfied: chardet<5,>=3.0.2 in /usr/local/lib/python3.8/dist-packages (from requests->datashader) (4.0.0)\n",
            "Requirement already satisfied: certifi>=2017.4.17 in /usr/local/lib/python3.8/dist-packages (from requests->datashader) (2022.12.7)\n",
            "Requirement already satisfied: six in /usr/local/lib/python3.8/dist-packages (from multipledispatch>=0.4.7->datashape->datashader) (1.15.0)\n",
            "Requirement already satisfied: pyparsing!=3.0.5,>=2.0.2 in /usr/local/lib/python3.8/dist-packages (from packaging>=20.0->dask->datashader) (3.0.9)\n",
            "Requirement already satisfied: locket in /usr/local/lib/python3.8/dist-packages (from partd>=0.3.10->dask->datashader) (1.0.0)\n",
            "Requirement already satisfied: zipp>=0.5 in /usr/local/lib/python3.8/dist-packages (from importlib-metadata->numba>=0.51->datashader) (3.11.0)\n",
            "Looking in indexes: https://pypi.org/simple, https://us-python.pkg.dev/colab-wheels/public/simple/\n",
            "Requirement already satisfied: bokeh in /usr/local/lib/python3.8/dist-packages (2.3.3)\n",
            "Requirement already satisfied: PyYAML>=3.10 in /usr/local/lib/python3.8/dist-packages (from bokeh) (6.0)\n",
            "Requirement already satisfied: Jinja2>=2.9 in /usr/local/lib/python3.8/dist-packages (from bokeh) (2.11.3)\n",
            "Requirement already satisfied: numpy>=1.11.3 in /usr/local/lib/python3.8/dist-packages (from bokeh) (1.21.6)\n",
            "Requirement already satisfied: packaging>=16.8 in /usr/local/lib/python3.8/dist-packages (from bokeh) (21.3)\n",
            "Requirement already satisfied: pillow>=7.1.0 in /usr/local/lib/python3.8/dist-packages (from bokeh) (7.1.2)\n",
            "Requirement already satisfied: tornado>=5.1 in /usr/local/lib/python3.8/dist-packages (from bokeh) (6.0.4)\n",
            "Requirement already satisfied: python-dateutil>=2.1 in /usr/local/lib/python3.8/dist-packages (from bokeh) (2.8.2)\n",
            "Requirement already satisfied: typing-extensions>=3.7.4 in /usr/local/lib/python3.8/dist-packages (from bokeh) (4.4.0)\n",
            "Requirement already satisfied: MarkupSafe>=0.23 in /usr/local/lib/python3.8/dist-packages (from Jinja2>=2.9->bokeh) (2.0.1)\n",
            "Requirement already satisfied: pyparsing!=3.0.5,>=2.0.2 in /usr/local/lib/python3.8/dist-packages (from packaging>=16.8->bokeh) (3.0.9)\n",
            "Requirement already satisfied: six>=1.5 in /usr/local/lib/python3.8/dist-packages (from python-dateutil>=2.1->bokeh) (1.15.0)\n",
            "Looking in indexes: https://pypi.org/simple, https://us-python.pkg.dev/colab-wheels/public/simple/\n",
            "Requirement already satisfied: holoviews in /usr/local/lib/python3.8/dist-packages (1.14.9)\n",
            "Requirement already satisfied: pyviz-comms>=0.7.4 in /usr/local/lib/python3.8/dist-packages (from holoviews) (2.2.1)\n",
            "Requirement already satisfied: packaging in /usr/local/lib/python3.8/dist-packages (from holoviews) (21.3)\n",
            "Requirement already satisfied: param<2.0,>=1.9.3 in /usr/local/lib/python3.8/dist-packages (from holoviews) (1.12.3)\n",
            "Requirement already satisfied: pandas>=0.20.0 in /usr/local/lib/python3.8/dist-packages (from holoviews) (1.3.5)\n",
            "Requirement already satisfied: colorcet in /usr/local/lib/python3.8/dist-packages (from holoviews) (3.0.1)\n",
            "Requirement already satisfied: panel>=0.8.0 in /usr/local/lib/python3.8/dist-packages (from holoviews) (0.12.1)\n",
            "Requirement already satisfied: numpy>=1.0 in /usr/local/lib/python3.8/dist-packages (from holoviews) (1.21.6)\n",
            "Requirement already satisfied: python-dateutil>=2.7.3 in /usr/local/lib/python3.8/dist-packages (from pandas>=0.20.0->holoviews) (2.8.2)\n",
            "Requirement already satisfied: pytz>=2017.3 in /usr/local/lib/python3.8/dist-packages (from pandas>=0.20.0->holoviews) (2022.7)\n",
            "Requirement already satisfied: markdown in /usr/local/lib/python3.8/dist-packages (from panel>=0.8.0->holoviews) (3.4.1)\n",
            "Requirement already satisfied: bokeh<2.4.0,>=2.3.0 in /usr/local/lib/python3.8/dist-packages (from panel>=0.8.0->holoviews) (2.3.3)\n",
            "Requirement already satisfied: pyct>=0.4.4 in /usr/local/lib/python3.8/dist-packages (from panel>=0.8.0->holoviews) (0.4.8)\n",
            "Requirement already satisfied: tqdm>=4.48.0 in /usr/local/lib/python3.8/dist-packages (from panel>=0.8.0->holoviews) (4.64.1)\n",
            "Requirement already satisfied: requests in /usr/local/lib/python3.8/dist-packages (from panel>=0.8.0->holoviews) (2.25.1)\n",
            "Requirement already satisfied: bleach in /usr/local/lib/python3.8/dist-packages (from panel>=0.8.0->holoviews) (5.0.1)\n",
            "Requirement already satisfied: pyparsing!=3.0.5,>=2.0.2 in /usr/local/lib/python3.8/dist-packages (from packaging->holoviews) (3.0.9)\n",
            "Requirement already satisfied: typing-extensions>=3.7.4 in /usr/local/lib/python3.8/dist-packages (from bokeh<2.4.0,>=2.3.0->panel>=0.8.0->holoviews) (4.4.0)\n",
            "Requirement already satisfied: PyYAML>=3.10 in /usr/local/lib/python3.8/dist-packages (from bokeh<2.4.0,>=2.3.0->panel>=0.8.0->holoviews) (6.0)\n",
            "Requirement already satisfied: Jinja2>=2.9 in /usr/local/lib/python3.8/dist-packages (from bokeh<2.4.0,>=2.3.0->panel>=0.8.0->holoviews) (2.11.3)\n",
            "Requirement already satisfied: tornado>=5.1 in /usr/local/lib/python3.8/dist-packages (from bokeh<2.4.0,>=2.3.0->panel>=0.8.0->holoviews) (6.0.4)\n",
            "Requirement already satisfied: pillow>=7.1.0 in /usr/local/lib/python3.8/dist-packages (from bokeh<2.4.0,>=2.3.0->panel>=0.8.0->holoviews) (7.1.2)\n",
            "Requirement already satisfied: six>=1.5 in /usr/local/lib/python3.8/dist-packages (from python-dateutil>=2.7.3->pandas>=0.20.0->holoviews) (1.15.0)\n",
            "Requirement already satisfied: webencodings in /usr/local/lib/python3.8/dist-packages (from bleach->panel>=0.8.0->holoviews) (0.5.1)\n",
            "Requirement already satisfied: importlib-metadata>=4.4 in /usr/local/lib/python3.8/dist-packages (from markdown->panel>=0.8.0->holoviews) (5.2.0)\n",
            "Requirement already satisfied: urllib3<1.27,>=1.21.1 in /usr/local/lib/python3.8/dist-packages (from requests->panel>=0.8.0->holoviews) (1.24.3)\n",
            "Requirement already satisfied: certifi>=2017.4.17 in /usr/local/lib/python3.8/dist-packages (from requests->panel>=0.8.0->holoviews) (2022.12.7)\n",
            "Requirement already satisfied: chardet<5,>=3.0.2 in /usr/local/lib/python3.8/dist-packages (from requests->panel>=0.8.0->holoviews) (4.0.0)\n",
            "Requirement already satisfied: idna<3,>=2.5 in /usr/local/lib/python3.8/dist-packages (from requests->panel>=0.8.0->holoviews) (2.10)\n",
            "Requirement already satisfied: zipp>=0.5 in /usr/local/lib/python3.8/dist-packages (from importlib-metadata>=4.4->markdown->panel>=0.8.0->holoviews) (3.11.0)\n",
            "Requirement already satisfied: MarkupSafe>=0.23 in /usr/local/lib/python3.8/dist-packages (from Jinja2>=2.9->bokeh<2.4.0,>=2.3.0->panel>=0.8.0->holoviews) (2.0.1)\n",
            "Looking in indexes: https://pypi.org/simple, https://us-python.pkg.dev/colab-wheels/public/simple/\n",
            "Requirement already satisfied: colorcet in /usr/local/lib/python3.8/dist-packages (3.0.1)\n",
            "Requirement already satisfied: pyct>=0.4.4 in /usr/local/lib/python3.8/dist-packages (from colorcet) (0.4.8)\n",
            "Requirement already satisfied: param>=1.7.0 in /usr/local/lib/python3.8/dist-packages (from pyct>=0.4.4->colorcet) (1.12.3)\n",
            "Looking in indexes: https://pypi.org/simple, https://us-python.pkg.dev/colab-wheels/public/simple/\n",
            "Requirement already satisfied: torchinfo in /usr/local/lib/python3.8/dist-packages (1.7.1)\n"
          ]
        }
      ],
      "source": [
        "!pip install pytorch-metric-learning\n",
        "!pip install faiss-gpu\n",
        "!pip install umap-learn\n",
        "!pip install matplotlib\n",
        "!pip install datashader\n",
        "!pip install bokeh\n",
        "!pip install holoviews\n",
        "!pip install colorcet\n",
        "!pip install torchinfo"
      ]
    },
    {
      "cell_type": "markdown",
      "metadata": {
        "id": "FuwWxX1SQZ0P"
      },
      "source": [
        "# **Preparing the data , train/test split ,and visualization**"
      ]
    },
    {
      "cell_type": "code",
      "execution_count": 2,
      "metadata": {
        "colab": {
          "base_uri": "https://localhost:8080/"
        },
        "id": "okaEP7_IQniu",
        "outputId": "530934c7-9eff-4d7a-82b3-7691df6915fa"
      },
      "outputs": [
        {
          "name": "stdout",
          "output_type": "stream",
          "text": [
            "Images :  (1140, 3, 15, 15)  Labels :  (1140,)\n"
          ]
        }
      ],
      "source": [
        "from sklearn.datasets import fetch_lfw_people\n",
        "import numpy as np\n",
        "import torch\n",
        "\n",
        "ds = fetch_lfw_people(min_faces_per_person=100, resize=1.0, slice_=(slice(60, 188), slice(60, 188)), color=True)\n",
        "num_known_classes = len(ds.target_names)\n",
        "X = ds.data\n",
        "X = np.reshape(X, (X.shape[0], ds.images.shape[1], ds.images.shape[2], ds.images.shape[3])) / 255.0\n",
        "Y = ds.target\n",
        "\n",
        "# resize photos from 128*128 to 15*15\n",
        "import cv2\n",
        "sz= 15\n",
        "Z = np.zeros((X.shape[0],sz,sz,3))\n",
        "for i in range(X.shape[0]):\n",
        "    Z[i,:,:,:] = cv2.resize(X[i,:,:,:], (sz,sz), interpolation = cv2.INTER_AREA)\n",
        "\n",
        "Z=Z.transpose((0,3,1,2))\n",
        "print(\"Images : \" , Z.shape , \" Labels : \", Y.shape ) \n"
      ]
    },
    {
      "cell_type": "code",
      "execution_count": 3,
      "metadata": {
        "colab": {
          "base_uri": "https://localhost:8080/",
          "height": 499
        },
        "id": "49aIi8A4Q1ds",
        "outputId": "ea2a822d-5a71-4d01-dfb9-25f5de9d9728"
      },
      "outputs": [
        {
          "name": "stdout",
          "output_type": "stream",
          "text": [
            "train size :  798  , test size :  342\n"
          ]
        },
        {
          "data": {
            "image/png": "[encoded data removed]",
            "text/plain": [
              "<Figure size 576x576 with 9 Axes>"
            ]
          },
          "metadata": {
            "needs_background": "light"
          },
          "output_type": "display_data"
        }
      ],
      "source": [
        "# train / test split\n",
        "from sklearn.model_selection import train_test_split\n",
        "import torch\n",
        "from torch.utils.data import DataLoader, TensorDataset\n",
        "from torch import Tensor\n",
        "import matplotlib.pyplot as plt\n",
        "\n",
        "X_train, X_test, Y_train, Y_test = train_test_split(Z, Y, train_size=0.7, stratify=Y, random_state=666)\n",
        "print(\"train size : \" , X_train.shape[0] , \" , test size : \" , X_test.shape[0])\n",
        "\n",
        "dataset_train = TensorDataset( Tensor(X_train), Tensor(Y_train) )\n",
        "dataset_test = TensorDataset( Tensor(X_test), Tensor(Y_test) )\n",
        "\n",
        "batch_size = 256\n",
        "\n",
        "train_loader = torch.utils.data.DataLoader(dataset_train, batch_size=batch_size, shuffle=True)\n",
        "test_loader = torch.utils.data.DataLoader(dataset_test, batch_size=batch_size)\n",
        "\n",
        "##############\n",
        "figure = plt.figure(figsize=(8, 8))\n",
        "cols, rows = 3, 3\n",
        "for i in range(1, cols * rows + 1):\n",
        "    train_features, train_labels = next(iter(train_loader))\n",
        "    img = train_features[0].squeeze()\n",
        "    img = img.numpy()\n",
        "    img = img.transpose((1,2,0))\n",
        "    figure.add_subplot(rows, cols, i)\n",
        "    plt.title('ID:' + str(int(train_labels[0])))\n",
        "    plt.axis(\"off\")\n",
        "    plt.imshow(img, cmap=\"gray\")\n",
        "plt.show()"
      ]
    },
    {
      "cell_type": "markdown",
      "metadata": {
        "id": "ze5_k_TfWK4z"
      },
      "source": [
        "# **Helper Functions:**"
      ]
    },
    {
      "cell_type": "code",
      "execution_count": 4,
      "metadata": {
        "colab": {
          "base_uri": "https://localhost:8080/"
        },
        "id": "eSfnbrbAWNma",
        "outputId": "e07c2cf4-d6fc-48b0-e649-e286b06cf70e"
      },
      "outputs": [
        {
          "name": "stdout",
          "output_type": "stream",
          "text": [
            "Net(\n",
            "  (conv1): Conv2d(3, 15, kernel_size=(3, 3), stride=(1, 1))\n",
            "  (conv2): Conv2d(15, 64, kernel_size=(3, 3), stride=(1, 1))\n",
            "  (dropout1): Dropout2d(p=0.25, inplace=False)\n",
            "  (fc1): Linear(in_features=1600, out_features=512, bias=True)\n",
            "  (fc2): Linear(in_features=512, out_features=256, bias=True)\n",
            ")\n"
          ]
        }
      ],
      "source": [
        "import torchvision\n",
        "from numpy.core.numeric import tensordot\n",
        "import torch\n",
        "import torch.nn as nn\n",
        "import torch.nn.functional as F\n",
        "import torch.optim as optim\n",
        "from torchvision import datasets, transforms\n",
        "from pytorch_metric_learning import distances, losses, miners, reducers, testers\n",
        "from pytorch_metric_learning.utils.accuracy_calculator import AccuracyCalculator\n",
        "import matplotlib.pyplot as plt\n",
        "import umap\n",
        "import umap.plot\n",
        "import random\n",
        "\n",
        "device = torch.device(\"cuda\")\n",
        "num_epochs = 150\n",
        "\n",
        "class Net(nn.Module):\n",
        "    def __init__(self):\n",
        "        super(Net, self).__init__()\n",
        "        self.conv1 = nn.Conv2d(3, sz, 3, 1)\n",
        "        self.conv2 = nn.Conv2d(sz, 64, 3, 1)\n",
        "        self.dropout1 = nn.Dropout2d(0.25)\n",
        "        self.fc1 = nn.Linear(1600, 512)\n",
        "        self.fc2 = nn.Linear(512, 256)\n",
        "\n",
        "    def forward(self, x):\n",
        "        x = self.conv1(x)\n",
        "        x = self.conv2(x)\n",
        "        x = x.relu()\n",
        "        x = F.normalize(x)\n",
        "\n",
        "        x = F.max_pool2d(x, 2)\n",
        "        x = torch.flatten(x, 1)\n",
        "        x = self.dropout1(x)\n",
        "\n",
        "        x = self.fc1(x)\n",
        "        x = x.relu()\n",
        "        x = self.fc2(x)\n",
        "        x = x.tanh()\n",
        "\n",
        "        return x\n",
        "\n",
        "\n",
        "def train(model, loss_func, mining_func, device, train_loader, optimizer, epoch):\n",
        "    model.train()\n",
        "    l=0\n",
        "    i=0\n",
        "    for batch_idx, (data, labels) in enumerate(train_loader):\n",
        "        data, labels = data.to(device), labels.to(device)\n",
        "        i=i+1\n",
        "        optimizer.zero_grad()\n",
        "        embeddings = model(data)\n",
        "        loss = loss_func(embeddings, labels)\n",
        "        l=l+loss\n",
        "        loss.backward()\n",
        "        optimizer.step()\n",
        "    avg_loss = l/i\n",
        "    print(\"Train : avg_loss = {}\".format(avg_loss))\n",
        "    return avg_loss\n",
        "\n",
        "\n",
        "### convenient function from pytorch-metric-learning ###\n",
        "def get_all_embeddings(dataset, model):\n",
        "    tester = testers.BaseTester()\n",
        "    return tester.get_all_embeddings(dataset, model)\n",
        "\n",
        "\n",
        "### compute accuracy using AccuracyCalculator from pytorch-metric-learning ###\n",
        "def test(train_set, test_set, model, accuracy_calculator , test_loader , mining_func , loss_func):\n",
        "    train_embeddings, train_labels = get_all_embeddings(train_set, model)\n",
        "    test_embeddings, test_labels = get_all_embeddings(test_set, model)\n",
        "    train_labels = train_labels.squeeze(1)\n",
        "    test_labels = test_labels.squeeze(1)\n",
        "    l=0\n",
        "    j=0\n",
        "    accuracies = accuracy_calculator.get_accuracy(\n",
        "        test_embeddings, train_embeddings, test_labels, train_labels, False\n",
        "    )\n",
        "    test_acc=accuracies[\"precision_at_1\"]\n",
        "    for batch_idx, (data, labels) in enumerate(test_loader):\n",
        "        data, labels = data.to(device), labels.to(device)\n",
        "        embeddings = model(data)\n",
        "        \n",
        "        loss = loss_func(embeddings, labels)\n",
        "        l=l+loss\n",
        "        j=j+1\n",
        "\n",
        "    avg_loss=l/j\n",
        "\n",
        "    print('Test : avg_loss = {}'.format (l))\n",
        "    print('Test : acc = {}'.format (test_acc))\n",
        "\n",
        "    return avg_loss , test_acc \n",
        "\n",
        "def get_sub_data_embed(dataset , model , num_sel):\n",
        "  g = get_all_embeddings(dataset,model)\n",
        "  embeddings = (g[0]).cpu()\n",
        "  labels = (g[1].squeeze()).cpu()\n",
        "  label_list = labels.unique()\n",
        "  r = random.choices(label_list , k = num_sel)\n",
        "  emd = np.empty((1,256))\n",
        "  lab = np.empty((1,))\n",
        "\n",
        "  for i in range(num_sel):\n",
        "    j = np.where(labels==r[i])\n",
        "    u = embeddings[j]\n",
        "    v = labels[j]\n",
        "    emd = np.concatenate((emd,u) , axis =0)\n",
        "    lab = np.concatenate((lab,v) , axis=0)\n",
        "\n",
        "  return emd , lab\n",
        "\n",
        "def plot_graph(train_loss , test_loss , test_acc, title):\n",
        "  figure = plt.figure()\n",
        "  plt.subplot(2,1,1)\n",
        "  plt.plot(list_to_cpu(train_loss) , label='Train Loss')\n",
        "  plt.plot(list_to_cpu(test_loss) , label='Test Loss')\n",
        "  plt.title('Distance Metric : ' + str(title))\n",
        "  plt.ylabel('Loss')\n",
        "  plt.legend(loc=\"upper right\")\n",
        "\n",
        "  plt.subplot(2,1,2)\n",
        "  plt.plot(test_acc, label='Test Accuracy')\n",
        "  plt.xlabel('Epoch')\n",
        "  plt.ylabel('Accuracy %')\n",
        "  plt.legend(loc=\"upper left\")\n",
        "\n",
        "  plt.show()\n",
        "\n",
        "def list_to_cpu(l):\n",
        "  f=np.zeros((len(l),))\n",
        "  for i in range(len(l)):\n",
        "    f[i,] = l[i].cpu()\n",
        "  return f\n",
        "\n",
        "\n",
        "from sklearn.neighbors import KNeighborsClassifier\n",
        "from sklearn.metrics import accuracy_score\n",
        "\n",
        "def KNN_on_embeddings(dataset_train , dataset_test , model , K=5):\n",
        "  train_data = get_all_embeddings(dataset_train , model)\n",
        "  test_data = get_all_embeddings(dataset_test, model)\n",
        "  embed_train = (train_data[0]).cpu()\n",
        "  embed_test = (test_data[0]).cpu()\n",
        "  label_train = (train_data[1].squeeze()).cpu()\n",
        "  label_test = (test_data[1].squeeze()).cpu()\n",
        "\n",
        "  knn = KNeighborsClassifier(n_neighbors = K)\n",
        "  knn.fit(embed_train, label_train)\n",
        "\n",
        "  label_pred = knn.predict(embed_test)\n",
        "  print('')\n",
        "  print(\"Test Acc : \", accuracy_score(label_test, label_pred)*100)\n",
        "\n",
        "print(Net())\n",
        "\n",
        "from torchsummary import summary\n"
      ]
    },
    {
      "cell_type": "code",
      "execution_count": 7,
      "metadata": {
        "colab": {
          "base_uri": "https://localhost:8080/"
        },
        "id": "QuKoofXzPzZK",
        "outputId": "406dc67e-39fe-4488-bbf1-1ec3bcbd9b7c"
      },
      "outputs": [
        {
          "name": "stderr",
          "output_type": "stream",
          "text": [
            "/usr/local/lib/python3.8/dist-packages/torch/nn/functional.py:1331: UserWarning: dropout2d: Received a 2-D input to dropout2d, which is deprecated and will result in an error in a future release. To retain the behavior and silence this warning, please use dropout instead. Note that dropout2d exists to provide channel-wise dropout on inputs with 2 spatial dimensions, a channel dimension, and an optional batch dimension (i.e. 3D or 4D inputs).\n",
            "  warnings.warn(warn_msg)\n"
          ]
        },
        {
          "data": {
            "text/plain": [
              "==========================================================================================\n",
              "Layer (type:depth-idx)                   Output Shape              Param #\n",
              "==========================================================================================\n",
              "Net                                      [256, 256]                --\n",
              "├─Conv2d: 1-1                            [256, 15, 13, 13]         420\n",
              "├─Conv2d: 1-2                            [256, 64, 11, 11]         8,704\n",
              "├─Dropout2d: 1-3                         [256, 1600]               --\n",
              "├─Linear: 1-4                            [256, 512]                819,712\n",
              "├─Linear: 1-5                            [256, 256]                131,328\n",
              "==========================================================================================\n",
              "Total params: 960,164\n",
              "Trainable params: 960,164\n",
              "Non-trainable params: 0\n",
              "Total mult-adds (M): 531.25\n",
              "==========================================================================================\n",
              "Input size (MB): 0.69\n",
              "Forward/backward pass size (MB): 22.62\n",
              "Params size (MB): 3.84\n",
              "Estimated Total Size (MB): 27.16\n",
              "=========================================================================================="
            ]
          },
          "execution_count": 7,
          "metadata": {},
          "output_type": "execute_result"
        }
      ],
      "source": [
        "from torchinfo import summary\n",
        "summary(Net(), input_size=(batch_size, 3,15, 15))"
      ]
    },
    {
      "cell_type": "markdown",
      "metadata": {
        "id": "Nil4ytgdrS2R"
      },
      "source": [
        "# **Cosine Similarity without Mining**"
      ]
    },
    {
      "cell_type": "code",
      "execution_count": 32,
      "metadata": {
        "colab": {
          "base_uri": "https://localhost:8080/"
        },
        "id": "pmxFmrVk74g1",
        "outputId": "2e7a0316-0cf5-4ce2-8166-9157b534f7de"
      },
      "outputs": [
        {
          "name": "stdout",
          "output_type": "stream",
          "text": [
            "Epoch : 1\n"
          ]
        },
        {
          "name": "stderr",
          "output_type": "stream",
          "text": [
            "/usr/local/lib/python3.8/dist-packages/torch/nn/functional.py:1331: UserWarning: dropout2d: Received a 2-D input to dropout2d, which is deprecated and will result in an error in a future release. To retain the behavior and silence this warning, please use dropout instead. Note that dropout2d exists to provide channel-wise dropout on inputs with 2 spatial dimensions, a channel dimension, and an optional batch dimension (i.e. 3D or 4D inputs).\n",
            "  warnings.warn(warn_msg)\n"
          ]
        },
        {
          "name": "stdout",
          "output_type": "stream",
          "text": [
            "Train : avg_loss = 0.19663028419017792\n"
          ]
        },
        {
          "name": "stderr",
          "output_type": "stream",
          "text": [
            "100%|██████████| 25/25 [00:00<00:00, 39.25it/s]\n",
            "100%|██████████| 11/11 [00:00<00:00, 32.27it/s]\n"
          ]
        },
        {
          "name": "stdout",
          "output_type": "stream",
          "text": [
            "Test : avg_loss = 0.3982005715370178\n",
            "Test : acc = 0.631578947368421\n",
            "******************************************\n",
            "Epoch : 2\n",
            "Train : avg_loss = 0.1988002061843872\n"
          ]
        },
        {
          "name": "stderr",
          "output_type": "stream",
          "text": [
            "100%|██████████| 25/25 [00:00<00:00, 51.13it/s]\n",
            "100%|██████████| 11/11 [00:00<00:00, 32.88it/s]\n"
          ]
        },
        {
          "name": "stdout",
          "output_type": "stream",
          "text": [
            "Test : avg_loss = 0.3983905613422394\n",
            "Test : acc = 0.543859649122807\n",
            "******************************************\n",
            "Epoch : 3\n",
            "Train : avg_loss = 0.19781313836574554\n"
          ]
        },
        {
          "name": "stderr",
          "output_type": "stream",
          "text": [
            "100%|██████████| 25/25 [00:00<00:00, 51.67it/s]\n",
            "100%|██████████| 11/11 [00:00<00:00, 32.20it/s]\n"
          ]
        },
        {
          "name": "stdout",
          "output_type": "stream",
          "text": [
            "Test : avg_loss = 0.3992809057235718\n",
            "Test : acc = 0.4327485380116959\n",
            "******************************************\n",
            "Epoch : 4\n",
            "Train : avg_loss = 0.19990308582782745\n"
          ]
        },
        {
          "name": "stderr",
          "output_type": "stream",
          "text": [
            "100%|██████████| 25/25 [00:00<00:00, 48.81it/s]\n",
            "100%|██████████| 11/11 [00:00<00:00, 31.23it/s]\n"
          ]
        },
        {
          "name": "stdout",
          "output_type": "stream",
          "text": [
            "Test : avg_loss = 0.39947307109832764\n",
            "Test : acc = 0.4269005847953216\n",
            "******************************************\n",
            "Epoch : 5\n",
            "Train : avg_loss = 0.19984889030456543\n"
          ]
        },
        {
          "name": "stderr",
          "output_type": "stream",
          "text": [
            "100%|██████████| 25/25 [00:00<00:00, 52.21it/s]\n",
            "100%|██████████| 11/11 [00:00<00:00, 32.12it/s]\n"
          ]
        },
        {
          "name": "stdout",
          "output_type": "stream",
          "text": [
            "Test : avg_loss = 0.39987707138061523\n",
            "Test : acc = 0.4444444444444444\n",
            "******************************************\n"
          ]
        }
      ],
      "source": [
        "device='cpu'\n",
        "num_epochs=5\n",
        "model_cosine = Net().to(device)\n",
        "\n",
        "optimizer = optim.Adam(model_cosine.parameters(), lr=0.01)\n",
        "\n",
        "### pytorch-metric-learning stuff ###\n",
        "distance = distances.CosineSimilarity()\n",
        "reducer = reducers.ThresholdReducer(low=0)\n",
        "loss_func = losses.TripletMarginLoss(margin=0.2, distance=distance, reducer=reducer)\n",
        "mining_func = miners.TripletMarginMiner(\n",
        "    margin=0.2, distance=distance, type_of_triplets=\"semihard\"\n",
        ")\n",
        "accuracy_calculator = AccuracyCalculator(include=(\"precision_at_1\",), k=1)\n",
        "### pytorch-metric-learning stuff ###\n",
        "\n",
        "test_acc_cosine=[]\n",
        "test_loss_cosine=[]\n",
        "train_loss_cosine=[]\n",
        "for epoch in range(1, num_epochs + 1):\n",
        "    print(\"Epoch : {}\".format(epoch))\n",
        "\n",
        "    train_loss=train(model_cosine, loss_func, mining_func, device, train_loader, optimizer, epoch)\n",
        "    test_loss , test_acc = test(dataset_train, dataset_test, model_cosine, accuracy_calculator, test_loader , mining_func , loss_func)\n",
        "\n",
        "    test_loss_cosine.append(test_loss)\n",
        "    test_acc_cosine.append(test_acc)\n",
        "    train_loss_cosine.append(train_loss)\n",
        "\n",
        "    print(\"******************************************\")"
      ]
    },
    {
      "cell_type": "code",
      "execution_count": 33,
      "metadata": {
        "colab": {
          "base_uri": "https://localhost:8080/",
          "height": 312
        },
        "id": "KDnMlXWJL_HR",
        "outputId": "e253060b-cd22-4ee7-b9fa-2dcd6dd24e53"
      },
      "outputs": [
        {
          "data": {
            "image/png": "[encoded data removed]",
            "text/plain": [
              "<Figure size 432x288 with 2 Axes>"
            ]
          },
          "metadata": {
            "needs_background": "light"
          },
          "output_type": "display_data"
        },
        {
          "name": "stdout",
          "output_type": "stream",
          "text": [
            "Max Test Acc = 0.631578947368421\n"
          ]
        }
      ],
      "source": [
        "plot_graph(train_loss_cosine , test_loss_cosine , test_acc_cosine , 'Cosine , No Miner')\n",
        "print('Max Test Acc = {}' .format(np.max(test_acc_cosine)))"
      ]
    },
    {
      "cell_type": "code",
      "execution_count": 10,
      "metadata": {
        "colab": {
          "base_uri": "https://localhost:8080/"
        },
        "id": "6s5CKgDveAPd",
        "outputId": "a2a7e368-f2e7-4dad-b155-be7a0ca62fc9"
      },
      "outputs": [
        {
          "name": "stderr",
          "output_type": "stream",
          "text": [
            "100%|██████████| 11/11 [00:00<00:00, 12.99it/s]\n",
            "100%|██████████| 25/25 [00:01<00:00, 18.45it/s]\n"
          ]
        }
      ],
      "source": [
        "data_test,target_test=get_sub_data_embed(dataset_test , model_cosine , 5)\n",
        "data_test = np.float32(data_test/(np.max(data_test)-np.min(data_test)))\n",
        "data_train,target_train=get_sub_data_embed(dataset_train , model_cosine , 5)\n",
        "data_train = np.float32(data_train/(np.max(data_train)-np.min(data_train)))"
      ]
    },
    {
      "cell_type": "code",
      "execution_count": 11,
      "metadata": {
        "colab": {
          "base_uri": "https://localhost:8080/",
          "height": 655
        },
        "id": "i4zF3NyGkLze",
        "outputId": "5972eae8-7cef-442b-9c35-2cfdd71d9569"
      },
      "outputs": [
        {
          "data": {
            "text/plain": [
              "<matplotlib.axes._subplots.AxesSubplot at 0x7f324c6f1790>"
            ]
          },
          "execution_count": 11,
          "metadata": {},
          "output_type": "execute_result"
        },
        {
          "data": {
            "image/png": "[encoded data removed]",
            "text/plain": [
              "<Figure size 800x800 with 1 Axes>"
            ]
          },
          "metadata": {},
          "output_type": "display_data"
        }
      ],
      "source": [
        "import umap\n",
        "import umap.plot\n",
        "mapper = umap.UMAP().fit(data_test)\n",
        "umap.plot.points(mapper, labels=target_test)"
      ]
    },
    {
      "cell_type": "code",
      "execution_count": 12,
      "metadata": {
        "colab": {
          "base_uri": "https://localhost:8080/",
          "height": 655
        },
        "id": "GqZbEu9Ir3K_",
        "outputId": "1169a5b2-6825-44c7-8e98-79b3301e072e"
      },
      "outputs": [
        {
          "data": {
            "text/plain": [
              "<matplotlib.axes._subplots.AxesSubplot at 0x7f324c6a8910>"
            ]
          },
          "execution_count": 12,
          "metadata": {},
          "output_type": "execute_result"
        },
        {
          "data": {
            "image/png": "[encoded data removed]",
            "text/plain": [
              "<Figure size 800x800 with 1 Axes>"
            ]
          },
          "metadata": {},
          "output_type": "display_data"
        }
      ],
      "source": [
        "mapper = umap.UMAP().fit(data_train)\n",
        "umap.plot.points(mapper, labels=target_train)"
      ]
    },
    {
      "cell_type": "code",
      "execution_count": 31,
      "metadata": {
        "colab": {
          "base_uri": "https://localhost:8080/"
        },
        "id": "Vqd3HDXE7mO8",
        "outputId": "020586dd-d5b3-4ddf-e0f8-cdf427badad2"
      },
      "outputs": [
        {
          "name": "stdout",
          "output_type": "stream",
          "text": [
            "Test Acc without KNN :0.543859649122807 \n"
          ]
        },
        {
          "name": "stderr",
          "output_type": "stream",
          "text": [
            "100%|██████████| 25/25 [00:00<00:00, 37.48it/s]\n",
            "100%|██████████| 11/11 [00:00<00:00, 35.16it/s]\n"
          ]
        },
        {
          "name": "stdout",
          "output_type": "stream",
          "text": [
            "\n",
            "Test Acc :  57.01754385964912\n"
          ]
        }
      ],
      "source": [
        "# KNN :\n",
        "print(\"Test Acc without KNN :{} \".format(test_acc_cosine[0]))\n",
        "KNN_on_embeddings(dataset_train , dataset_test , model_cosine , K=5)"
      ]
    },
    {
      "cell_type": "markdown",
      "metadata": {
        "id": "ktuiwoMTwwpv"
      },
      "source": [
        "# **Euclidean Distance without Mining**"
      ]
    },
    {
      "cell_type": "code",
      "execution_count": 23,
      "metadata": {
        "colab": {
          "base_uri": "https://localhost:8080/"
        },
        "id": "WpBC0WTwBbcD",
        "outputId": "b5c4bfe8-a6a0-4e98-b89a-93982cbfb742"
      },
      "outputs": [
        {
          "name": "stdout",
          "output_type": "stream",
          "text": [
            "Epoch : 1\n"
          ]
        },
        {
          "name": "stderr",
          "output_type": "stream",
          "text": [
            "/usr/local/lib/python3.8/dist-packages/torch/nn/functional.py:1331: UserWarning: dropout2d: Received a 2-D input to dropout2d, which is deprecated and will result in an error in a future release. To retain the behavior and silence this warning, please use dropout instead. Note that dropout2d exists to provide channel-wise dropout on inputs with 2 spatial dimensions, a channel dimension, and an optional batch dimension (i.e. 3D or 4D inputs).\n",
            "  warnings.warn(warn_msg)\n"
          ]
        },
        {
          "name": "stdout",
          "output_type": "stream",
          "text": [
            "Train : avg_loss = 0.1977802813053131\n"
          ]
        },
        {
          "name": "stderr",
          "output_type": "stream",
          "text": [
            "100%|██████████| 25/25 [00:00<00:00, 54.50it/s]\n",
            "100%|██████████| 11/11 [00:00<00:00, 34.37it/s]\n"
          ]
        },
        {
          "name": "stdout",
          "output_type": "stream",
          "text": [
            "Test : avg_loss = 0.3406071662902832\n",
            "Test : acc = 0.6345029239766082\n",
            "******************************************\n",
            "Epoch : 2\n",
            "Train : avg_loss = 0.1901579052209854\n"
          ]
        },
        {
          "name": "stderr",
          "output_type": "stream",
          "text": [
            "100%|██████████| 25/25 [00:00<00:00, 54.58it/s]\n",
            "100%|██████████| 11/11 [00:00<00:00, 35.01it/s]\n"
          ]
        },
        {
          "name": "stdout",
          "output_type": "stream",
          "text": [
            "Test : avg_loss = 0.3391180634498596\n",
            "Test : acc = 0.6549707602339181\n",
            "******************************************\n",
            "Epoch : 3\n",
            "Train : avg_loss = 0.19215279817581177\n"
          ]
        },
        {
          "name": "stderr",
          "output_type": "stream",
          "text": [
            "100%|██████████| 25/25 [00:00<00:00, 53.44it/s]\n",
            "100%|██████████| 11/11 [00:00<00:00, 34.26it/s]\n"
          ]
        },
        {
          "name": "stdout",
          "output_type": "stream",
          "text": [
            "Test : avg_loss = 0.34228771924972534\n",
            "Test : acc = 0.6549707602339181\n",
            "******************************************\n",
            "Epoch : 4\n",
            "Train : avg_loss = 0.1973605751991272\n"
          ]
        },
        {
          "name": "stderr",
          "output_type": "stream",
          "text": [
            "100%|██████████| 25/25 [00:00<00:00, 54.46it/s]\n",
            "100%|██████████| 11/11 [00:00<00:00, 36.95it/s]\n"
          ]
        },
        {
          "name": "stdout",
          "output_type": "stream",
          "text": [
            "Test : avg_loss = 0.3293702006340027\n",
            "Test : acc = 0.6695906432748538\n",
            "******************************************\n",
            "Epoch : 5\n",
            "Train : avg_loss = 0.17088890075683594\n"
          ]
        },
        {
          "name": "stderr",
          "output_type": "stream",
          "text": [
            "100%|██████████| 25/25 [00:00<00:00, 53.43it/s]\n",
            "100%|██████████| 11/11 [00:00<00:00, 33.65it/s]\n"
          ]
        },
        {
          "name": "stdout",
          "output_type": "stream",
          "text": [
            "Test : avg_loss = 0.35564497113227844\n",
            "Test : acc = 0.6549707602339181\n",
            "******************************************\n"
          ]
        }
      ],
      "source": [
        "device='cpu'\n",
        "num_epochs = 5\n",
        "model_Lp = Net().to(device)\n",
        "optimizer = optim.Adam(model_Lp.parameters(), lr=0.01)\n",
        "\n",
        "### pytorch-metric-learning stuff ###\n",
        "distance = distances.LpDistance()\n",
        "reducer = reducers.ThresholdReducer(low=0)\n",
        "loss_func = losses.TripletMarginLoss(margin=0.2, distance=distance, reducer=reducer)\n",
        "mining_func = miners.TripletMarginMiner(\n",
        "    margin=0.2, distance=distance, type_of_triplets=\"semihard\"\n",
        ")\n",
        "accuracy_calculator = AccuracyCalculator(include=(\"precision_at_1\",), k=1)\n",
        "### pytorch-metric-learning stuff ###\n",
        "\n",
        "test_acc_Lp=[]\n",
        "test_loss_Lp=[]\n",
        "train_loss_Lp=[]\n",
        "for epoch in range(1, num_epochs + 1):\n",
        "    print(\"Epoch : {}\".format(epoch))\n",
        "\n",
        "    train_loss=train(model_Lp, loss_func, mining_func, device, train_loader, optimizer, epoch)\n",
        "    test_loss , test_acc = test(dataset_train, dataset_test, model_Lp, accuracy_calculator, test_loader , mining_func , loss_func)\n",
        "\n",
        "    test_loss_Lp.append(test_loss)\n",
        "    test_acc_Lp.append(test_acc)\n",
        "    train_loss_Lp.append(train_loss)\n",
        "\n",
        "    print(\"******************************************\")"
      ]
    },
    {
      "cell_type": "code",
      "execution_count": 24,
      "metadata": {
        "colab": {
          "base_uri": "https://localhost:8080/",
          "height": 312
        },
        "id": "3N-Tt441OEGx",
        "outputId": "ce2c0e36-a831-4453-ccbe-b3775c6e1c21"
      },
      "outputs": [
        {
          "data": {
            "image/png": "[encoded data removed]",
            "text/plain": [
              "<Figure size 432x288 with 2 Axes>"
            ]
          },
          "metadata": {
            "needs_background": "light"
          },
          "output_type": "display_data"
        },
        {
          "name": "stdout",
          "output_type": "stream",
          "text": [
            "Max Test Acc = 0.6695906432748538\n"
          ]
        }
      ],
      "source": [
        "plot_graph(train_loss_Lp , test_loss_Lp , test_acc_Lp , 'Euclidean , No Miner')\n",
        "print('Max Test Acc = {}' .format(np.max(test_acc_Lp)))"
      ]
    },
    {
      "cell_type": "code",
      "execution_count": 25,
      "metadata": {
        "colab": {
          "base_uri": "https://localhost:8080/"
        },
        "id": "9yWVldT7f57e",
        "outputId": "39228582-da4a-4bd4-bc6a-acf4d99ce5c6"
      },
      "outputs": [
        {
          "name": "stderr",
          "output_type": "stream",
          "text": [
            "  0%|          | 0/11 [00:00<?, ?it/s]/usr/local/lib/python3.8/dist-packages/torch/nn/functional.py:1331: UserWarning: dropout2d: Received a 2-D input to dropout2d, which is deprecated and will result in an error in a future release. To retain the behavior and silence this warning, please use dropout instead. Note that dropout2d exists to provide channel-wise dropout on inputs with 2 spatial dimensions, a channel dimension, and an optional batch dimension (i.e. 3D or 4D inputs).\n",
            "  warnings.warn(warn_msg)\n",
            "100%|██████████| 11/11 [00:00<00:00, 36.31it/s]\n",
            "100%|██████████| 25/25 [00:00<00:00, 51.60it/s]\n"
          ]
        }
      ],
      "source": [
        "data_test,target_test=get_sub_data_embed(dataset_test , model_Lp , 5)\n",
        "data_test = np.float32(data_test/(np.max(data_test)-np.min(data_test)))\n",
        "data_train,target_train=get_sub_data_embed(dataset_train , model_Lp , 5)\n",
        "data_train = np.float32(data_train/(np.max(data_train)-np.min(data_train)))"
      ]
    },
    {
      "cell_type": "code",
      "execution_count": 26,
      "metadata": {
        "colab": {
          "base_uri": "https://localhost:8080/",
          "height": 655
        },
        "id": "Gv_x2xhWZq24",
        "outputId": "d73543b7-1b65-4fc2-d024-dc31da7d711c"
      },
      "outputs": [
        {
          "data": {
            "text/plain": [
              "<matplotlib.axes._subplots.AxesSubplot at 0x7f324c1b7e20>"
            ]
          },
          "execution_count": 26,
          "metadata": {},
          "output_type": "execute_result"
        },
        {
          "data": {
            "image/png": "[encoded data removed]",
            "text/plain": [
              "<Figure size 800x800 with 1 Axes>"
            ]
          },
          "metadata": {},
          "output_type": "display_data"
        }
      ],
      "source": [
        "import umap\n",
        "import umap.plot\n",
        "mapper = umap.UMAP().fit(data_test)\n",
        "umap.plot.points(mapper, labels=target_test)"
      ]
    },
    {
      "cell_type": "code",
      "execution_count": 27,
      "metadata": {
        "colab": {
          "base_uri": "https://localhost:8080/",
          "height": 655
        },
        "id": "iuE-iNq9ZiSH",
        "outputId": "5c9d7177-d077-4760-84d8-87bb8a769460"
      },
      "outputs": [
        {
          "data": {
            "text/plain": [
              "<matplotlib.axes._subplots.AxesSubplot at 0x7f3249a3b130>"
            ]
          },
          "execution_count": 27,
          "metadata": {},
          "output_type": "execute_result"
        },
        {
          "data": {
            "image/png": "[encoded data removed]",
            "text/plain": [
              "<Figure size 800x800 with 1 Axes>"
            ]
          },
          "metadata": {},
          "output_type": "display_data"
        }
      ],
      "source": [
        "mapper = umap.UMAP().fit(data_train)\n",
        "umap.plot.points(mapper, labels=target_train)"
      ]
    },
    {
      "cell_type": "code",
      "execution_count": 28,
      "metadata": {
        "colab": {
          "base_uri": "https://localhost:8080/"
        },
        "id": "2m4Yd87p1hyA",
        "outputId": "7789f0cd-61bc-446f-9121-da9bfa987414"
      },
      "outputs": [
        {
          "name": "stdout",
          "output_type": "stream",
          "text": [
            "Test Acc without KNN :0.6549707602339181 \n"
          ]
        },
        {
          "name": "stderr",
          "output_type": "stream",
          "text": [
            "  0%|          | 0/25 [00:00<?, ?it/s]/usr/local/lib/python3.8/dist-packages/torch/nn/functional.py:1331: UserWarning: dropout2d: Received a 2-D input to dropout2d, which is deprecated and will result in an error in a future release. To retain the behavior and silence this warning, please use dropout instead. Note that dropout2d exists to provide channel-wise dropout on inputs with 2 spatial dimensions, a channel dimension, and an optional batch dimension (i.e. 3D or 4D inputs).\n",
            "  warnings.warn(warn_msg)\n",
            "100%|██████████| 25/25 [00:00<00:00, 51.03it/s]\n",
            "100%|██████████| 11/11 [00:00<00:00, 34.25it/s]\n"
          ]
        },
        {
          "name": "stdout",
          "output_type": "stream",
          "text": [
            "\n",
            "Test Acc :  70.76023391812866\n"
          ]
        }
      ],
      "source": [
        "# KNN :\n",
        "print(\"Test Acc without KNN :{} \".format(test_acc_Lp[4]))\n",
        "KNN_on_embeddings(dataset_train , dataset_test , model_Lp , K=5)"
      ]
    },
    {
      "cell_type": "markdown",
      "metadata": {
        "id": "ayVzXB4LEVeM"
      },
      "source": [
        "# **EXAMPLE MINER**"
      ]
    },
    {
      "cell_type": "code",
      "execution_count": 5,
      "metadata": {
        "id": "_4P7KfkjEZyH"
      },
      "outputs": [],
      "source": [
        "def train(model, loss_func, mining_func, device, train_loader, optimizer, epoch):\n",
        "    model.train()\n",
        "    l=0\n",
        "    i=0\n",
        "    for batch_idx, (data, labels) in enumerate(train_loader):\n",
        "        data, labels = data.to(device), labels.to(device)\n",
        "        i=i+1\n",
        "        optimizer.zero_grad()\n",
        "        embeddings = model(data)\n",
        "        indices_tuple = mining_func(embeddings, labels)\n",
        "        loss = loss_func(embeddings, labels, indices_tuple)\n",
        "        l=l+loss\n",
        "        loss.backward()\n",
        "        optimizer.step()\n",
        "    avg_loss = l/i\n",
        "    print(\"Train : avg_loss = {}\".format(avg_loss))\n",
        "    return avg_loss\n",
        "\n",
        "\n",
        "### compute accuracy using AccuracyCalculator from pytorch-metric-learning ###\n",
        "def test(train_set, test_set, model, accuracy_calculator , test_loader , mining_func , loss_func):\n",
        "    train_embeddings, train_labels = get_all_embeddings(train_set, model)\n",
        "    test_embeddings, test_labels = get_all_embeddings(test_set, model)\n",
        "    train_labels = train_labels.squeeze(1)\n",
        "    test_labels = test_labels.squeeze(1)\n",
        "    l=0\n",
        "    j=0\n",
        "    accuracies = accuracy_calculator.get_accuracy(\n",
        "        test_embeddings, train_embeddings, test_labels, train_labels, False\n",
        "    )\n",
        "    test_acc=accuracies[\"precision_at_1\"]\n",
        "    for batch_idx, (data, labels) in enumerate(test_loader):\n",
        "        data, labels = data.to(device), labels.to(device)\n",
        "        embeddings = model(data)\n",
        "        indices_tuple = mining_func(embeddings, labels)\n",
        "        loss = loss_func(embeddings, labels, indices_tuple)\n",
        "        l=l+loss\n",
        "        j=j+1\n",
        "\n",
        "    avg_loss=l/j\n",
        "\n",
        "    print('Test : avg_loss = {}'.format (l))\n",
        "    print('Test : acc = {}'.format (test_acc))\n",
        "\n",
        "    return avg_loss , test_acc \n"
      ]
    },
    {
      "cell_type": "markdown",
      "metadata": {
        "id": "y5Fa5FWmEgs-"
      },
      "source": [
        "# **Cosine Similarity with Mining**"
      ]
    },
    {
      "cell_type": "code",
      "execution_count": 7,
      "metadata": {
        "colab": {
          "base_uri": "https://localhost:8080/"
        },
        "id": "2_ukdOWFEgs-",
        "outputId": "7ba384b7-ac94-4f1c-f106-a0e1d654d5c5"
      },
      "outputs": [
        {
          "name": "stdout",
          "output_type": "stream",
          "text": [
            "Epoch : 1\n"
          ]
        },
        {
          "name": "stderr",
          "output_type": "stream",
          "text": [
            "/usr/local/lib/python3.8/dist-packages/torch/nn/functional.py:1331: UserWarning: dropout2d: Received a 2-D input to dropout2d, which is deprecated and will result in an error in a future release. To retain the behavior and silence this warning, please use dropout instead. Note that dropout2d exists to provide channel-wise dropout on inputs with 2 spatial dimensions, a channel dimension, and an optional batch dimension (i.e. 3D or 4D inputs).\n",
            "  warnings.warn(warn_msg)\n"
          ]
        },
        {
          "name": "stdout",
          "output_type": "stream",
          "text": [
            "Train : avg_loss = 0.1801830530166626\n"
          ]
        },
        {
          "name": "stderr",
          "output_type": "stream",
          "text": [
            "100%|██████████| 25/25 [00:00<00:00, 66.85it/s]\n",
            "100%|██████████| 11/11 [00:00<00:00, 47.68it/s]\n"
          ]
        },
        {
          "name": "stdout",
          "output_type": "stream",
          "text": [
            "Test : avg_loss = 0.3945992887020111\n",
            "Test : acc = 0.43567251461988304\n",
            "******************************************\n",
            "Epoch : 2\n",
            "Train : avg_loss = 0.19245827198028564\n"
          ]
        },
        {
          "name": "stderr",
          "output_type": "stream",
          "text": [
            "100%|██████████| 25/25 [00:00<00:00, 67.82it/s]\n",
            "100%|██████████| 11/11 [00:00<00:00, 45.16it/s]\n"
          ]
        },
        {
          "name": "stdout",
          "output_type": "stream",
          "text": [
            "Test : avg_loss = 0.3655714690685272\n",
            "Test : acc = 0.3538011695906433\n",
            "******************************************\n",
            "Epoch : 3\n",
            "Train : avg_loss = 0.17317858338356018\n"
          ]
        },
        {
          "name": "stderr",
          "output_type": "stream",
          "text": [
            "100%|██████████| 25/25 [00:00<00:00, 67.36it/s]\n",
            "100%|██████████| 11/11 [00:00<00:00, 46.01it/s]\n"
          ]
        },
        {
          "name": "stdout",
          "output_type": "stream",
          "text": [
            "Test : avg_loss = 0.28202420473098755\n",
            "Test : acc = 0.3538011695906433\n",
            "******************************************\n",
            "Epoch : 4\n",
            "Train : avg_loss = 0.14391228556632996\n"
          ]
        },
        {
          "name": "stderr",
          "output_type": "stream",
          "text": [
            "100%|██████████| 25/25 [00:00<00:00, 63.76it/s]\n",
            "100%|██████████| 11/11 [00:00<00:00, 41.23it/s]\n"
          ]
        },
        {
          "name": "stdout",
          "output_type": "stream",
          "text": [
            "Test : avg_loss = 0.24513456225395203\n",
            "Test : acc = 0.3538011695906433\n",
            "******************************************\n",
            "Epoch : 5\n",
            "Train : avg_loss = 0.12016363441944122\n"
          ]
        },
        {
          "name": "stderr",
          "output_type": "stream",
          "text": [
            "100%|██████████| 25/25 [00:00<00:00, 63.02it/s]\n",
            "100%|██████████| 11/11 [00:00<00:00, 44.61it/s]\n"
          ]
        },
        {
          "name": "stdout",
          "output_type": "stream",
          "text": [
            "Test : avg_loss = 0.2250334918498993\n",
            "Test : acc = 0.30701754385964913\n",
            "******************************************\n",
            "Epoch : 6\n",
            "Train : avg_loss = 0.10928318649530411\n"
          ]
        },
        {
          "name": "stderr",
          "output_type": "stream",
          "text": [
            "100%|██████████| 25/25 [00:00<00:00, 62.19it/s]\n",
            "100%|██████████| 11/11 [00:00<00:00, 46.05it/s]\n"
          ]
        },
        {
          "name": "stdout",
          "output_type": "stream",
          "text": [
            "Test : avg_loss = 0.231519877910614\n",
            "Test : acc = 0.3567251461988304\n",
            "******************************************\n",
            "Epoch : 7\n",
            "Train : avg_loss = 0.11267156898975372\n"
          ]
        },
        {
          "name": "stderr",
          "output_type": "stream",
          "text": [
            "100%|██████████| 25/25 [00:00<00:00, 65.10it/s]\n",
            "100%|██████████| 11/11 [00:00<00:00, 46.50it/s]\n"
          ]
        },
        {
          "name": "stdout",
          "output_type": "stream",
          "text": [
            "Test : avg_loss = 0.2152634561061859\n",
            "Test : acc = 0.3362573099415205\n",
            "******************************************\n",
            "Epoch : 8\n",
            "Train : avg_loss = 0.11057652533054352\n"
          ]
        },
        {
          "name": "stderr",
          "output_type": "stream",
          "text": [
            "100%|██████████| 25/25 [00:00<00:00, 62.85it/s]\n",
            "100%|██████████| 11/11 [00:00<00:00, 43.11it/s]\n"
          ]
        },
        {
          "name": "stdout",
          "output_type": "stream",
          "text": [
            "Test : avg_loss = 0.22258490324020386\n",
            "Test : acc = 0.3333333333333333\n",
            "******************************************\n",
            "Epoch : 9\n",
            "Train : avg_loss = 0.10860171169042587\n"
          ]
        },
        {
          "name": "stderr",
          "output_type": "stream",
          "text": [
            "100%|██████████| 25/25 [00:00<00:00, 66.11it/s]\n",
            "100%|██████████| 11/11 [00:00<00:00, 43.26it/s]\n"
          ]
        },
        {
          "name": "stdout",
          "output_type": "stream",
          "text": [
            "Test : avg_loss = 0.21901899576187134\n",
            "Test : acc = 0.34210526315789475\n",
            "******************************************\n",
            "Epoch : 10\n",
            "Train : avg_loss = 0.11171554028987885\n"
          ]
        },
        {
          "name": "stderr",
          "output_type": "stream",
          "text": [
            "100%|██████████| 25/25 [00:00<00:00, 64.73it/s]\n",
            "100%|██████████| 11/11 [00:00<00:00, 42.20it/s]\n"
          ]
        },
        {
          "name": "stdout",
          "output_type": "stream",
          "text": [
            "Test : avg_loss = 0.2177855372428894\n",
            "Test : acc = 0.34502923976608185\n",
            "******************************************\n",
            "Epoch : 11\n",
            "Train : avg_loss = 0.1078316941857338\n"
          ]
        },
        {
          "name": "stderr",
          "output_type": "stream",
          "text": [
            "100%|██████████| 25/25 [00:00<00:00, 60.57it/s]\n",
            "100%|██████████| 11/11 [00:00<00:00, 39.95it/s]\n"
          ]
        },
        {
          "name": "stdout",
          "output_type": "stream",
          "text": [
            "Test : avg_loss = 0.23141753673553467\n",
            "Test : acc = 0.3830409356725146\n",
            "******************************************\n",
            "Epoch : 12\n",
            "Train : avg_loss = 0.11042287945747375\n"
          ]
        },
        {
          "name": "stderr",
          "output_type": "stream",
          "text": [
            "100%|██████████| 25/25 [00:00<00:00, 61.78it/s]\n",
            "100%|██████████| 11/11 [00:00<00:00, 41.19it/s]\n"
          ]
        },
        {
          "name": "stdout",
          "output_type": "stream",
          "text": [
            "Test : avg_loss = 0.2163195013999939\n",
            "Test : acc = 0.4152046783625731\n",
            "******************************************\n",
            "Epoch : 13\n",
            "Train : avg_loss = 0.10654780268669128\n"
          ]
        },
        {
          "name": "stderr",
          "output_type": "stream",
          "text": [
            "100%|██████████| 25/25 [00:00<00:00, 61.40it/s]\n",
            "100%|██████████| 11/11 [00:00<00:00, 37.81it/s]\n"
          ]
        },
        {
          "name": "stdout",
          "output_type": "stream",
          "text": [
            "Test : avg_loss = 0.21633197367191315\n",
            "Test : acc = 0.41228070175438597\n",
            "******************************************\n",
            "Epoch : 14\n",
            "Train : avg_loss = 0.11037951707839966\n"
          ]
        },
        {
          "name": "stderr",
          "output_type": "stream",
          "text": [
            "100%|██████████| 25/25 [00:00<00:00, 39.69it/s]\n",
            "100%|██████████| 11/11 [00:00<00:00, 25.97it/s]\n"
          ]
        },
        {
          "name": "stdout",
          "output_type": "stream",
          "text": [
            "Test : avg_loss = 0.21399442851543427\n",
            "Test : acc = 0.4415204678362573\n",
            "******************************************\n",
            "Epoch : 15\n",
            "Train : avg_loss = 0.1059444397687912\n"
          ]
        },
        {
          "name": "stderr",
          "output_type": "stream",
          "text": [
            "100%|██████████| 25/25 [00:00<00:00, 60.75it/s]\n",
            "100%|██████████| 11/11 [00:00<00:00, 38.85it/s]\n"
          ]
        },
        {
          "name": "stdout",
          "output_type": "stream",
          "text": [
            "Test : avg_loss = 0.23075607419013977\n",
            "Test : acc = 0.4269005847953216\n",
            "******************************************\n",
            "Epoch : 16\n",
            "Train : avg_loss = 0.11186293512582779\n"
          ]
        },
        {
          "name": "stderr",
          "output_type": "stream",
          "text": [
            "100%|██████████| 25/25 [00:00<00:00, 58.83it/s]\n",
            "100%|██████████| 11/11 [00:00<00:00, 39.42it/s]\n"
          ]
        },
        {
          "name": "stdout",
          "output_type": "stream",
          "text": [
            "Test : avg_loss = 0.21388806402683258\n",
            "Test : acc = 0.4444444444444444\n",
            "******************************************\n",
            "Epoch : 17\n",
            "Train : avg_loss = 0.11150573939085007\n"
          ]
        },
        {
          "name": "stderr",
          "output_type": "stream",
          "text": [
            "100%|██████████| 25/25 [00:00<00:00, 60.32it/s]\n",
            "100%|██████████| 11/11 [00:00<00:00, 42.07it/s]\n"
          ]
        },
        {
          "name": "stdout",
          "output_type": "stream",
          "text": [
            "Test : avg_loss = 0.2219569981098175\n",
            "Test : acc = 0.4853801169590643\n",
            "******************************************\n",
            "Epoch : 18\n",
            "Train : avg_loss = 0.11404573917388916\n"
          ]
        },
        {
          "name": "stderr",
          "output_type": "stream",
          "text": [
            "100%|██████████| 25/25 [00:00<00:00, 60.47it/s]\n",
            "100%|██████████| 11/11 [00:00<00:00, 36.13it/s]\n"
          ]
        },
        {
          "name": "stdout",
          "output_type": "stream",
          "text": [
            "Test : avg_loss = 0.21100884675979614\n",
            "Test : acc = 0.4824561403508772\n",
            "******************************************\n",
            "Epoch : 19\n",
            "Train : avg_loss = 0.10570698231458664\n"
          ]
        },
        {
          "name": "stderr",
          "output_type": "stream",
          "text": [
            "100%|██████████| 25/25 [00:00<00:00, 58.99it/s]\n",
            "100%|██████████| 11/11 [00:00<00:00, 36.18it/s]\n"
          ]
        },
        {
          "name": "stdout",
          "output_type": "stream",
          "text": [
            "Test : avg_loss = 0.20607328414916992\n",
            "Test : acc = 0.5087719298245614\n",
            "******************************************\n",
            "Epoch : 20\n",
            "Train : avg_loss = 0.10975994914770126\n"
          ]
        },
        {
          "name": "stderr",
          "output_type": "stream",
          "text": [
            "100%|██████████| 25/25 [00:00<00:00, 57.79it/s]\n",
            "100%|██████████| 11/11 [00:00<00:00, 37.40it/s]\n"
          ]
        },
        {
          "name": "stdout",
          "output_type": "stream",
          "text": [
            "Test : avg_loss = 0.20803380012512207\n",
            "Test : acc = 0.5497076023391813\n",
            "******************************************\n",
            "Epoch : 21\n",
            "Train : avg_loss = 0.10457762330770493\n"
          ]
        },
        {
          "name": "stderr",
          "output_type": "stream",
          "text": [
            "100%|██████████| 25/25 [00:00<00:00, 35.68it/s]\n",
            "100%|██████████| 11/11 [00:00<00:00, 22.15it/s]\n"
          ]
        },
        {
          "name": "stdout",
          "output_type": "stream",
          "text": [
            "Test : avg_loss = 0.21003711223602295\n",
            "Test : acc = 0.52046783625731\n",
            "******************************************\n",
            "Epoch : 22\n",
            "Train : avg_loss = 0.10692638158798218\n"
          ]
        },
        {
          "name": "stderr",
          "output_type": "stream",
          "text": [
            "100%|██████████| 25/25 [00:00<00:00, 58.28it/s]\n",
            "100%|██████████| 11/11 [00:00<00:00, 39.78it/s]\n"
          ]
        },
        {
          "name": "stdout",
          "output_type": "stream",
          "text": [
            "Test : avg_loss = 0.21115699410438538\n",
            "Test : acc = 0.5233918128654971\n",
            "******************************************\n",
            "Epoch : 23\n",
            "Train : avg_loss = 0.10517704486846924\n"
          ]
        },
        {
          "name": "stderr",
          "output_type": "stream",
          "text": [
            "100%|██████████| 25/25 [00:00<00:00, 56.07it/s]\n",
            "100%|██████████| 11/11 [00:00<00:00, 37.31it/s]\n"
          ]
        },
        {
          "name": "stdout",
          "output_type": "stream",
          "text": [
            "Test : avg_loss = 0.2120898962020874\n",
            "Test : acc = 0.5380116959064327\n",
            "******************************************\n",
            "Epoch : 24\n",
            "Train : avg_loss = 0.10300324857234955\n"
          ]
        },
        {
          "name": "stderr",
          "output_type": "stream",
          "text": [
            "100%|██████████| 25/25 [00:00<00:00, 55.07it/s]\n",
            "100%|██████████| 11/11 [00:00<00:00, 36.50it/s]\n"
          ]
        },
        {
          "name": "stdout",
          "output_type": "stream",
          "text": [
            "Test : avg_loss = 0.2130582183599472\n",
            "Test : acc = 0.5380116959064327\n",
            "******************************************\n",
            "Epoch : 25\n",
            "Train : avg_loss = 0.10413513332605362\n"
          ]
        },
        {
          "name": "stderr",
          "output_type": "stream",
          "text": [
            "100%|██████████| 25/25 [00:00<00:00, 58.09it/s]\n",
            "100%|██████████| 11/11 [00:00<00:00, 34.92it/s]\n"
          ]
        },
        {
          "name": "stdout",
          "output_type": "stream",
          "text": [
            "Test : avg_loss = 0.21561652421951294\n",
            "Test : acc = 0.5701754385964912\n",
            "******************************************\n",
            "Epoch : 26\n",
            "Train : avg_loss = 0.10558569431304932\n"
          ]
        },
        {
          "name": "stderr",
          "output_type": "stream",
          "text": [
            "100%|██████████| 25/25 [00:00<00:00, 58.72it/s]\n",
            "100%|██████████| 11/11 [00:00<00:00, 32.00it/s]\n"
          ]
        },
        {
          "name": "stdout",
          "output_type": "stream",
          "text": [
            "Test : avg_loss = 0.21981534361839294\n",
            "Test : acc = 0.5058479532163743\n",
            "******************************************\n",
            "Epoch : 27\n",
            "Train : avg_loss = 0.10945107042789459\n"
          ]
        },
        {
          "name": "stderr",
          "output_type": "stream",
          "text": [
            "100%|██████████| 25/25 [00:00<00:00, 55.17it/s]\n",
            "100%|██████████| 11/11 [00:00<00:00, 36.97it/s]\n"
          ]
        },
        {
          "name": "stdout",
          "output_type": "stream",
          "text": [
            "Test : avg_loss = 0.20330974459648132\n",
            "Test : acc = 0.5467836257309941\n",
            "******************************************\n",
            "Epoch : 28\n",
            "Train : avg_loss = 0.10497798770666122\n"
          ]
        },
        {
          "name": "stderr",
          "output_type": "stream",
          "text": [
            "100%|██████████| 25/25 [00:00<00:00, 56.35it/s]\n",
            "100%|██████████| 11/11 [00:00<00:00, 37.21it/s]\n"
          ]
        },
        {
          "name": "stdout",
          "output_type": "stream",
          "text": [
            "Test : avg_loss = 0.2073618471622467\n",
            "Test : acc = 0.5877192982456141\n",
            "******************************************\n",
            "Epoch : 29\n",
            "Train : avg_loss = 0.10863862931728363\n"
          ]
        },
        {
          "name": "stderr",
          "output_type": "stream",
          "text": [
            "100%|██████████| 25/25 [00:00<00:00, 57.47it/s]\n",
            "100%|██████████| 11/11 [00:00<00:00, 34.91it/s]\n"
          ]
        },
        {
          "name": "stdout",
          "output_type": "stream",
          "text": [
            "Test : avg_loss = 0.20706039667129517\n",
            "Test : acc = 0.5701754385964912\n",
            "******************************************\n",
            "Epoch : 30\n",
            "Train : avg_loss = 0.10152031481266022\n"
          ]
        },
        {
          "name": "stderr",
          "output_type": "stream",
          "text": [
            "100%|██████████| 25/25 [00:01<00:00, 19.78it/s]\n",
            "100%|██████████| 11/11 [00:00<00:00, 35.51it/s]\n"
          ]
        },
        {
          "name": "stdout",
          "output_type": "stream",
          "text": [
            "Test : avg_loss = 0.19145870208740234\n",
            "Test : acc = 0.5760233918128655\n",
            "******************************************\n",
            "Epoch : 31\n",
            "Train : avg_loss = 0.1022443026304245\n"
          ]
        },
        {
          "name": "stderr",
          "output_type": "stream",
          "text": [
            "100%|██████████| 25/25 [00:00<00:00, 53.49it/s]\n",
            "100%|██████████| 11/11 [00:00<00:00, 34.79it/s]\n"
          ]
        },
        {
          "name": "stdout",
          "output_type": "stream",
          "text": [
            "Test : avg_loss = 0.20129087567329407\n",
            "Test : acc = 0.6023391812865497\n",
            "******************************************\n",
            "Epoch : 32\n",
            "Train : avg_loss = 0.10516296327114105\n"
          ]
        },
        {
          "name": "stderr",
          "output_type": "stream",
          "text": [
            "100%|██████████| 25/25 [00:00<00:00, 55.11it/s]\n",
            "100%|██████████| 11/11 [00:00<00:00, 32.67it/s]\n"
          ]
        },
        {
          "name": "stdout",
          "output_type": "stream",
          "text": [
            "Test : avg_loss = 0.21219292283058167\n",
            "Test : acc = 0.6111111111111112\n",
            "******************************************\n",
            "Epoch : 33\n",
            "Train : avg_loss = 0.1010897308588028\n"
          ]
        },
        {
          "name": "stderr",
          "output_type": "stream",
          "text": [
            "100%|██████████| 25/25 [00:00<00:00, 54.48it/s]\n",
            "100%|██████████| 11/11 [00:00<00:00, 33.42it/s]\n"
          ]
        },
        {
          "name": "stdout",
          "output_type": "stream",
          "text": [
            "Test : avg_loss = 0.18968364596366882\n",
            "Test : acc = 0.6432748538011696\n",
            "******************************************\n",
            "Epoch : 34\n",
            "Train : avg_loss = 0.09858671575784683\n"
          ]
        },
        {
          "name": "stderr",
          "output_type": "stream",
          "text": [
            "100%|██████████| 25/25 [00:00<00:00, 53.86it/s]\n",
            "100%|██████████| 11/11 [00:00<00:00, 34.62it/s]\n"
          ]
        },
        {
          "name": "stdout",
          "output_type": "stream",
          "text": [
            "Test : avg_loss = 0.20088738203048706\n",
            "Test : acc = 0.6491228070175439\n",
            "******************************************\n",
            "Epoch : 35\n",
            "Train : avg_loss = 0.09954225271940231\n"
          ]
        },
        {
          "name": "stderr",
          "output_type": "stream",
          "text": [
            "100%|██████████| 25/25 [00:00<00:00, 52.39it/s]\n",
            "100%|██████████| 11/11 [00:00<00:00, 33.74it/s]\n"
          ]
        },
        {
          "name": "stdout",
          "output_type": "stream",
          "text": [
            "Test : avg_loss = 0.1907164752483368\n",
            "Test : acc = 0.6578947368421053\n",
            "******************************************\n",
            "Epoch : 36\n",
            "Train : avg_loss = 0.10050251334905624\n"
          ]
        },
        {
          "name": "stderr",
          "output_type": "stream",
          "text": [
            "100%|██████████| 25/25 [00:00<00:00, 54.80it/s]\n",
            "100%|██████████| 11/11 [00:00<00:00, 35.13it/s]\n"
          ]
        },
        {
          "name": "stdout",
          "output_type": "stream",
          "text": [
            "Test : avg_loss = 0.1942889541387558\n",
            "Test : acc = 0.6081871345029239\n",
            "******************************************\n",
            "Epoch : 37\n",
            "Train : avg_loss = 0.09718216955661774\n"
          ]
        },
        {
          "name": "stderr",
          "output_type": "stream",
          "text": [
            "100%|██████████| 25/25 [00:00<00:00, 53.69it/s]\n",
            "100%|██████████| 11/11 [00:00<00:00, 31.52it/s]\n"
          ]
        },
        {
          "name": "stdout",
          "output_type": "stream",
          "text": [
            "Test : avg_loss = 0.19583328068256378\n",
            "Test : acc = 0.6374269005847953\n",
            "******************************************\n",
            "Epoch : 38\n",
            "Train : avg_loss = 0.10031402856111526\n"
          ]
        },
        {
          "name": "stderr",
          "output_type": "stream",
          "text": [
            "100%|██████████| 25/25 [00:00<00:00, 50.99it/s]\n",
            "100%|██████████| 11/11 [00:00<00:00, 30.68it/s]\n"
          ]
        },
        {
          "name": "stdout",
          "output_type": "stream",
          "text": [
            "Test : avg_loss = 0.22309984266757965\n",
            "Test : acc = 0.6695906432748538\n",
            "******************************************\n",
            "Epoch : 39\n",
            "Train : avg_loss = 0.101297527551651\n"
          ]
        },
        {
          "name": "stderr",
          "output_type": "stream",
          "text": [
            "100%|██████████| 25/25 [00:00<00:00, 49.23it/s]\n",
            "100%|██████████| 11/11 [00:00<00:00, 33.67it/s]\n"
          ]
        },
        {
          "name": "stdout",
          "output_type": "stream",
          "text": [
            "Test : avg_loss = 0.19597208499908447\n",
            "Test : acc = 0.716374269005848\n",
            "******************************************\n",
            "Epoch : 40\n",
            "Train : avg_loss = 0.09893060475587845\n"
          ]
        },
        {
          "name": "stderr",
          "output_type": "stream",
          "text": [
            "100%|██████████| 25/25 [00:00<00:00, 53.42it/s]\n",
            "100%|██████████| 11/11 [00:00<00:00, 34.70it/s]\n"
          ]
        },
        {
          "name": "stdout",
          "output_type": "stream",
          "text": [
            "Test : avg_loss = 0.20286160707473755\n",
            "Test : acc = 0.672514619883041\n",
            "******************************************\n",
            "Epoch : 41\n",
            "Train : avg_loss = 0.10024109482765198\n"
          ]
        },
        {
          "name": "stderr",
          "output_type": "stream",
          "text": [
            "100%|██████████| 25/25 [00:00<00:00, 55.06it/s]\n",
            "100%|██████████| 11/11 [00:00<00:00, 35.33it/s]\n"
          ]
        },
        {
          "name": "stdout",
          "output_type": "stream",
          "text": [
            "Test : avg_loss = 0.19926005601882935\n",
            "Test : acc = 0.6608187134502924\n",
            "******************************************\n",
            "Epoch : 42\n",
            "Train : avg_loss = 0.10056997090578079\n"
          ]
        },
        {
          "name": "stderr",
          "output_type": "stream",
          "text": [
            "100%|██████████| 25/25 [00:00<00:00, 55.88it/s]\n",
            "100%|██████████| 11/11 [00:00<00:00, 35.28it/s]\n"
          ]
        },
        {
          "name": "stdout",
          "output_type": "stream",
          "text": [
            "Test : avg_loss = 0.19065207242965698\n",
            "Test : acc = 0.6491228070175439\n",
            "******************************************\n",
            "Epoch : 43\n",
            "Train : avg_loss = 0.09528951346874237\n"
          ]
        },
        {
          "name": "stderr",
          "output_type": "stream",
          "text": [
            "100%|██████████| 25/25 [00:00<00:00, 51.24it/s]\n",
            "100%|██████████| 11/11 [00:00<00:00, 33.13it/s]\n"
          ]
        },
        {
          "name": "stdout",
          "output_type": "stream",
          "text": [
            "Test : avg_loss = 0.1831807792186737\n",
            "Test : acc = 0.6871345029239766\n",
            "******************************************\n",
            "Epoch : 44\n",
            "Train : avg_loss = 0.09460782259702682\n"
          ]
        },
        {
          "name": "stderr",
          "output_type": "stream",
          "text": [
            "100%|██████████| 25/25 [00:00<00:00, 51.73it/s]\n",
            "100%|██████████| 11/11 [00:00<00:00, 34.67it/s]\n"
          ]
        },
        {
          "name": "stdout",
          "output_type": "stream",
          "text": [
            "Test : avg_loss = 0.18987497687339783\n",
            "Test : acc = 0.6754385964912281\n",
            "******************************************\n",
            "Epoch : 45\n",
            "Train : avg_loss = 0.09387314319610596\n"
          ]
        },
        {
          "name": "stderr",
          "output_type": "stream",
          "text": [
            "100%|██████████| 25/25 [00:00<00:00, 52.55it/s]\n",
            "100%|██████████| 11/11 [00:00<00:00, 33.33it/s]\n"
          ]
        },
        {
          "name": "stdout",
          "output_type": "stream",
          "text": [
            "Test : avg_loss = 0.19158127903938293\n",
            "Test : acc = 0.7280701754385965\n",
            "******************************************\n",
            "Epoch : 46\n",
            "Train : avg_loss = 0.09984994679689407\n"
          ]
        },
        {
          "name": "stderr",
          "output_type": "stream",
          "text": [
            "100%|██████████| 25/25 [00:00<00:00, 51.83it/s]\n",
            "100%|██████████| 11/11 [00:00<00:00, 32.05it/s]\n"
          ]
        },
        {
          "name": "stdout",
          "output_type": "stream",
          "text": [
            "Test : avg_loss = 0.19513624906539917\n",
            "Test : acc = 0.7222222222222222\n",
            "******************************************\n",
            "Epoch : 47\n",
            "Train : avg_loss = 0.09405706822872162\n"
          ]
        },
        {
          "name": "stderr",
          "output_type": "stream",
          "text": [
            "100%|██████████| 25/25 [00:00<00:00, 51.93it/s]\n",
            "100%|██████████| 11/11 [00:00<00:00, 31.96it/s]\n"
          ]
        },
        {
          "name": "stdout",
          "output_type": "stream",
          "text": [
            "Test : avg_loss = 0.192559152841568\n",
            "Test : acc = 0.7280701754385965\n",
            "******************************************\n",
            "Epoch : 48\n",
            "Train : avg_loss = 0.10073743760585785\n"
          ]
        },
        {
          "name": "stderr",
          "output_type": "stream",
          "text": [
            "100%|██████████| 25/25 [00:00<00:00, 49.22it/s]\n",
            "100%|██████████| 11/11 [00:00<00:00, 31.46it/s]\n"
          ]
        },
        {
          "name": "stdout",
          "output_type": "stream",
          "text": [
            "Test : avg_loss = 0.19624462723731995\n",
            "Test : acc = 0.7046783625730995\n",
            "******************************************\n",
            "Epoch : 49\n",
            "Train : avg_loss = 0.10006438195705414\n"
          ]
        },
        {
          "name": "stderr",
          "output_type": "stream",
          "text": [
            "100%|██████████| 25/25 [00:00<00:00, 49.43it/s]\n",
            "100%|██████████| 11/11 [00:00<00:00, 30.41it/s]\n"
          ]
        },
        {
          "name": "stdout",
          "output_type": "stream",
          "text": [
            "Test : avg_loss = 0.18625286221504211\n",
            "Test : acc = 0.695906432748538\n",
            "******************************************\n",
            "Epoch : 50\n",
            "Train : avg_loss = 0.09754426777362823\n"
          ]
        },
        {
          "name": "stderr",
          "output_type": "stream",
          "text": [
            "100%|██████████| 25/25 [00:00<00:00, 48.54it/s]\n",
            "100%|██████████| 11/11 [00:00<00:00, 31.05it/s]\n"
          ]
        },
        {
          "name": "stdout",
          "output_type": "stream",
          "text": [
            "Test : avg_loss = 0.19314727187156677\n",
            "Test : acc = 0.7251461988304093\n",
            "******************************************\n",
            "Epoch : 51\n",
            "Train : avg_loss = 0.09759971499443054\n"
          ]
        },
        {
          "name": "stderr",
          "output_type": "stream",
          "text": [
            "100%|██████████| 25/25 [00:00<00:00, 48.12it/s]\n",
            "100%|██████████| 11/11 [00:00<00:00, 30.65it/s]\n"
          ]
        },
        {
          "name": "stdout",
          "output_type": "stream",
          "text": [
            "Test : avg_loss = 0.19020627439022064\n",
            "Test : acc = 0.7426900584795322\n",
            "******************************************\n",
            "Epoch : 52\n",
            "Train : avg_loss = 0.10208708047866821\n"
          ]
        },
        {
          "name": "stderr",
          "output_type": "stream",
          "text": [
            "100%|██████████| 25/25 [00:00<00:00, 47.91it/s]\n",
            "100%|██████████| 11/11 [00:00<00:00, 31.47it/s]\n"
          ]
        },
        {
          "name": "stdout",
          "output_type": "stream",
          "text": [
            "Test : avg_loss = 0.19173699617385864\n",
            "Test : acc = 0.7631578947368421\n",
            "******************************************\n",
            "Epoch : 53\n",
            "Train : avg_loss = 0.09739746153354645\n"
          ]
        },
        {
          "name": "stderr",
          "output_type": "stream",
          "text": [
            "100%|██████████| 25/25 [00:00<00:00, 48.66it/s]\n",
            "100%|██████████| 11/11 [00:00<00:00, 29.59it/s]\n"
          ]
        },
        {
          "name": "stdout",
          "output_type": "stream",
          "text": [
            "Test : avg_loss = 0.20042426884174347\n",
            "Test : acc = 0.7514619883040936\n",
            "******************************************\n",
            "Epoch : 54\n",
            "Train : avg_loss = 0.0910138264298439\n"
          ]
        },
        {
          "name": "stderr",
          "output_type": "stream",
          "text": [
            "100%|██████████| 25/25 [00:00<00:00, 51.15it/s]\n",
            "100%|██████████| 11/11 [00:00<00:00, 29.09it/s]\n"
          ]
        },
        {
          "name": "stdout",
          "output_type": "stream",
          "text": [
            "Test : avg_loss = 0.19585758447647095\n",
            "Test : acc = 0.7690058479532164\n",
            "******************************************\n",
            "Epoch : 55\n",
            "Train : avg_loss = 0.09613175690174103\n"
          ]
        },
        {
          "name": "stderr",
          "output_type": "stream",
          "text": [
            "100%|██████████| 25/25 [00:00<00:00, 47.36it/s]\n",
            "100%|██████████| 11/11 [00:00<00:00, 29.70it/s]\n"
          ]
        },
        {
          "name": "stdout",
          "output_type": "stream",
          "text": [
            "Test : avg_loss = 0.20120514929294586\n",
            "Test : acc = 0.7719298245614035\n",
            "******************************************\n",
            "Epoch : 56\n",
            "Train : avg_loss = 0.09327437728643417\n"
          ]
        },
        {
          "name": "stderr",
          "output_type": "stream",
          "text": [
            "100%|██████████| 25/25 [00:00<00:00, 46.92it/s]\n",
            "100%|██████████| 11/11 [00:00<00:00, 29.61it/s]\n"
          ]
        },
        {
          "name": "stdout",
          "output_type": "stream",
          "text": [
            "Test : avg_loss = 0.19772998988628387\n",
            "Test : acc = 0.7456140350877193\n",
            "******************************************\n",
            "Epoch : 57\n",
            "Train : avg_loss = 0.09504224359989166\n"
          ]
        },
        {
          "name": "stderr",
          "output_type": "stream",
          "text": [
            "100%|██████████| 25/25 [00:00<00:00, 47.55it/s]\n",
            "100%|██████████| 11/11 [00:00<00:00, 28.91it/s]\n"
          ]
        },
        {
          "name": "stdout",
          "output_type": "stream",
          "text": [
            "Test : avg_loss = 0.18556112051010132\n",
            "Test : acc = 0.7339181286549707\n",
            "******************************************\n",
            "Epoch : 58\n",
            "Train : avg_loss = 0.09416838735342026\n"
          ]
        },
        {
          "name": "stderr",
          "output_type": "stream",
          "text": [
            "100%|██████████| 25/25 [00:00<00:00, 49.47it/s]\n",
            "100%|██████████| 11/11 [00:00<00:00, 29.86it/s]\n"
          ]
        },
        {
          "name": "stdout",
          "output_type": "stream",
          "text": [
            "Test : avg_loss = 0.19526150822639465\n",
            "Test : acc = 0.7397660818713451\n",
            "******************************************\n",
            "Epoch : 59\n",
            "Train : avg_loss = 0.09242774546146393\n"
          ]
        },
        {
          "name": "stderr",
          "output_type": "stream",
          "text": [
            "100%|██████████| 25/25 [00:00<00:00, 47.84it/s]\n",
            "100%|██████████| 11/11 [00:00<00:00, 28.58it/s]\n"
          ]
        },
        {
          "name": "stdout",
          "output_type": "stream",
          "text": [
            "Test : avg_loss = 0.1925307959318161\n",
            "Test : acc = 0.7514619883040936\n",
            "******************************************\n",
            "Epoch : 60\n",
            "Train : avg_loss = 0.09475426375865936\n"
          ]
        },
        {
          "name": "stderr",
          "output_type": "stream",
          "text": [
            "100%|██████████| 25/25 [00:00<00:00, 48.23it/s]\n",
            "100%|██████████| 11/11 [00:00<00:00, 28.60it/s]\n"
          ]
        },
        {
          "name": "stdout",
          "output_type": "stream",
          "text": [
            "Test : avg_loss = 0.2001357227563858\n",
            "Test : acc = 0.7865497076023392\n",
            "******************************************\n",
            "Epoch : 61\n",
            "Train : avg_loss = 0.09448254108428955\n"
          ]
        },
        {
          "name": "stderr",
          "output_type": "stream",
          "text": [
            "100%|██████████| 25/25 [00:00<00:00, 48.08it/s]\n",
            "100%|██████████| 11/11 [00:00<00:00, 28.42it/s]\n"
          ]
        },
        {
          "name": "stdout",
          "output_type": "stream",
          "text": [
            "Test : avg_loss = 0.1958812177181244\n",
            "Test : acc = 0.7543859649122807\n",
            "******************************************\n",
            "Epoch : 62\n",
            "Train : avg_loss = 0.09627770632505417\n"
          ]
        },
        {
          "name": "stderr",
          "output_type": "stream",
          "text": [
            "100%|██████████| 25/25 [00:00<00:00, 46.55it/s]\n",
            "100%|██████████| 11/11 [00:00<00:00, 27.59it/s]\n"
          ]
        },
        {
          "name": "stdout",
          "output_type": "stream",
          "text": [
            "Test : avg_loss = 0.19414249062538147\n",
            "Test : acc = 0.7865497076023392\n",
            "******************************************\n",
            "Epoch : 63\n",
            "Train : avg_loss = 0.09122460335493088\n"
          ]
        },
        {
          "name": "stderr",
          "output_type": "stream",
          "text": [
            "100%|██████████| 25/25 [00:00<00:00, 47.29it/s]\n",
            "100%|██████████| 11/11 [00:00<00:00, 27.97it/s]\n"
          ]
        },
        {
          "name": "stdout",
          "output_type": "stream",
          "text": [
            "Test : avg_loss = 0.20533329248428345\n",
            "Test : acc = 0.7748538011695907\n",
            "******************************************\n",
            "Epoch : 64\n",
            "Train : avg_loss = 0.0977148488163948\n"
          ]
        },
        {
          "name": "stderr",
          "output_type": "stream",
          "text": [
            "100%|██████████| 25/25 [00:00<00:00, 47.22it/s]\n",
            "100%|██████████| 11/11 [00:00<00:00, 27.72it/s]\n"
          ]
        },
        {
          "name": "stdout",
          "output_type": "stream",
          "text": [
            "Test : avg_loss = 0.1851712167263031\n",
            "Test : acc = 0.7777777777777778\n",
            "******************************************\n",
            "Epoch : 65\n",
            "Train : avg_loss = 0.09675924479961395\n"
          ]
        },
        {
          "name": "stderr",
          "output_type": "stream",
          "text": [
            "100%|██████████| 25/25 [00:00<00:00, 48.48it/s]\n",
            "100%|██████████| 11/11 [00:00<00:00, 28.59it/s]\n"
          ]
        },
        {
          "name": "stdout",
          "output_type": "stream",
          "text": [
            "Test : avg_loss = 0.1923629343509674\n",
            "Test : acc = 0.7923976608187134\n",
            "******************************************\n",
            "Epoch : 66\n",
            "Train : avg_loss = 0.08811257034540176\n"
          ]
        },
        {
          "name": "stderr",
          "output_type": "stream",
          "text": [
            "100%|██████████| 25/25 [00:00<00:00, 48.25it/s]\n",
            "100%|██████████| 11/11 [00:00<00:00, 26.74it/s]\n"
          ]
        },
        {
          "name": "stdout",
          "output_type": "stream",
          "text": [
            "Test : avg_loss = 0.19490642845630646\n",
            "Test : acc = 0.7982456140350878\n",
            "******************************************\n",
            "Epoch : 67\n",
            "Train : avg_loss = 0.09264189004898071\n"
          ]
        },
        {
          "name": "stderr",
          "output_type": "stream",
          "text": [
            "100%|██████████| 25/25 [00:00<00:00, 45.93it/s]\n",
            "100%|██████████| 11/11 [00:00<00:00, 28.15it/s]\n"
          ]
        },
        {
          "name": "stdout",
          "output_type": "stream",
          "text": [
            "Test : avg_loss = 0.1985955536365509\n",
            "Test : acc = 0.783625730994152\n",
            "******************************************\n",
            "Epoch : 68\n",
            "Train : avg_loss = 0.09285572916269302\n"
          ]
        },
        {
          "name": "stderr",
          "output_type": "stream",
          "text": [
            "100%|██████████| 25/25 [00:00<00:00, 46.83it/s]\n",
            "100%|██████████| 11/11 [00:00<00:00, 26.59it/s]\n"
          ]
        },
        {
          "name": "stdout",
          "output_type": "stream",
          "text": [
            "Test : avg_loss = 0.19133669137954712\n",
            "Test : acc = 0.783625730994152\n",
            "******************************************\n",
            "Epoch : 69\n",
            "Train : avg_loss = 0.09304997324943542\n"
          ]
        },
        {
          "name": "stderr",
          "output_type": "stream",
          "text": [
            "100%|██████████| 25/25 [00:00<00:00, 46.96it/s]\n",
            "100%|██████████| 11/11 [00:00<00:00, 27.79it/s]\n"
          ]
        },
        {
          "name": "stdout",
          "output_type": "stream",
          "text": [
            "Test : avg_loss = 0.20286825299263\n",
            "Test : acc = 0.7894736842105263\n",
            "******************************************\n",
            "Epoch : 70\n",
            "Train : avg_loss = 0.0989847332239151\n"
          ]
        },
        {
          "name": "stderr",
          "output_type": "stream",
          "text": [
            "100%|██████████| 25/25 [00:00<00:00, 44.32it/s]\n",
            "100%|██████████| 11/11 [00:00<00:00, 28.60it/s]\n"
          ]
        },
        {
          "name": "stdout",
          "output_type": "stream",
          "text": [
            "Test : avg_loss = 0.20685118436813354\n",
            "Test : acc = 0.8011695906432749\n",
            "******************************************\n",
            "Epoch : 71\n",
            "Train : avg_loss = 0.09409783780574799\n"
          ]
        },
        {
          "name": "stderr",
          "output_type": "stream",
          "text": [
            "100%|██████████| 25/25 [00:00<00:00, 44.63it/s]\n",
            "100%|██████████| 11/11 [00:00<00:00, 27.06it/s]\n"
          ]
        },
        {
          "name": "stdout",
          "output_type": "stream",
          "text": [
            "Test : avg_loss = 0.1934073567390442\n",
            "Test : acc = 0.7953216374269005\n",
            "******************************************\n",
            "Epoch : 72\n",
            "Train : avg_loss = 0.10694079101085663\n"
          ]
        },
        {
          "name": "stderr",
          "output_type": "stream",
          "text": [
            "100%|██████████| 25/25 [00:00<00:00, 45.49it/s]\n",
            "100%|██████████| 11/11 [00:00<00:00, 26.84it/s]\n"
          ]
        },
        {
          "name": "stdout",
          "output_type": "stream",
          "text": [
            "Test : avg_loss = 0.19574685394763947\n",
            "Test : acc = 0.804093567251462\n",
            "******************************************\n",
            "Epoch : 73\n",
            "Train : avg_loss = 0.10305047780275345\n"
          ]
        },
        {
          "name": "stderr",
          "output_type": "stream",
          "text": [
            "100%|██████████| 25/25 [00:00<00:00, 46.16it/s]\n",
            "100%|██████████| 11/11 [00:00<00:00, 28.52it/s]\n"
          ]
        },
        {
          "name": "stdout",
          "output_type": "stream",
          "text": [
            "Test : avg_loss = 0.19561055302619934\n",
            "Test : acc = 0.7982456140350878\n",
            "******************************************\n",
            "Epoch : 74\n",
            "Train : avg_loss = 0.09892921149730682\n"
          ]
        },
        {
          "name": "stderr",
          "output_type": "stream",
          "text": [
            "100%|██████████| 25/25 [00:00<00:00, 43.49it/s]\n",
            "100%|██████████| 11/11 [00:00<00:00, 28.10it/s]\n"
          ]
        },
        {
          "name": "stdout",
          "output_type": "stream",
          "text": [
            "Test : avg_loss = 0.19098110496997833\n",
            "Test : acc = 0.7923976608187134\n",
            "******************************************\n",
            "Epoch : 75\n",
            "Train : avg_loss = 0.09111647307872772\n"
          ]
        },
        {
          "name": "stderr",
          "output_type": "stream",
          "text": [
            "100%|██████████| 25/25 [00:00<00:00, 43.17it/s]\n",
            "100%|██████████| 11/11 [00:00<00:00, 25.42it/s]\n"
          ]
        },
        {
          "name": "stdout",
          "output_type": "stream",
          "text": [
            "Test : avg_loss = 0.1908724009990692\n",
            "Test : acc = 0.7660818713450293\n",
            "******************************************\n",
            "Epoch : 76\n",
            "Train : avg_loss = 0.09084475040435791\n"
          ]
        },
        {
          "name": "stderr",
          "output_type": "stream",
          "text": [
            "100%|██████████| 25/25 [00:00<00:00, 43.37it/s]\n",
            "100%|██████████| 11/11 [00:00<00:00, 25.71it/s]\n"
          ]
        },
        {
          "name": "stdout",
          "output_type": "stream",
          "text": [
            "Test : avg_loss = 0.1918998658657074\n",
            "Test : acc = 0.7894736842105263\n",
            "******************************************\n",
            "Epoch : 77\n",
            "Train : avg_loss = 0.09660536050796509\n"
          ]
        },
        {
          "name": "stderr",
          "output_type": "stream",
          "text": [
            "100%|██████████| 25/25 [00:00<00:00, 42.90it/s]\n",
            "100%|██████████| 11/11 [00:00<00:00, 26.64it/s]\n"
          ]
        },
        {
          "name": "stdout",
          "output_type": "stream",
          "text": [
            "Test : avg_loss = 0.20187869668006897\n",
            "Test : acc = 0.8011695906432749\n",
            "******************************************\n",
            "Epoch : 78\n",
            "Train : avg_loss = 0.08613649010658264\n"
          ]
        },
        {
          "name": "stderr",
          "output_type": "stream",
          "text": [
            "100%|██████████| 25/25 [00:00<00:00, 42.06it/s]\n",
            "100%|██████████| 11/11 [00:00<00:00, 26.78it/s]\n"
          ]
        },
        {
          "name": "stdout",
          "output_type": "stream",
          "text": [
            "Test : avg_loss = 0.2158530354499817\n",
            "Test : acc = 0.783625730994152\n",
            "******************************************\n",
            "Epoch : 79\n",
            "Train : avg_loss = 0.1021820604801178\n"
          ]
        },
        {
          "name": "stderr",
          "output_type": "stream",
          "text": [
            "100%|██████████| 25/25 [00:00<00:00, 44.26it/s]\n",
            "100%|██████████| 11/11 [00:00<00:00, 26.76it/s]\n"
          ]
        },
        {
          "name": "stdout",
          "output_type": "stream",
          "text": [
            "Test : avg_loss = 0.19947850704193115\n",
            "Test : acc = 0.7865497076023392\n",
            "******************************************\n",
            "Epoch : 80\n",
            "Train : avg_loss = 0.09022720158100128\n"
          ]
        },
        {
          "name": "stderr",
          "output_type": "stream",
          "text": [
            "100%|██████████| 25/25 [00:00<00:00, 42.67it/s]\n",
            "100%|██████████| 11/11 [00:00<00:00, 27.37it/s]\n"
          ]
        },
        {
          "name": "stdout",
          "output_type": "stream",
          "text": [
            "Test : avg_loss = 0.2236402928829193\n",
            "Test : acc = 0.8011695906432749\n",
            "******************************************\n",
            "Epoch : 81\n",
            "Train : avg_loss = 0.09362690895795822\n"
          ]
        },
        {
          "name": "stderr",
          "output_type": "stream",
          "text": [
            "100%|██████████| 25/25 [00:00<00:00, 42.32it/s]\n",
            "100%|██████████| 11/11 [00:00<00:00, 25.11it/s]\n"
          ]
        },
        {
          "name": "stdout",
          "output_type": "stream",
          "text": [
            "Test : avg_loss = 0.21032005548477173\n",
            "Test : acc = 0.7777777777777778\n",
            "******************************************\n",
            "Epoch : 82\n",
            "Train : avg_loss = 0.09832954406738281\n"
          ]
        },
        {
          "name": "stderr",
          "output_type": "stream",
          "text": [
            "100%|██████████| 25/25 [00:00<00:00, 38.43it/s]\n",
            "100%|██████████| 11/11 [00:00<00:00, 25.59it/s]\n"
          ]
        },
        {
          "name": "stdout",
          "output_type": "stream",
          "text": [
            "Test : avg_loss = 0.2058190405368805\n",
            "Test : acc = 0.7777777777777778\n",
            "******************************************\n",
            "Epoch : 83\n",
            "Train : avg_loss = 0.10190384089946747\n"
          ]
        },
        {
          "name": "stderr",
          "output_type": "stream",
          "text": [
            "100%|██████████| 25/25 [00:00<00:00, 42.35it/s]\n",
            "100%|██████████| 11/11 [00:00<00:00, 26.23it/s]\n"
          ]
        },
        {
          "name": "stdout",
          "output_type": "stream",
          "text": [
            "Test : avg_loss = 0.1905304193496704\n",
            "Test : acc = 0.8099415204678363\n",
            "******************************************\n",
            "Epoch : 84\n",
            "Train : avg_loss = 0.09284456819295883\n"
          ]
        },
        {
          "name": "stderr",
          "output_type": "stream",
          "text": [
            "100%|██████████| 25/25 [00:00<00:00, 42.79it/s]\n",
            "100%|██████████| 11/11 [00:00<00:00, 24.82it/s]\n"
          ]
        },
        {
          "name": "stdout",
          "output_type": "stream",
          "text": [
            "Test : avg_loss = 0.19346097111701965\n",
            "Test : acc = 0.827485380116959\n",
            "******************************************\n",
            "Epoch : 85\n",
            "Train : avg_loss = 0.09079406410455704\n"
          ]
        },
        {
          "name": "stderr",
          "output_type": "stream",
          "text": [
            "100%|██████████| 25/25 [00:00<00:00, 41.91it/s]\n",
            "100%|██████████| 11/11 [00:00<00:00, 25.24it/s]\n"
          ]
        },
        {
          "name": "stdout",
          "output_type": "stream",
          "text": [
            "Test : avg_loss = 0.19402264058589935\n",
            "Test : acc = 0.8070175438596491\n",
            "******************************************\n",
            "Epoch : 86\n",
            "Train : avg_loss = 0.09256981313228607\n"
          ]
        },
        {
          "name": "stderr",
          "output_type": "stream",
          "text": [
            "100%|██████████| 25/25 [00:00<00:00, 30.17it/s]\n",
            "100%|██████████| 11/11 [00:00<00:00, 12.97it/s]\n"
          ]
        },
        {
          "name": "stdout",
          "output_type": "stream",
          "text": [
            "Test : avg_loss = 0.21074283123016357\n",
            "Test : acc = 0.8245614035087719\n",
            "******************************************\n",
            "Epoch : 87\n",
            "Train : avg_loss = 0.08814653754234314\n"
          ]
        },
        {
          "name": "stderr",
          "output_type": "stream",
          "text": [
            "100%|██████████| 25/25 [00:01<00:00, 23.08it/s]\n",
            "100%|██████████| 11/11 [00:00<00:00, 13.01it/s]\n"
          ]
        },
        {
          "name": "stdout",
          "output_type": "stream",
          "text": [
            "Test : avg_loss = 0.20545117557048798\n",
            "Test : acc = 0.827485380116959\n",
            "******************************************\n",
            "Epoch : 88\n",
            "Train : avg_loss = 0.09076748788356781\n"
          ]
        },
        {
          "name": "stderr",
          "output_type": "stream",
          "text": [
            "100%|██████████| 25/25 [00:00<00:00, 41.78it/s]\n",
            "100%|██████████| 11/11 [00:00<00:00, 25.14it/s]\n"
          ]
        },
        {
          "name": "stdout",
          "output_type": "stream",
          "text": [
            "Test : avg_loss = 0.2072749137878418\n",
            "Test : acc = 0.804093567251462\n",
            "******************************************\n",
            "Epoch : 89\n",
            "Train : avg_loss = 0.0970047116279602\n"
          ]
        },
        {
          "name": "stderr",
          "output_type": "stream",
          "text": [
            "100%|██████████| 25/25 [00:00<00:00, 43.73it/s]\n",
            "100%|██████████| 11/11 [00:00<00:00, 24.72it/s]\n"
          ]
        },
        {
          "name": "stdout",
          "output_type": "stream",
          "text": [
            "Test : avg_loss = 0.20613616704940796\n",
            "Test : acc = 0.7807017543859649\n",
            "******************************************\n",
            "Epoch : 90\n",
            "Train : avg_loss = 0.09105417132377625\n"
          ]
        },
        {
          "name": "stderr",
          "output_type": "stream",
          "text": [
            "100%|██████████| 25/25 [00:00<00:00, 40.80it/s]\n",
            "100%|██████████| 11/11 [00:00<00:00, 25.00it/s]\n"
          ]
        },
        {
          "name": "stdout",
          "output_type": "stream",
          "text": [
            "Test : avg_loss = 0.23303887248039246\n",
            "Test : acc = 0.804093567251462\n",
            "******************************************\n",
            "Epoch : 91\n",
            "Train : avg_loss = 0.09363023936748505\n"
          ]
        },
        {
          "name": "stderr",
          "output_type": "stream",
          "text": [
            "100%|██████████| 25/25 [00:00<00:00, 40.83it/s]\n",
            "100%|██████████| 11/11 [00:00<00:00, 23.57it/s]\n"
          ]
        },
        {
          "name": "stdout",
          "output_type": "stream",
          "text": [
            "Test : avg_loss = 0.21585196256637573\n",
            "Test : acc = 0.804093567251462\n",
            "******************************************\n",
            "Epoch : 92\n",
            "Train : avg_loss = 0.08886018395423889\n"
          ]
        },
        {
          "name": "stderr",
          "output_type": "stream",
          "text": [
            "100%|██████████| 25/25 [00:00<00:00, 38.18it/s]\n",
            "100%|██████████| 11/11 [00:00<00:00, 24.04it/s]\n"
          ]
        },
        {
          "name": "stdout",
          "output_type": "stream",
          "text": [
            "Test : avg_loss = 0.20949473977088928\n",
            "Test : acc = 0.8216374269005848\n",
            "******************************************\n",
            "Epoch : 93\n",
            "Train : avg_loss = 0.09225192666053772\n"
          ]
        },
        {
          "name": "stderr",
          "output_type": "stream",
          "text": [
            "100%|██████████| 25/25 [00:00<00:00, 28.28it/s]\n",
            "100%|██████████| 11/11 [00:00<00:00, 15.26it/s]\n"
          ]
        },
        {
          "name": "stdout",
          "output_type": "stream",
          "text": [
            "Test : avg_loss = 0.19471272826194763\n",
            "Test : acc = 0.8216374269005848\n",
            "******************************************\n",
            "Epoch : 94\n",
            "Train : avg_loss = 0.09099554270505905\n"
          ]
        },
        {
          "name": "stderr",
          "output_type": "stream",
          "text": [
            "100%|██████████| 25/25 [00:00<00:00, 39.08it/s]\n",
            "100%|██████████| 11/11 [00:00<00:00, 24.05it/s]\n"
          ]
        },
        {
          "name": "stdout",
          "output_type": "stream",
          "text": [
            "Test : avg_loss = 0.19057223200798035\n",
            "Test : acc = 0.827485380116959\n",
            "******************************************\n",
            "Epoch : 95\n",
            "Train : avg_loss = 0.09349197894334793\n"
          ]
        },
        {
          "name": "stderr",
          "output_type": "stream",
          "text": [
            "100%|██████████| 25/25 [00:00<00:00, 41.62it/s]\n",
            "100%|██████████| 11/11 [00:00<00:00, 24.76it/s]\n"
          ]
        },
        {
          "name": "stdout",
          "output_type": "stream",
          "text": [
            "Test : avg_loss = 0.19759008288383484\n",
            "Test : acc = 0.8187134502923976\n",
            "******************************************\n",
            "Epoch : 96\n",
            "Train : avg_loss = 0.09902019798755646\n"
          ]
        },
        {
          "name": "stderr",
          "output_type": "stream",
          "text": [
            "100%|██████████| 25/25 [00:00<00:00, 38.55it/s]\n",
            "100%|██████████| 11/11 [00:00<00:00, 23.50it/s]\n"
          ]
        },
        {
          "name": "stdout",
          "output_type": "stream",
          "text": [
            "Test : avg_loss = 0.18612922728061676\n",
            "Test : acc = 0.847953216374269\n",
            "******************************************\n",
            "Epoch : 97\n",
            "Train : avg_loss = 0.09185485541820526\n"
          ]
        },
        {
          "name": "stderr",
          "output_type": "stream",
          "text": [
            "100%|██████████| 25/25 [00:00<00:00, 39.42it/s]\n",
            "100%|██████████| 11/11 [00:00<00:00, 24.22it/s]\n"
          ]
        },
        {
          "name": "stdout",
          "output_type": "stream",
          "text": [
            "Test : avg_loss = 0.19289204478263855\n",
            "Test : acc = 0.7953216374269005\n",
            "******************************************\n",
            "Epoch : 98\n",
            "Train : avg_loss = 0.10035423189401627\n"
          ]
        },
        {
          "name": "stderr",
          "output_type": "stream",
          "text": [
            "100%|██████████| 25/25 [00:00<00:00, 38.91it/s]\n",
            "100%|██████████| 11/11 [00:00<00:00, 23.22it/s]\n"
          ]
        },
        {
          "name": "stdout",
          "output_type": "stream",
          "text": [
            "Test : avg_loss = 0.19398930668830872\n",
            "Test : acc = 0.8304093567251462\n",
            "******************************************\n",
            "Epoch : 99\n",
            "Train : avg_loss = 0.08433537185192108\n"
          ]
        },
        {
          "name": "stderr",
          "output_type": "stream",
          "text": [
            "100%|██████████| 25/25 [00:00<00:00, 42.79it/s]\n",
            "100%|██████████| 11/11 [00:00<00:00, 23.85it/s]\n"
          ]
        },
        {
          "name": "stdout",
          "output_type": "stream",
          "text": [
            "Test : avg_loss = 0.19441774487495422\n",
            "Test : acc = 0.847953216374269\n",
            "******************************************\n",
            "Epoch : 100\n",
            "Train : avg_loss = 0.08828489482402802\n"
          ]
        },
        {
          "name": "stderr",
          "output_type": "stream",
          "text": [
            "100%|██████████| 25/25 [00:00<00:00, 37.35it/s]\n",
            "100%|██████████| 11/11 [00:00<00:00, 24.38it/s]\n"
          ]
        },
        {
          "name": "stdout",
          "output_type": "stream",
          "text": [
            "Test : avg_loss = 0.18619008362293243\n",
            "Test : acc = 0.8596491228070176\n",
            "******************************************\n",
            "Epoch : 101\n",
            "Train : avg_loss = 0.09665217995643616\n"
          ]
        },
        {
          "name": "stderr",
          "output_type": "stream",
          "text": [
            "100%|██████████| 25/25 [00:00<00:00, 40.78it/s]\n",
            "100%|██████████| 11/11 [00:00<00:00, 23.03it/s]\n"
          ]
        },
        {
          "name": "stdout",
          "output_type": "stream",
          "text": [
            "Test : avg_loss = 0.19348973035812378\n",
            "Test : acc = 0.8567251461988304\n",
            "******************************************\n",
            "Epoch : 102\n",
            "Train : avg_loss = 0.07323919236660004\n"
          ]
        },
        {
          "name": "stderr",
          "output_type": "stream",
          "text": [
            "100%|██████████| 25/25 [00:00<00:00, 37.59it/s]\n",
            "100%|██████████| 11/11 [00:00<00:00, 22.96it/s]\n"
          ]
        },
        {
          "name": "stdout",
          "output_type": "stream",
          "text": [
            "Test : avg_loss = 0.19232787191867828\n",
            "Test : acc = 0.8713450292397661\n",
            "******************************************\n",
            "Epoch : 103\n",
            "Train : avg_loss = 0.09150931984186172\n"
          ]
        },
        {
          "name": "stderr",
          "output_type": "stream",
          "text": [
            "100%|██████████| 25/25 [00:00<00:00, 38.59it/s]\n",
            "100%|██████████| 11/11 [00:00<00:00, 23.12it/s]\n"
          ]
        },
        {
          "name": "stdout",
          "output_type": "stream",
          "text": [
            "Test : avg_loss = 0.1958940029144287\n",
            "Test : acc = 0.8625730994152047\n",
            "******************************************\n",
            "Epoch : 104\n",
            "Train : avg_loss = 0.08674357086420059\n"
          ]
        },
        {
          "name": "stderr",
          "output_type": "stream",
          "text": [
            "100%|██████████| 25/25 [00:00<00:00, 40.30it/s]\n",
            "100%|██████████| 11/11 [00:00<00:00, 22.73it/s]\n"
          ]
        },
        {
          "name": "stdout",
          "output_type": "stream",
          "text": [
            "Test : avg_loss = 0.1934405416250229\n",
            "Test : acc = 0.8742690058479532\n",
            "******************************************\n",
            "Epoch : 105\n",
            "Train : avg_loss = 0.08084642142057419\n"
          ]
        },
        {
          "name": "stderr",
          "output_type": "stream",
          "text": [
            "100%|██████████| 25/25 [00:00<00:00, 38.22it/s]\n",
            "100%|██████████| 11/11 [00:00<00:00, 21.73it/s]\n"
          ]
        },
        {
          "name": "stdout",
          "output_type": "stream",
          "text": [
            "Test : avg_loss = 0.19745507836341858\n",
            "Test : acc = 0.8567251461988304\n",
            "******************************************\n",
            "Epoch : 106\n",
            "Train : avg_loss = 0.08033681660890579\n"
          ]
        },
        {
          "name": "stderr",
          "output_type": "stream",
          "text": [
            "100%|██████████| 25/25 [00:00<00:00, 37.64it/s]\n",
            "100%|██████████| 11/11 [00:00<00:00, 21.21it/s]\n"
          ]
        },
        {
          "name": "stdout",
          "output_type": "stream",
          "text": [
            "Test : avg_loss = 0.20403525233268738\n",
            "Test : acc = 0.8538011695906432\n",
            "******************************************\n",
            "Epoch : 107\n",
            "Train : avg_loss = 0.08756240457296371\n"
          ]
        },
        {
          "name": "stderr",
          "output_type": "stream",
          "text": [
            "100%|██████████| 25/25 [00:00<00:00, 38.18it/s]\n",
            "100%|██████████| 11/11 [00:00<00:00, 21.15it/s]\n"
          ]
        },
        {
          "name": "stdout",
          "output_type": "stream",
          "text": [
            "Test : avg_loss = 0.20873448252677917\n",
            "Test : acc = 0.827485380116959\n",
            "******************************************\n",
            "Epoch : 108\n",
            "Train : avg_loss = 0.09840936213731766\n"
          ]
        },
        {
          "name": "stderr",
          "output_type": "stream",
          "text": [
            "100%|██████████| 25/25 [00:00<00:00, 38.14it/s]\n",
            "100%|██████████| 11/11 [00:00<00:00, 22.61it/s]\n"
          ]
        },
        {
          "name": "stdout",
          "output_type": "stream",
          "text": [
            "Test : avg_loss = 0.1968693733215332\n",
            "Test : acc = 0.8508771929824561\n",
            "******************************************\n",
            "Epoch : 109\n",
            "Train : avg_loss = 0.08429385721683502\n"
          ]
        },
        {
          "name": "stderr",
          "output_type": "stream",
          "text": [
            "100%|██████████| 25/25 [00:00<00:00, 40.79it/s]\n",
            "100%|██████████| 11/11 [00:00<00:00, 23.02it/s]\n"
          ]
        },
        {
          "name": "stdout",
          "output_type": "stream",
          "text": [
            "Test : avg_loss = 0.19938284158706665\n",
            "Test : acc = 0.8538011695906432\n",
            "******************************************\n",
            "Epoch : 110\n",
            "Train : avg_loss = 0.07987421005964279\n"
          ]
        },
        {
          "name": "stderr",
          "output_type": "stream",
          "text": [
            "100%|██████████| 25/25 [00:00<00:00, 38.23it/s]\n",
            "100%|██████████| 11/11 [00:00<00:00, 22.53it/s]\n"
          ]
        },
        {
          "name": "stdout",
          "output_type": "stream",
          "text": [
            "Test : avg_loss = 0.18752583861351013\n",
            "Test : acc = 0.8567251461988304\n",
            "******************************************\n",
            "Epoch : 111\n",
            "Train : avg_loss = 0.08258271962404251\n"
          ]
        },
        {
          "name": "stderr",
          "output_type": "stream",
          "text": [
            "100%|██████████| 25/25 [00:00<00:00, 37.92it/s]\n",
            "100%|██████████| 11/11 [00:00<00:00, 21.51it/s]\n"
          ]
        },
        {
          "name": "stdout",
          "output_type": "stream",
          "text": [
            "Test : avg_loss = 0.19802045822143555\n",
            "Test : acc = 0.8421052631578947\n",
            "******************************************\n",
            "Epoch : 112\n",
            "Train : avg_loss = 0.10091014951467514\n"
          ]
        },
        {
          "name": "stderr",
          "output_type": "stream",
          "text": [
            "100%|██████████| 25/25 [00:00<00:00, 38.04it/s]\n",
            "100%|██████████| 11/11 [00:00<00:00, 22.02it/s]\n"
          ]
        },
        {
          "name": "stdout",
          "output_type": "stream",
          "text": [
            "Test : avg_loss = 0.18214382231235504\n",
            "Test : acc = 0.7865497076023392\n",
            "******************************************\n",
            "Epoch : 113\n",
            "Train : avg_loss = 0.09606778621673584\n"
          ]
        },
        {
          "name": "stderr",
          "output_type": "stream",
          "text": [
            "100%|██████████| 25/25 [00:00<00:00, 39.71it/s]\n",
            "100%|██████████| 11/11 [00:00<00:00, 21.87it/s]\n"
          ]
        },
        {
          "name": "stdout",
          "output_type": "stream",
          "text": [
            "Test : avg_loss = 0.19192412495613098\n",
            "Test : acc = 0.7719298245614035\n",
            "******************************************\n",
            "Epoch : 114\n",
            "Train : avg_loss = 0.09678515791893005\n"
          ]
        },
        {
          "name": "stderr",
          "output_type": "stream",
          "text": [
            "100%|██████████| 25/25 [00:00<00:00, 37.57it/s]\n",
            "100%|██████████| 11/11 [00:00<00:00, 21.97it/s]\n"
          ]
        },
        {
          "name": "stdout",
          "output_type": "stream",
          "text": [
            "Test : avg_loss = 0.1829754114151001\n",
            "Test : acc = 0.7807017543859649\n",
            "******************************************\n",
            "Epoch : 115\n",
            "Train : avg_loss = 0.09647585451602936\n"
          ]
        },
        {
          "name": "stderr",
          "output_type": "stream",
          "text": [
            "100%|██████████| 25/25 [00:00<00:00, 36.48it/s]\n",
            "100%|██████████| 11/11 [00:00<00:00, 21.20it/s]\n"
          ]
        },
        {
          "name": "stdout",
          "output_type": "stream",
          "text": [
            "Test : avg_loss = 0.19581085443496704\n",
            "Test : acc = 0.804093567251462\n",
            "******************************************\n",
            "Epoch : 116\n",
            "Train : avg_loss = 0.10539667308330536\n"
          ]
        },
        {
          "name": "stderr",
          "output_type": "stream",
          "text": [
            "100%|██████████| 25/25 [00:00<00:00, 37.47it/s]\n",
            "100%|██████████| 11/11 [00:00<00:00, 22.63it/s]\n"
          ]
        },
        {
          "name": "stdout",
          "output_type": "stream",
          "text": [
            "Test : avg_loss = 0.17353281378746033\n",
            "Test : acc = 0.8157894736842105\n",
            "******************************************\n",
            "Epoch : 117\n",
            "Train : avg_loss = 0.09842272102832794\n"
          ]
        },
        {
          "name": "stderr",
          "output_type": "stream",
          "text": [
            "100%|██████████| 25/25 [00:00<00:00, 26.59it/s]\n",
            "100%|██████████| 11/11 [00:00<00:00, 20.47it/s]\n"
          ]
        },
        {
          "name": "stdout",
          "output_type": "stream",
          "text": [
            "Test : avg_loss = 0.20129048824310303\n",
            "Test : acc = 0.8567251461988304\n",
            "******************************************\n",
            "Epoch : 118\n",
            "Train : avg_loss = 0.08750656992197037\n"
          ]
        },
        {
          "name": "stderr",
          "output_type": "stream",
          "text": [
            "100%|██████████| 25/25 [00:00<00:00, 37.77it/s]\n",
            "100%|██████████| 11/11 [00:00<00:00, 20.86it/s]\n"
          ]
        },
        {
          "name": "stdout",
          "output_type": "stream",
          "text": [
            "Test : avg_loss = 0.21062827110290527\n",
            "Test : acc = 0.8654970760233918\n",
            "******************************************\n",
            "Epoch : 119\n",
            "Train : avg_loss = 0.08307266980409622\n"
          ]
        },
        {
          "name": "stderr",
          "output_type": "stream",
          "text": [
            "100%|██████████| 25/25 [00:00<00:00, 36.07it/s]\n",
            "100%|██████████| 11/11 [00:00<00:00, 21.24it/s]\n"
          ]
        },
        {
          "name": "stdout",
          "output_type": "stream",
          "text": [
            "Test : avg_loss = 0.20634886622428894\n",
            "Test : acc = 0.8567251461988304\n",
            "******************************************\n",
            "Epoch : 120\n",
            "Train : avg_loss = 0.09731902182102203\n"
          ]
        },
        {
          "name": "stderr",
          "output_type": "stream",
          "text": [
            "100%|██████████| 25/25 [00:00<00:00, 37.72it/s]\n",
            "100%|██████████| 11/11 [00:00<00:00, 20.05it/s]\n"
          ]
        },
        {
          "name": "stdout",
          "output_type": "stream",
          "text": [
            "Test : avg_loss = 0.19614796340465546\n",
            "Test : acc = 0.8596491228070176\n",
            "******************************************\n",
            "Epoch : 121\n",
            "Train : avg_loss = 0.07827550917863846\n"
          ]
        },
        {
          "name": "stderr",
          "output_type": "stream",
          "text": [
            "100%|██████████| 25/25 [00:00<00:00, 35.61it/s]\n",
            "100%|██████████| 11/11 [00:00<00:00, 20.24it/s]\n"
          ]
        },
        {
          "name": "stdout",
          "output_type": "stream",
          "text": [
            "Test : avg_loss = 0.17115509510040283\n",
            "Test : acc = 0.8742690058479532\n",
            "******************************************\n",
            "Epoch : 122\n",
            "Train : avg_loss = 0.09295479208230972\n"
          ]
        },
        {
          "name": "stderr",
          "output_type": "stream",
          "text": [
            "100%|██████████| 25/25 [00:00<00:00, 36.78it/s]\n",
            "100%|██████████| 11/11 [00:00<00:00, 21.00it/s]\n"
          ]
        },
        {
          "name": "stdout",
          "output_type": "stream",
          "text": [
            "Test : avg_loss = 0.19333456456661224\n",
            "Test : acc = 0.868421052631579\n",
            "******************************************\n",
            "Epoch : 123\n",
            "Train : avg_loss = 0.08912430703639984\n"
          ]
        },
        {
          "name": "stderr",
          "output_type": "stream",
          "text": [
            "100%|██████████| 25/25 [00:00<00:00, 35.84it/s]\n",
            "100%|██████████| 11/11 [00:00<00:00, 20.65it/s]\n"
          ]
        },
        {
          "name": "stdout",
          "output_type": "stream",
          "text": [
            "Test : avg_loss = 0.20225536823272705\n",
            "Test : acc = 0.868421052631579\n",
            "******************************************\n",
            "Epoch : 124\n",
            "Train : avg_loss = 0.07677571475505829\n"
          ]
        },
        {
          "name": "stderr",
          "output_type": "stream",
          "text": [
            "100%|██████████| 25/25 [00:00<00:00, 35.89it/s]\n",
            "100%|██████████| 11/11 [00:00<00:00, 19.71it/s]\n"
          ]
        },
        {
          "name": "stdout",
          "output_type": "stream",
          "text": [
            "Test : avg_loss = 0.20341823995113373\n",
            "Test : acc = 0.8801169590643275\n",
            "******************************************\n",
            "Epoch : 125\n",
            "Train : avg_loss = 0.09669021517038345\n"
          ]
        },
        {
          "name": "stderr",
          "output_type": "stream",
          "text": [
            "100%|██████████| 25/25 [00:00<00:00, 35.29it/s]\n",
            "100%|██████████| 11/11 [00:00<00:00, 20.71it/s]\n"
          ]
        },
        {
          "name": "stdout",
          "output_type": "stream",
          "text": [
            "Test : avg_loss = 0.2056390941143036\n",
            "Test : acc = 0.8742690058479532\n",
            "******************************************\n",
            "Epoch : 126\n",
            "Train : avg_loss = 0.08616402745246887\n"
          ]
        },
        {
          "name": "stderr",
          "output_type": "stream",
          "text": [
            "100%|██████████| 25/25 [00:00<00:00, 35.05it/s]\n",
            "100%|██████████| 11/11 [00:00<00:00, 20.40it/s]\n"
          ]
        },
        {
          "name": "stdout",
          "output_type": "stream",
          "text": [
            "Test : avg_loss = 0.19728969037532806\n",
            "Test : acc = 0.8567251461988304\n",
            "******************************************\n",
            "Epoch : 127\n",
            "Train : avg_loss = 0.08599692583084106\n"
          ]
        },
        {
          "name": "stderr",
          "output_type": "stream",
          "text": [
            "100%|██████████| 25/25 [00:00<00:00, 34.95it/s]\n",
            "100%|██████████| 11/11 [00:00<00:00, 20.28it/s]\n"
          ]
        },
        {
          "name": "stdout",
          "output_type": "stream",
          "text": [
            "Test : avg_loss = 0.20422479510307312\n",
            "Test : acc = 0.8742690058479532\n",
            "******************************************\n",
            "Epoch : 128\n",
            "Train : avg_loss = 0.0937032550573349\n"
          ]
        },
        {
          "name": "stderr",
          "output_type": "stream",
          "text": [
            "100%|██████████| 25/25 [00:00<00:00, 34.01it/s]\n",
            "100%|██████████| 11/11 [00:00<00:00, 20.25it/s]\n"
          ]
        },
        {
          "name": "stdout",
          "output_type": "stream",
          "text": [
            "Test : avg_loss = 0.1908245086669922\n",
            "Test : acc = 0.8918128654970761\n",
            "******************************************\n",
            "Epoch : 129\n",
            "Train : avg_loss = 0.09088489413261414\n"
          ]
        },
        {
          "name": "stderr",
          "output_type": "stream",
          "text": [
            "100%|██████████| 25/25 [00:00<00:00, 35.75it/s]\n",
            "100%|██████████| 11/11 [00:00<00:00, 21.10it/s]\n"
          ]
        },
        {
          "name": "stdout",
          "output_type": "stream",
          "text": [
            "Test : avg_loss = 0.19440500438213348\n",
            "Test : acc = 0.8918128654970761\n",
            "******************************************\n",
            "Epoch : 130\n",
            "Train : avg_loss = 0.0918673574924469\n"
          ]
        },
        {
          "name": "stderr",
          "output_type": "stream",
          "text": [
            "100%|██████████| 25/25 [00:00<00:00, 35.08it/s]\n",
            "100%|██████████| 11/11 [00:00<00:00, 20.08it/s]\n"
          ]
        },
        {
          "name": "stdout",
          "output_type": "stream",
          "text": [
            "Test : avg_loss = 0.2039458155632019\n",
            "Test : acc = 0.8918128654970761\n",
            "******************************************\n",
            "Epoch : 131\n",
            "Train : avg_loss = 0.07816044986248016\n"
          ]
        },
        {
          "name": "stderr",
          "output_type": "stream",
          "text": [
            "100%|██████████| 25/25 [00:00<00:00, 34.64it/s]\n",
            "100%|██████████| 11/11 [00:00<00:00, 19.27it/s]\n"
          ]
        },
        {
          "name": "stdout",
          "output_type": "stream",
          "text": [
            "Test : avg_loss = 0.22352740168571472\n",
            "Test : acc = 0.8976608187134503\n",
            "******************************************\n",
            "Epoch : 132\n",
            "Train : avg_loss = 0.09338054805994034\n"
          ]
        },
        {
          "name": "stderr",
          "output_type": "stream",
          "text": [
            "100%|██████████| 25/25 [00:00<00:00, 34.30it/s]\n",
            "100%|██████████| 11/11 [00:00<00:00, 20.69it/s]\n"
          ]
        },
        {
          "name": "stdout",
          "output_type": "stream",
          "text": [
            "Test : avg_loss = 0.2109980583190918\n",
            "Test : acc = 0.8888888888888888\n",
            "******************************************\n",
            "Epoch : 133\n",
            "Train : avg_loss = 0.09581737220287323\n"
          ]
        },
        {
          "name": "stderr",
          "output_type": "stream",
          "text": [
            "100%|██████████| 25/25 [00:00<00:00, 34.20it/s]\n",
            "100%|██████████| 11/11 [00:00<00:00, 19.02it/s]\n"
          ]
        },
        {
          "name": "stdout",
          "output_type": "stream",
          "text": [
            "Test : avg_loss = 0.20021790266036987\n",
            "Test : acc = 0.8596491228070176\n",
            "******************************************\n",
            "Epoch : 134\n",
            "Train : avg_loss = 0.08890722692012787\n"
          ]
        },
        {
          "name": "stderr",
          "output_type": "stream",
          "text": [
            "100%|██████████| 25/25 [00:00<00:00, 33.24it/s]\n",
            "100%|██████████| 11/11 [00:00<00:00, 19.12it/s]\n"
          ]
        },
        {
          "name": "stdout",
          "output_type": "stream",
          "text": [
            "Test : avg_loss = 0.2119567096233368\n",
            "Test : acc = 0.8771929824561403\n",
            "******************************************\n",
            "Epoch : 135\n",
            "Train : avg_loss = 0.08462093770503998\n"
          ]
        },
        {
          "name": "stderr",
          "output_type": "stream",
          "text": [
            "100%|██████████| 25/25 [00:00<00:00, 36.01it/s]\n",
            "100%|██████████| 11/11 [00:00<00:00, 20.26it/s]\n"
          ]
        },
        {
          "name": "stdout",
          "output_type": "stream",
          "text": [
            "Test : avg_loss = 0.18913133442401886\n",
            "Test : acc = 0.8771929824561403\n",
            "******************************************\n",
            "Epoch : 136\n",
            "Train : avg_loss = 0.0889841765165329\n"
          ]
        },
        {
          "name": "stderr",
          "output_type": "stream",
          "text": [
            "100%|██████████| 25/25 [00:00<00:00, 32.77it/s]\n",
            "100%|██████████| 11/11 [00:00<00:00, 19.87it/s]\n"
          ]
        },
        {
          "name": "stdout",
          "output_type": "stream",
          "text": [
            "Test : avg_loss = 0.18625962734222412\n",
            "Test : acc = 0.9035087719298246\n",
            "******************************************\n",
            "Epoch : 137\n",
            "Train : avg_loss = 0.07101723551750183\n"
          ]
        },
        {
          "name": "stderr",
          "output_type": "stream",
          "text": [
            "100%|██████████| 25/25 [00:00<00:00, 34.98it/s]\n",
            "100%|██████████| 11/11 [00:00<00:00, 19.12it/s]\n"
          ]
        },
        {
          "name": "stdout",
          "output_type": "stream",
          "text": [
            "Test : avg_loss = 0.21176135540008545\n",
            "Test : acc = 0.8976608187134503\n",
            "******************************************\n",
            "Epoch : 138\n",
            "Train : avg_loss = 0.08419036865234375\n"
          ]
        },
        {
          "name": "stderr",
          "output_type": "stream",
          "text": [
            "100%|██████████| 25/25 [00:00<00:00, 34.68it/s]\n",
            "100%|██████████| 11/11 [00:00<00:00, 18.74it/s]\n"
          ]
        },
        {
          "name": "stdout",
          "output_type": "stream",
          "text": [
            "Test : avg_loss = 0.23491859436035156\n",
            "Test : acc = 0.9093567251461988\n",
            "******************************************\n",
            "Epoch : 139\n",
            "Train : avg_loss = 0.0649809017777443\n"
          ]
        },
        {
          "name": "stderr",
          "output_type": "stream",
          "text": [
            "100%|██████████| 25/25 [00:00<00:00, 34.41it/s]\n",
            "100%|██████████| 11/11 [00:00<00:00, 18.33it/s]\n"
          ]
        },
        {
          "name": "stdout",
          "output_type": "stream",
          "text": [
            "Test : avg_loss = 0.1805483102798462\n",
            "Test : acc = 0.9064327485380117\n",
            "******************************************\n",
            "Epoch : 140\n",
            "Train : avg_loss = 0.07041571289300919\n"
          ]
        },
        {
          "name": "stderr",
          "output_type": "stream",
          "text": [
            "100%|██████████| 25/25 [00:00<00:00, 33.60it/s]\n",
            "100%|██████████| 11/11 [00:00<00:00, 19.13it/s]\n"
          ]
        },
        {
          "name": "stdout",
          "output_type": "stream",
          "text": [
            "Test : avg_loss = 0.1764189898967743\n",
            "Test : acc = 0.9122807017543859\n",
            "******************************************\n",
            "Epoch : 141\n",
            "Train : avg_loss = 0.079485684633255\n"
          ]
        },
        {
          "name": "stderr",
          "output_type": "stream",
          "text": [
            "100%|██████████| 25/25 [00:00<00:00, 33.31it/s]\n",
            "100%|██████████| 11/11 [00:00<00:00, 20.15it/s]\n"
          ]
        },
        {
          "name": "stdout",
          "output_type": "stream",
          "text": [
            "Test : avg_loss = 0.2047133445739746\n",
            "Test : acc = 0.9093567251461988\n",
            "******************************************\n",
            "Epoch : 142\n",
            "Train : avg_loss = 0.07804066687822342\n"
          ]
        },
        {
          "name": "stderr",
          "output_type": "stream",
          "text": [
            "100%|██████████| 25/25 [00:00<00:00, 34.27it/s]\n",
            "100%|██████████| 11/11 [00:00<00:00, 18.77it/s]\n"
          ]
        },
        {
          "name": "stdout",
          "output_type": "stream",
          "text": [
            "Test : avg_loss = 0.19006523489952087\n",
            "Test : acc = 0.8801169590643275\n",
            "******************************************\n",
            "Epoch : 143\n",
            "Train : avg_loss = 0.07856452465057373\n"
          ]
        },
        {
          "name": "stderr",
          "output_type": "stream",
          "text": [
            "100%|██████████| 25/25 [00:00<00:00, 33.88it/s]\n",
            "100%|██████████| 11/11 [00:00<00:00, 19.85it/s]\n"
          ]
        },
        {
          "name": "stdout",
          "output_type": "stream",
          "text": [
            "Test : avg_loss = 0.18038725852966309\n",
            "Test : acc = 0.9035087719298246\n",
            "******************************************\n",
            "Epoch : 144\n",
            "Train : avg_loss = 0.061184875667095184\n"
          ]
        },
        {
          "name": "stderr",
          "output_type": "stream",
          "text": [
            "100%|██████████| 25/25 [00:00<00:00, 34.86it/s]\n",
            "100%|██████████| 11/11 [00:00<00:00, 19.09it/s]\n"
          ]
        },
        {
          "name": "stdout",
          "output_type": "stream",
          "text": [
            "Test : avg_loss = 0.19800356030464172\n",
            "Test : acc = 0.8888888888888888\n",
            "******************************************\n",
            "Epoch : 145\n",
            "Train : avg_loss = 0.07856867462396622\n"
          ]
        },
        {
          "name": "stderr",
          "output_type": "stream",
          "text": [
            "100%|██████████| 25/25 [00:00<00:00, 34.93it/s]\n",
            "100%|██████████| 11/11 [00:00<00:00, 20.20it/s]\n"
          ]
        },
        {
          "name": "stdout",
          "output_type": "stream",
          "text": [
            "Test : avg_loss = 0.1929987668991089\n",
            "Test : acc = 0.8976608187134503\n",
            "******************************************\n",
            "Epoch : 146\n",
            "Train : avg_loss = 0.0935337245464325\n"
          ]
        },
        {
          "name": "stderr",
          "output_type": "stream",
          "text": [
            "100%|██████████| 25/25 [00:00<00:00, 35.25it/s]\n",
            "100%|██████████| 11/11 [00:00<00:00, 18.47it/s]\n"
          ]
        },
        {
          "name": "stdout",
          "output_type": "stream",
          "text": [
            "Test : avg_loss = 0.19673842191696167\n",
            "Test : acc = 0.8976608187134503\n",
            "******************************************\n",
            "Epoch : 147\n",
            "Train : avg_loss = 0.08364205807447433\n"
          ]
        },
        {
          "name": "stderr",
          "output_type": "stream",
          "text": [
            "100%|██████████| 25/25 [00:00<00:00, 34.28it/s]\n",
            "100%|██████████| 11/11 [00:00<00:00, 18.72it/s]\n"
          ]
        },
        {
          "name": "stdout",
          "output_type": "stream",
          "text": [
            "Test : avg_loss = 0.1973918378353119\n",
            "Test : acc = 0.9005847953216374\n",
            "******************************************\n",
            "Epoch : 148\n",
            "Train : avg_loss = 0.06061301380395889\n"
          ]
        },
        {
          "name": "stderr",
          "output_type": "stream",
          "text": [
            "100%|██████████| 25/25 [00:00<00:00, 34.15it/s]\n",
            "100%|██████████| 11/11 [00:00<00:00, 18.67it/s]\n"
          ]
        },
        {
          "name": "stdout",
          "output_type": "stream",
          "text": [
            "Test : avg_loss = 0.1794877052307129\n",
            "Test : acc = 0.8976608187134503\n",
            "******************************************\n",
            "Epoch : 149\n",
            "Train : avg_loss = 0.07448743283748627\n"
          ]
        },
        {
          "name": "stderr",
          "output_type": "stream",
          "text": [
            "100%|██████████| 25/25 [00:00<00:00, 33.30it/s]\n",
            "100%|██████████| 11/11 [00:00<00:00, 18.88it/s]\n"
          ]
        },
        {
          "name": "stdout",
          "output_type": "stream",
          "text": [
            "Test : avg_loss = 0.18927296996116638\n",
            "Test : acc = 0.9005847953216374\n",
            "******************************************\n",
            "Epoch : 150\n",
            "Train : avg_loss = 0.07784760743379593\n"
          ]
        },
        {
          "name": "stderr",
          "output_type": "stream",
          "text": [
            "100%|██████████| 25/25 [00:00<00:00, 33.46it/s]\n",
            "100%|██████████| 11/11 [00:00<00:00, 18.35it/s]\n"
          ]
        },
        {
          "name": "stdout",
          "output_type": "stream",
          "text": [
            "Test : avg_loss = 0.18797844648361206\n",
            "Test : acc = 0.9181286549707602\n",
            "******************************************\n"
          ]
        }
      ],
      "source": [
        "device='cpu'\n",
        "num_epochs=150\n",
        "model_cosine = Net().to(device)\n",
        "\n",
        "optimizer = optim.Adam(model_cosine.parameters(), lr=0.01)\n",
        "\n",
        "### pytorch-metric-learning stuff ###\n",
        "distance = distances.CosineSimilarity()\n",
        "reducer = reducers.ThresholdReducer(low=0)\n",
        "loss_func = losses.TripletMarginLoss(margin=0.2, distance=distance, reducer=reducer)\n",
        "mining_func = miners.TripletMarginMiner(\n",
        "    margin=0.2, distance=distance, type_of_triplets=\"semihard\"\n",
        ")\n",
        "accuracy_calculator = AccuracyCalculator(include=(\"precision_at_1\",), k=1)\n",
        "### pytorch-metric-learning stuff ###\n",
        "\n",
        "test_acc_cosine=[]\n",
        "test_loss_cosine=[]\n",
        "train_loss_cosine=[]\n",
        "for epoch in range(1, num_epochs + 1):\n",
        "    print(\"Epoch : {}\".format(epoch))\n",
        "\n",
        "    train_loss=train(model_cosine, loss_func, mining_func, device, train_loader, optimizer, epoch)\n",
        "    test_loss , test_acc = test(dataset_train, dataset_test, model_cosine, accuracy_calculator, test_loader , mining_func , loss_func)\n",
        "\n",
        "    test_loss_cosine.append(test_loss)\n",
        "    test_acc_cosine.append(test_acc)\n",
        "    train_loss_cosine.append(train_loss)\n",
        "\n",
        "    print(\"******************************************\")"
      ]
    },
    {
      "cell_type": "code",
      "execution_count": 8,
      "metadata": {
        "colab": {
          "base_uri": "https://localhost:8080/",
          "height": 312
        },
        "id": "2Iv-T5eqEgs-",
        "outputId": "b3515122-0ff3-4003-ebae-596b94f22502"
      },
      "outputs": [
        {
          "data": {
            "image/png": "[encoded data removed]",
            "text/plain": [
              "<Figure size 432x288 with 2 Axes>"
            ]
          },
          "metadata": {
            "needs_background": "light"
          },
          "output_type": "display_data"
        },
        {
          "name": "stdout",
          "output_type": "stream",
          "text": [
            "Max Test Acc = 0.9181286549707602\n"
          ]
        }
      ],
      "source": [
        "plot_graph(train_loss_cosine , test_loss_cosine , test_acc_cosine , 'Cosine , Example Miner')\n",
        "print('Max Test Acc = {}' .format(np.max(test_acc_cosine)))"
      ]
    },
    {
      "cell_type": "code",
      "execution_count": 9,
      "metadata": {
        "colab": {
          "base_uri": "https://localhost:8080/"
        },
        "id": "czYTGye9Egs_",
        "outputId": "8460df9b-2f7f-467f-e509-7f29b256e5ed"
      },
      "outputs": [
        {
          "name": "stderr",
          "output_type": "stream",
          "text": [
            "  0%|          | 0/11 [00:00<?, ?it/s]/usr/local/lib/python3.8/dist-packages/torch/nn/functional.py:1331: UserWarning: dropout2d: Received a 2-D input to dropout2d, which is deprecated and will result in an error in a future release. To retain the behavior and silence this warning, please use dropout instead. Note that dropout2d exists to provide channel-wise dropout on inputs with 2 spatial dimensions, a channel dimension, and an optional batch dimension (i.e. 3D or 4D inputs).\n",
            "  warnings.warn(warn_msg)\n",
            "100%|██████████| 11/11 [00:00<00:00, 19.02it/s]\n",
            "100%|██████████| 25/25 [00:00<00:00, 33.94it/s]\n"
          ]
        }
      ],
      "source": [
        "data_test,target_test=get_sub_data_embed(dataset_test , model_cosine , 5)\n",
        "data_test = np.float32(data_test/(np.max(data_test)-np.min(data_test)))\n",
        "data_train,target_train=get_sub_data_embed(dataset_train , model_cosine , 5)\n",
        "data_train = np.float32(data_train/(np.max(data_train)-np.min(data_train)))"
      ]
    },
    {
      "cell_type": "code",
      "execution_count": 10,
      "metadata": {
        "colab": {
          "base_uri": "https://localhost:8080/",
          "height": 655
        },
        "id": "75sY-pMIEgs_",
        "outputId": "69ee83cf-28f4-4779-9adf-f462f03fb553"
      },
      "outputs": [
        {
          "data": {
            "text/plain": [
              "<matplotlib.axes._subplots.AxesSubplot at 0x7f569f1d94f0>"
            ]
          },
          "execution_count": 10,
          "metadata": {},
          "output_type": "execute_result"
        },
        {
          "data": {
            "image/png": "[encoded data removed]",
            "text/plain": [
              "<Figure size 800x800 with 1 Axes>"
            ]
          },
          "metadata": {},
          "output_type": "display_data"
        }
      ],
      "source": [
        "import umap\n",
        "import umap.plot\n",
        "mapper = umap.UMAP().fit(data_test)\n",
        "umap.plot.points(mapper, labels=target_test)"
      ]
    },
    {
      "cell_type": "code",
      "execution_count": 11,
      "metadata": {
        "colab": {
          "base_uri": "https://localhost:8080/",
          "height": 988
        },
        "id": "YHeSTEVmEgs_",
        "outputId": "2cbb0a84-b984-41d4-b5d1-c4baa41b0a75"
      },
      "outputs": [
        {
          "name": "stderr",
          "output_type": "stream",
          "text": [
            "/usr/local/lib/python3.8/dist-packages/umap/spectral.py:260: UserWarning: WARNING: spectral initialisation failed! The eigenvector solver\n",
            "failed. This is likely due to too small an eigengap. Consider\n",
            "adding some noise or jitter to your data.\n",
            "\n",
            "Falling back to random initialisation!\n",
            "  warn(\n",
            "/usr/local/lib/python3.8/dist-packages/umap/spectral.py:260: UserWarning: WARNING: spectral initialisation failed! The eigenvector solver\n",
            "failed. This is likely due to too small an eigengap. Consider\n",
            "adding some noise or jitter to your data.\n",
            "\n",
            "Falling back to random initialisation!\n",
            "  warn(\n",
            "/usr/local/lib/python3.8/dist-packages/umap/spectral.py:260: UserWarning: WARNING: spectral initialisation failed! The eigenvector solver\n",
            "failed. This is likely due to too small an eigengap. Consider\n",
            "adding some noise or jitter to your data.\n",
            "\n",
            "Falling back to random initialisation!\n",
            "  warn(\n"
          ]
        },
        {
          "data": {
            "text/plain": [
              "<matplotlib.axes._subplots.AxesSubplot at 0x7f569e8d67f0>"
            ]
          },
          "execution_count": 11,
          "metadata": {},
          "output_type": "execute_result"
        },
        {
          "data": {
            "image/png": "[encoded data removed]",
            "text/plain": [
              "<Figure size 800x800 with 1 Axes>"
            ]
          },
          "metadata": {},
          "output_type": "display_data"
        }
      ],
      "source": [
        "mapper = umap.UMAP().fit(data_train)\n",
        "umap.plot.points(mapper, labels=target_train)"
      ]
    },
    {
      "cell_type": "code",
      "execution_count": 12,
      "metadata": {
        "colab": {
          "base_uri": "https://localhost:8080/"
        },
        "id": "aL_-noRtEgs_",
        "outputId": "60316d72-b1ea-454c-96fd-615ba38da592"
      },
      "outputs": [
        {
          "name": "stdout",
          "output_type": "stream",
          "text": [
            "Test Acc without KNN :0.9181286549707602 \n"
          ]
        },
        {
          "name": "stderr",
          "output_type": "stream",
          "text": [
            "  0%|          | 0/25 [00:00<?, ?it/s]/usr/local/lib/python3.8/dist-packages/torch/nn/functional.py:1331: UserWarning: dropout2d: Received a 2-D input to dropout2d, which is deprecated and will result in an error in a future release. To retain the behavior and silence this warning, please use dropout instead. Note that dropout2d exists to provide channel-wise dropout on inputs with 2 spatial dimensions, a channel dimension, and an optional batch dimension (i.e. 3D or 4D inputs).\n",
            "  warnings.warn(warn_msg)\n",
            "100%|██████████| 25/25 [00:00<00:00, 30.92it/s]\n",
            "100%|██████████| 11/11 [00:00<00:00, 16.82it/s]"
          ]
        },
        {
          "name": "stdout",
          "output_type": "stream",
          "text": [
            "\n",
            "Test Acc :  91.52046783625731\n"
          ]
        },
        {
          "name": "stderr",
          "output_type": "stream",
          "text": [
            "\n"
          ]
        }
      ],
      "source": [
        "# KNN :\n",
        "print(\"Test Acc without KNN :{} \".format(test_acc_cosine[149]))\n",
        "KNN_on_embeddings(dataset_train , dataset_test , model_cosine , K=5)"
      ]
    },
    {
      "cell_type": "markdown",
      "metadata": {
        "id": "Z2tzDnDLE_fd"
      },
      "source": [
        "# **Euclidean Distance with Mining**"
      ]
    },
    {
      "cell_type": "code",
      "execution_count": 6,
      "metadata": {
        "colab": {
          "base_uri": "https://localhost:8080/"
        },
        "id": "mGDDedRUE_fe",
        "outputId": "e42f3723-046d-4b9a-b7c1-f080c2c5be1c"
      },
      "outputs": [
        {
          "name": "stdout",
          "output_type": "stream",
          "text": [
            "Epoch : 1\n"
          ]
        },
        {
          "name": "stderr",
          "output_type": "stream",
          "text": [
            "/usr/local/lib/python3.8/dist-packages/torch/nn/functional.py:1331: UserWarning: dropout2d: Received a 2-D input to dropout2d, which is deprecated and will result in an error in a future release. To retain the behavior and silence this warning, please use dropout instead. Note that dropout2d exists to provide channel-wise dropout on inputs with 2 spatial dimensions, a channel dimension, and an optional batch dimension (i.e. 3D or 4D inputs).\n",
            "  warnings.warn(warn_msg)\n"
          ]
        },
        {
          "name": "stdout",
          "output_type": "stream",
          "text": [
            "Train : avg_loss = 0.16948091983795166\n"
          ]
        },
        {
          "name": "stderr",
          "output_type": "stream",
          "text": [
            "100%|██████████| 25/25 [00:00<00:00, 69.08it/s]\n",
            "100%|██████████| 11/11 [00:00<00:00, 46.29it/s]\n"
          ]
        },
        {
          "name": "stdout",
          "output_type": "stream",
          "text": [
            "Test : avg_loss = 0.3419802784919739\n",
            "Test : acc = 0.47368421052631576\n",
            "******************************************\n",
            "Epoch : 2\n",
            "Train : avg_loss = 0.13241738080978394\n"
          ]
        },
        {
          "name": "stderr",
          "output_type": "stream",
          "text": [
            "100%|██████████| 25/25 [00:00<00:00, 69.21it/s]\n",
            "100%|██████████| 11/11 [00:00<00:00, 45.44it/s]\n"
          ]
        },
        {
          "name": "stdout",
          "output_type": "stream",
          "text": [
            "Test : avg_loss = 0.2133355438709259\n",
            "Test : acc = 0.41228070175438597\n",
            "******************************************\n",
            "Epoch : 3\n",
            "Train : avg_loss = 0.1088072806596756\n"
          ]
        },
        {
          "name": "stderr",
          "output_type": "stream",
          "text": [
            "100%|██████████| 25/25 [00:00<00:00, 68.00it/s]\n",
            "100%|██████████| 11/11 [00:00<00:00, 46.59it/s]\n"
          ]
        },
        {
          "name": "stdout",
          "output_type": "stream",
          "text": [
            "Test : avg_loss = 0.21551759541034698\n",
            "Test : acc = 0.35964912280701755\n",
            "******************************************\n",
            "Epoch : 4\n",
            "Train : avg_loss = 0.10778903216123581\n"
          ]
        },
        {
          "name": "stderr",
          "output_type": "stream",
          "text": [
            "100%|██████████| 25/25 [00:00<00:00, 69.06it/s]\n",
            "100%|██████████| 11/11 [00:00<00:00, 44.89it/s]\n"
          ]
        },
        {
          "name": "stdout",
          "output_type": "stream",
          "text": [
            "Test : avg_loss = 0.20293398201465607\n",
            "Test : acc = 0.41228070175438597\n",
            "******************************************\n",
            "Epoch : 5\n",
            "Train : avg_loss = 0.10493019223213196\n"
          ]
        },
        {
          "name": "stderr",
          "output_type": "stream",
          "text": [
            "100%|██████████| 25/25 [00:00<00:00, 68.10it/s]\n",
            "100%|██████████| 11/11 [00:00<00:00, 44.02it/s]\n"
          ]
        },
        {
          "name": "stdout",
          "output_type": "stream",
          "text": [
            "Test : avg_loss = 0.31652185320854187\n",
            "Test : acc = 0.3654970760233918\n",
            "******************************************\n",
            "Epoch : 6\n",
            "Train : avg_loss = 0.11503686755895615\n"
          ]
        },
        {
          "name": "stderr",
          "output_type": "stream",
          "text": [
            "100%|██████████| 25/25 [00:00<00:00, 59.05it/s]\n",
            "100%|██████████| 11/11 [00:00<00:00, 45.60it/s]\n"
          ]
        },
        {
          "name": "stdout",
          "output_type": "stream",
          "text": [
            "Test : avg_loss = 0.2138209342956543\n",
            "Test : acc = 0.39766081871345027\n",
            "******************************************\n",
            "Epoch : 7\n",
            "Train : avg_loss = 0.10671688616275787\n"
          ]
        },
        {
          "name": "stderr",
          "output_type": "stream",
          "text": [
            "100%|██████████| 25/25 [00:00<00:00, 71.02it/s]\n",
            "100%|██████████| 11/11 [00:00<00:00, 44.75it/s]\n"
          ]
        },
        {
          "name": "stdout",
          "output_type": "stream",
          "text": [
            "Test : avg_loss = 0.21158111095428467\n",
            "Test : acc = 0.42105263157894735\n",
            "******************************************\n",
            "Epoch : 8\n",
            "Train : avg_loss = 0.10040070861577988\n"
          ]
        },
        {
          "name": "stderr",
          "output_type": "stream",
          "text": [
            "100%|██████████| 25/25 [00:00<00:00, 66.64it/s]\n",
            "100%|██████████| 11/11 [00:00<00:00, 44.64it/s]\n"
          ]
        },
        {
          "name": "stdout",
          "output_type": "stream",
          "text": [
            "Test : avg_loss = 0.22407576441764832\n",
            "Test : acc = 0.391812865497076\n",
            "******************************************\n",
            "Epoch : 9\n",
            "Train : avg_loss = 0.107424296438694\n"
          ]
        },
        {
          "name": "stderr",
          "output_type": "stream",
          "text": [
            "100%|██████████| 25/25 [00:00<00:00, 65.98it/s]\n",
            "100%|██████████| 11/11 [00:00<00:00, 40.53it/s]\n"
          ]
        },
        {
          "name": "stdout",
          "output_type": "stream",
          "text": [
            "Test : avg_loss = 0.20932045578956604\n",
            "Test : acc = 0.43859649122807015\n",
            "******************************************\n",
            "Epoch : 10\n",
            "Train : avg_loss = 0.10409906506538391\n"
          ]
        },
        {
          "name": "stderr",
          "output_type": "stream",
          "text": [
            "100%|██████████| 25/25 [00:00<00:00, 64.93it/s]\n",
            "100%|██████████| 11/11 [00:00<00:00, 41.13it/s]\n"
          ]
        },
        {
          "name": "stdout",
          "output_type": "stream",
          "text": [
            "Test : avg_loss = 0.2083820104598999\n",
            "Test : acc = 0.40058479532163743\n",
            "******************************************\n",
            "Epoch : 11\n",
            "Train : avg_loss = 0.10261644423007965\n"
          ]
        },
        {
          "name": "stderr",
          "output_type": "stream",
          "text": [
            "100%|██████████| 25/25 [00:00<00:00, 64.65it/s]\n",
            "100%|██████████| 11/11 [00:00<00:00, 41.59it/s]\n"
          ]
        },
        {
          "name": "stdout",
          "output_type": "stream",
          "text": [
            "Test : avg_loss = 0.22171008586883545\n",
            "Test : acc = 0.35964912280701755\n",
            "******************************************\n",
            "Epoch : 12\n",
            "Train : avg_loss = 0.10501344501972198\n"
          ]
        },
        {
          "name": "stderr",
          "output_type": "stream",
          "text": [
            "100%|██████████| 25/25 [00:00<00:00, 65.29it/s]\n",
            "100%|██████████| 11/11 [00:00<00:00, 44.81it/s]\n"
          ]
        },
        {
          "name": "stdout",
          "output_type": "stream",
          "text": [
            "Test : avg_loss = 0.2052905559539795\n",
            "Test : acc = 0.43567251461988304\n",
            "******************************************\n",
            "Epoch : 13\n",
            "Train : avg_loss = 0.10266061872243881\n"
          ]
        },
        {
          "name": "stderr",
          "output_type": "stream",
          "text": [
            "100%|██████████| 25/25 [00:00<00:00, 63.93it/s]\n",
            "100%|██████████| 11/11 [00:00<00:00, 42.97it/s]\n"
          ]
        },
        {
          "name": "stdout",
          "output_type": "stream",
          "text": [
            "Test : avg_loss = 0.21007853746414185\n",
            "Test : acc = 0.3713450292397661\n",
            "******************************************\n",
            "Epoch : 14\n",
            "Train : avg_loss = 0.10921119153499603\n"
          ]
        },
        {
          "name": "stderr",
          "output_type": "stream",
          "text": [
            "100%|██████████| 25/25 [00:00<00:00, 63.65it/s]\n",
            "100%|██████████| 11/11 [00:00<00:00, 41.28it/s]\n"
          ]
        },
        {
          "name": "stdout",
          "output_type": "stream",
          "text": [
            "Test : avg_loss = 0.20831385254859924\n",
            "Test : acc = 0.40350877192982454\n",
            "******************************************\n",
            "Epoch : 15\n",
            "Train : avg_loss = 0.10029507428407669\n"
          ]
        },
        {
          "name": "stderr",
          "output_type": "stream",
          "text": [
            "100%|██████████| 25/25 [00:00<00:00, 63.58it/s]\n",
            "100%|██████████| 11/11 [00:00<00:00, 41.73it/s]\n"
          ]
        },
        {
          "name": "stdout",
          "output_type": "stream",
          "text": [
            "Test : avg_loss = 0.20146316289901733\n",
            "Test : acc = 0.4152046783625731\n",
            "******************************************\n",
            "Epoch : 16\n",
            "Train : avg_loss = 0.10475695133209229\n"
          ]
        },
        {
          "name": "stderr",
          "output_type": "stream",
          "text": [
            "100%|██████████| 25/25 [00:00<00:00, 62.11it/s]\n",
            "100%|██████████| 11/11 [00:00<00:00, 38.61it/s]\n"
          ]
        },
        {
          "name": "stdout",
          "output_type": "stream",
          "text": [
            "Test : avg_loss = 0.19635385274887085\n",
            "Test : acc = 0.4619883040935672\n",
            "******************************************\n",
            "Epoch : 17\n",
            "Train : avg_loss = 0.10711847245693207\n"
          ]
        },
        {
          "name": "stderr",
          "output_type": "stream",
          "text": [
            "100%|██████████| 25/25 [00:00<00:00, 63.59it/s]\n",
            "100%|██████████| 11/11 [00:00<00:00, 38.29it/s]\n"
          ]
        },
        {
          "name": "stdout",
          "output_type": "stream",
          "text": [
            "Test : avg_loss = 0.20306852459907532\n",
            "Test : acc = 0.48830409356725146\n",
            "******************************************\n",
            "Epoch : 18\n",
            "Train : avg_loss = 0.10628022253513336\n"
          ]
        },
        {
          "name": "stderr",
          "output_type": "stream",
          "text": [
            "100%|██████████| 25/25 [00:00<00:00, 62.11it/s]\n",
            "100%|██████████| 11/11 [00:00<00:00, 39.34it/s]\n"
          ]
        },
        {
          "name": "stdout",
          "output_type": "stream",
          "text": [
            "Test : avg_loss = 0.202652245759964\n",
            "Test : acc = 0.4678362573099415\n",
            "******************************************\n",
            "Epoch : 19\n",
            "Train : avg_loss = 0.10276484489440918\n"
          ]
        },
        {
          "name": "stderr",
          "output_type": "stream",
          "text": [
            "100%|██████████| 25/25 [00:00<00:00, 59.07it/s]\n",
            "100%|██████████| 11/11 [00:00<00:00, 32.33it/s]\n"
          ]
        },
        {
          "name": "stdout",
          "output_type": "stream",
          "text": [
            "Test : avg_loss = 0.20314621925354004\n",
            "Test : acc = 0.5175438596491229\n",
            "******************************************\n",
            "Epoch : 20\n",
            "Train : avg_loss = 0.10730909556150436\n"
          ]
        },
        {
          "name": "stderr",
          "output_type": "stream",
          "text": [
            "100%|██████████| 25/25 [00:00<00:00, 58.39it/s]\n",
            "100%|██████████| 11/11 [00:00<00:00, 35.76it/s]\n"
          ]
        },
        {
          "name": "stdout",
          "output_type": "stream",
          "text": [
            "Test : avg_loss = 0.21069872379302979\n",
            "Test : acc = 0.5233918128654971\n",
            "******************************************\n",
            "Epoch : 21\n",
            "Train : avg_loss = 0.11027741432189941\n"
          ]
        },
        {
          "name": "stderr",
          "output_type": "stream",
          "text": [
            "100%|██████████| 25/25 [00:00<00:00, 60.66it/s]\n",
            "100%|██████████| 11/11 [00:00<00:00, 39.32it/s]\n"
          ]
        },
        {
          "name": "stdout",
          "output_type": "stream",
          "text": [
            "Test : avg_loss = 0.20073169469833374\n",
            "Test : acc = 0.5087719298245614\n",
            "******************************************\n",
            "Epoch : 22\n",
            "Train : avg_loss = 0.10449139773845673\n"
          ]
        },
        {
          "name": "stderr",
          "output_type": "stream",
          "text": [
            "100%|██████████| 25/25 [00:00<00:00, 56.97it/s]\n",
            "100%|██████████| 11/11 [00:00<00:00, 35.57it/s]\n"
          ]
        },
        {
          "name": "stdout",
          "output_type": "stream",
          "text": [
            "Test : avg_loss = 0.20267972350120544\n",
            "Test : acc = 0.5380116959064327\n",
            "******************************************\n",
            "Epoch : 23\n",
            "Train : avg_loss = 0.10275670886039734\n"
          ]
        },
        {
          "name": "stderr",
          "output_type": "stream",
          "text": [
            "100%|██████████| 25/25 [00:00<00:00, 59.46it/s]\n",
            "100%|██████████| 11/11 [00:00<00:00, 39.24it/s]\n"
          ]
        },
        {
          "name": "stdout",
          "output_type": "stream",
          "text": [
            "Test : avg_loss = 0.19805210828781128\n",
            "Test : acc = 0.6052631578947368\n",
            "******************************************\n",
            "Epoch : 24\n",
            "Train : avg_loss = 0.10605496168136597\n"
          ]
        },
        {
          "name": "stderr",
          "output_type": "stream",
          "text": [
            "100%|██████████| 25/25 [00:00<00:00, 60.24it/s]\n",
            "100%|██████████| 11/11 [00:00<00:00, 41.08it/s]\n"
          ]
        },
        {
          "name": "stdout",
          "output_type": "stream",
          "text": [
            "Test : avg_loss = 0.20333421230316162\n",
            "Test : acc = 0.5760233918128655\n",
            "******************************************\n",
            "Epoch : 25\n",
            "Train : avg_loss = 0.10831201821565628\n"
          ]
        },
        {
          "name": "stderr",
          "output_type": "stream",
          "text": [
            "100%|██████████| 25/25 [00:00<00:00, 56.99it/s]\n",
            "100%|██████████| 11/11 [00:00<00:00, 40.30it/s]\n"
          ]
        },
        {
          "name": "stdout",
          "output_type": "stream",
          "text": [
            "Test : avg_loss = 0.1991681158542633\n",
            "Test : acc = 0.5614035087719298\n",
            "******************************************\n",
            "Epoch : 26\n",
            "Train : avg_loss = 0.09965074807405472\n"
          ]
        },
        {
          "name": "stderr",
          "output_type": "stream",
          "text": [
            "100%|██████████| 25/25 [00:00<00:00, 61.13it/s]\n",
            "100%|██████████| 11/11 [00:00<00:00, 36.89it/s]\n"
          ]
        },
        {
          "name": "stdout",
          "output_type": "stream",
          "text": [
            "Test : avg_loss = 0.2058044672012329\n",
            "Test : acc = 0.5467836257309941\n",
            "******************************************\n",
            "Epoch : 27\n",
            "Train : avg_loss = 0.10768484324216843\n"
          ]
        },
        {
          "name": "stderr",
          "output_type": "stream",
          "text": [
            "100%|██████████| 25/25 [00:00<00:00, 58.77it/s]\n",
            "100%|██████████| 11/11 [00:00<00:00, 39.25it/s]\n"
          ]
        },
        {
          "name": "stdout",
          "output_type": "stream",
          "text": [
            "Test : avg_loss = 0.2047705054283142\n",
            "Test : acc = 0.6052631578947368\n",
            "******************************************\n",
            "Epoch : 28\n",
            "Train : avg_loss = 0.10815644264221191\n"
          ]
        },
        {
          "name": "stderr",
          "output_type": "stream",
          "text": [
            "100%|██████████| 25/25 [00:00<00:00, 61.27it/s]\n",
            "100%|██████████| 11/11 [00:00<00:00, 39.73it/s]\n"
          ]
        },
        {
          "name": "stdout",
          "output_type": "stream",
          "text": [
            "Test : avg_loss = 0.19834251701831818\n",
            "Test : acc = 0.5497076023391813\n",
            "******************************************\n",
            "Epoch : 29\n",
            "Train : avg_loss = 0.09806060791015625\n"
          ]
        },
        {
          "name": "stderr",
          "output_type": "stream",
          "text": [
            "100%|██████████| 25/25 [00:00<00:00, 57.73it/s]\n",
            "100%|██████████| 11/11 [00:00<00:00, 36.41it/s]\n"
          ]
        },
        {
          "name": "stdout",
          "output_type": "stream",
          "text": [
            "Test : avg_loss = 0.19828423857688904\n",
            "Test : acc = 0.5467836257309941\n",
            "******************************************\n",
            "Epoch : 30\n",
            "Train : avg_loss = 0.10875368863344193\n"
          ]
        },
        {
          "name": "stderr",
          "output_type": "stream",
          "text": [
            "100%|██████████| 25/25 [00:00<00:00, 53.49it/s]\n",
            "100%|██████████| 11/11 [00:00<00:00, 33.66it/s]\n"
          ]
        },
        {
          "name": "stdout",
          "output_type": "stream",
          "text": [
            "Test : avg_loss = 0.20057961344718933\n",
            "Test : acc = 0.6081871345029239\n",
            "******************************************\n",
            "Epoch : 31\n",
            "Train : avg_loss = 0.10490495711565018\n"
          ]
        },
        {
          "name": "stderr",
          "output_type": "stream",
          "text": [
            "100%|██████████| 25/25 [00:00<00:00, 57.47it/s]\n",
            "100%|██████████| 11/11 [00:00<00:00, 34.54it/s]\n"
          ]
        },
        {
          "name": "stdout",
          "output_type": "stream",
          "text": [
            "Test : avg_loss = 0.2057998776435852\n",
            "Test : acc = 0.6257309941520468\n",
            "******************************************\n",
            "Epoch : 32\n",
            "Train : avg_loss = 0.09507295489311218\n"
          ]
        },
        {
          "name": "stderr",
          "output_type": "stream",
          "text": [
            "100%|██████████| 25/25 [00:00<00:00, 57.19it/s]\n",
            "100%|██████████| 11/11 [00:00<00:00, 36.70it/s]\n"
          ]
        },
        {
          "name": "stdout",
          "output_type": "stream",
          "text": [
            "Test : avg_loss = 0.23322202265262604\n",
            "Test : acc = 0.5760233918128655\n",
            "******************************************\n",
            "Epoch : 33\n",
            "Train : avg_loss = 0.11066345870494843\n"
          ]
        },
        {
          "name": "stderr",
          "output_type": "stream",
          "text": [
            "100%|██████████| 25/25 [00:00<00:00, 54.38it/s]\n",
            "100%|██████████| 11/11 [00:00<00:00, 36.14it/s]\n"
          ]
        },
        {
          "name": "stdout",
          "output_type": "stream",
          "text": [
            "Test : avg_loss = 0.199598491191864\n",
            "Test : acc = 0.5964912280701754\n",
            "******************************************\n",
            "Epoch : 34\n",
            "Train : avg_loss = 0.10581472516059875\n"
          ]
        },
        {
          "name": "stderr",
          "output_type": "stream",
          "text": [
            "100%|██████████| 25/25 [00:00<00:00, 25.18it/s]\n",
            "100%|██████████| 11/11 [00:00<00:00, 18.69it/s]\n"
          ]
        },
        {
          "name": "stdout",
          "output_type": "stream",
          "text": [
            "Test : avg_loss = 0.20250967144966125\n",
            "Test : acc = 0.5614035087719298\n",
            "******************************************\n",
            "Epoch : 35\n",
            "Train : avg_loss = 0.10973156988620758\n"
          ]
        },
        {
          "name": "stderr",
          "output_type": "stream",
          "text": [
            "100%|██████████| 25/25 [00:00<00:00, 55.89it/s]\n",
            "100%|██████████| 11/11 [00:00<00:00, 34.75it/s]\n"
          ]
        },
        {
          "name": "stdout",
          "output_type": "stream",
          "text": [
            "Test : avg_loss = 0.21366837620735168\n",
            "Test : acc = 0.5380116959064327\n",
            "******************************************\n",
            "Epoch : 36\n",
            "Train : avg_loss = 0.1125953271985054\n"
          ]
        },
        {
          "name": "stderr",
          "output_type": "stream",
          "text": [
            "100%|██████████| 25/25 [00:00<00:00, 52.80it/s]\n",
            "100%|██████████| 11/11 [00:00<00:00, 33.33it/s]\n"
          ]
        },
        {
          "name": "stdout",
          "output_type": "stream",
          "text": [
            "Test : avg_loss = 0.19699394702911377\n",
            "Test : acc = 0.5526315789473685\n",
            "******************************************\n",
            "Epoch : 37\n",
            "Train : avg_loss = 0.10199373960494995\n"
          ]
        },
        {
          "name": "stderr",
          "output_type": "stream",
          "text": [
            "100%|██████████| 25/25 [00:00<00:00, 56.10it/s]\n",
            "100%|██████████| 11/11 [00:00<00:00, 33.01it/s]\n"
          ]
        },
        {
          "name": "stdout",
          "output_type": "stream",
          "text": [
            "Test : avg_loss = 0.20480728149414062\n",
            "Test : acc = 0.5380116959064327\n",
            "******************************************\n",
            "Epoch : 38\n",
            "Train : avg_loss = 0.11813361942768097\n"
          ]
        },
        {
          "name": "stderr",
          "output_type": "stream",
          "text": [
            "100%|██████████| 25/25 [00:00<00:00, 52.92it/s]\n",
            "100%|██████████| 11/11 [00:00<00:00, 35.39it/s]\n"
          ]
        },
        {
          "name": "stdout",
          "output_type": "stream",
          "text": [
            "Test : avg_loss = 0.20881791412830353\n",
            "Test : acc = 0.5847953216374269\n",
            "******************************************\n",
            "Epoch : 39\n",
            "Train : avg_loss = 0.10480280220508575\n"
          ]
        },
        {
          "name": "stderr",
          "output_type": "stream",
          "text": [
            "100%|██████████| 25/25 [00:00<00:00, 53.58it/s]\n",
            "100%|██████████| 11/11 [00:00<00:00, 34.59it/s]\n"
          ]
        },
        {
          "name": "stdout",
          "output_type": "stream",
          "text": [
            "Test : avg_loss = 0.21408262848854065\n",
            "Test : acc = 0.5380116959064327\n",
            "******************************************\n",
            "Epoch : 40\n",
            "Train : avg_loss = 0.103938028216362\n"
          ]
        },
        {
          "name": "stderr",
          "output_type": "stream",
          "text": [
            "100%|██████████| 25/25 [00:00<00:00, 50.98it/s]\n",
            "100%|██████████| 11/11 [00:00<00:00, 30.88it/s]\n"
          ]
        },
        {
          "name": "stdout",
          "output_type": "stream",
          "text": [
            "Test : avg_loss = 0.20542341470718384\n",
            "Test : acc = 0.5701754385964912\n",
            "******************************************\n",
            "Epoch : 41\n",
            "Train : avg_loss = 0.10562492161989212\n"
          ]
        },
        {
          "name": "stderr",
          "output_type": "stream",
          "text": [
            "100%|██████████| 25/25 [00:00<00:00, 50.80it/s]\n",
            "100%|██████████| 11/11 [00:00<00:00, 31.80it/s]\n"
          ]
        },
        {
          "name": "stdout",
          "output_type": "stream",
          "text": [
            "Test : avg_loss = 0.2209164798259735\n",
            "Test : acc = 0.5760233918128655\n",
            "******************************************\n",
            "Epoch : 42\n",
            "Train : avg_loss = 0.10918446630239487\n"
          ]
        },
        {
          "name": "stderr",
          "output_type": "stream",
          "text": [
            "100%|██████████| 25/25 [00:00<00:00, 55.13it/s]\n",
            "100%|██████████| 11/11 [00:00<00:00, 32.31it/s]\n"
          ]
        },
        {
          "name": "stdout",
          "output_type": "stream",
          "text": [
            "Test : avg_loss = 0.2805429697036743\n",
            "Test : acc = 0.6228070175438597\n",
            "******************************************\n",
            "Epoch : 43\n",
            "Train : avg_loss = 0.10988659411668777\n"
          ]
        },
        {
          "name": "stderr",
          "output_type": "stream",
          "text": [
            "100%|██████████| 25/25 [00:00<00:00, 52.38it/s]\n",
            "100%|██████████| 11/11 [00:00<00:00, 33.14it/s]\n"
          ]
        },
        {
          "name": "stdout",
          "output_type": "stream",
          "text": [
            "Test : avg_loss = 0.2044581174850464\n",
            "Test : acc = 0.5614035087719298\n",
            "******************************************\n",
            "Epoch : 44\n",
            "Train : avg_loss = 0.10048459470272064\n"
          ]
        },
        {
          "name": "stderr",
          "output_type": "stream",
          "text": [
            "100%|██████████| 25/25 [00:00<00:00, 55.10it/s]\n",
            "100%|██████████| 11/11 [00:00<00:00, 34.25it/s]\n"
          ]
        },
        {
          "name": "stdout",
          "output_type": "stream",
          "text": [
            "Test : avg_loss = 0.190759539604187\n",
            "Test : acc = 0.6286549707602339\n",
            "******************************************\n",
            "Epoch : 45\n",
            "Train : avg_loss = 0.1049177423119545\n"
          ]
        },
        {
          "name": "stderr",
          "output_type": "stream",
          "text": [
            "100%|██████████| 25/25 [00:00<00:00, 52.41it/s]\n",
            "100%|██████████| 11/11 [00:00<00:00, 32.33it/s]\n"
          ]
        },
        {
          "name": "stdout",
          "output_type": "stream",
          "text": [
            "Test : avg_loss = 0.21911361813545227\n",
            "Test : acc = 0.6023391812865497\n",
            "******************************************\n",
            "Epoch : 46\n",
            "Train : avg_loss = 0.10247358679771423\n"
          ]
        },
        {
          "name": "stderr",
          "output_type": "stream",
          "text": [
            "100%|██████████| 25/25 [00:00<00:00, 54.14it/s]\n",
            "100%|██████████| 11/11 [00:00<00:00, 32.57it/s]\n"
          ]
        },
        {
          "name": "stdout",
          "output_type": "stream",
          "text": [
            "Test : avg_loss = 0.19525179266929626\n",
            "Test : acc = 0.6228070175438597\n",
            "******************************************\n",
            "Epoch : 47\n",
            "Train : avg_loss = 0.1004452034831047\n"
          ]
        },
        {
          "name": "stderr",
          "output_type": "stream",
          "text": [
            "100%|██████████| 25/25 [00:00<00:00, 51.40it/s]\n",
            "100%|██████████| 11/11 [00:00<00:00, 27.84it/s]\n"
          ]
        },
        {
          "name": "stdout",
          "output_type": "stream",
          "text": [
            "Test : avg_loss = 0.203398197889328\n",
            "Test : acc = 0.6403508771929824\n",
            "******************************************\n",
            "Epoch : 48\n",
            "Train : avg_loss = 0.09941428899765015\n"
          ]
        },
        {
          "name": "stderr",
          "output_type": "stream",
          "text": [
            "100%|██████████| 25/25 [00:00<00:00, 47.96it/s]\n",
            "100%|██████████| 11/11 [00:00<00:00, 32.00it/s]\n"
          ]
        },
        {
          "name": "stdout",
          "output_type": "stream",
          "text": [
            "Test : avg_loss = 0.19048190116882324\n",
            "Test : acc = 0.6374269005847953\n",
            "******************************************\n",
            "Epoch : 49\n",
            "Train : avg_loss = 0.0950421467423439\n"
          ]
        },
        {
          "name": "stderr",
          "output_type": "stream",
          "text": [
            "100%|██████████| 25/25 [00:00<00:00, 49.87it/s]\n",
            "100%|██████████| 11/11 [00:00<00:00, 30.61it/s]\n"
          ]
        },
        {
          "name": "stdout",
          "output_type": "stream",
          "text": [
            "Test : avg_loss = 0.2126791775226593\n",
            "Test : acc = 0.631578947368421\n",
            "******************************************\n",
            "Epoch : 50\n",
            "Train : avg_loss = 0.10289406776428223\n"
          ]
        },
        {
          "name": "stderr",
          "output_type": "stream",
          "text": [
            "100%|██████████| 25/25 [00:00<00:00, 51.04it/s]\n",
            "100%|██████████| 11/11 [00:00<00:00, 30.77it/s]\n"
          ]
        },
        {
          "name": "stdout",
          "output_type": "stream",
          "text": [
            "Test : avg_loss = 0.18969297409057617\n",
            "Test : acc = 0.6169590643274854\n",
            "******************************************\n",
            "Epoch : 51\n",
            "Train : avg_loss = 0.10240094363689423\n"
          ]
        },
        {
          "name": "stderr",
          "output_type": "stream",
          "text": [
            "100%|██████████| 25/25 [00:00<00:00, 48.41it/s]\n",
            "100%|██████████| 11/11 [00:00<00:00, 30.31it/s]\n"
          ]
        },
        {
          "name": "stdout",
          "output_type": "stream",
          "text": [
            "Test : avg_loss = 0.20956560969352722\n",
            "Test : acc = 0.6374269005847953\n",
            "******************************************\n",
            "Epoch : 52\n",
            "Train : avg_loss = 0.1093086376786232\n"
          ]
        },
        {
          "name": "stderr",
          "output_type": "stream",
          "text": [
            "100%|██████████| 25/25 [00:00<00:00, 48.41it/s]\n",
            "100%|██████████| 11/11 [00:00<00:00, 29.56it/s]\n"
          ]
        },
        {
          "name": "stdout",
          "output_type": "stream",
          "text": [
            "Test : avg_loss = 0.2049224078655243\n",
            "Test : acc = 0.6403508771929824\n",
            "******************************************\n",
            "Epoch : 53\n",
            "Train : avg_loss = 0.10709884762763977\n"
          ]
        },
        {
          "name": "stderr",
          "output_type": "stream",
          "text": [
            "100%|██████████| 25/25 [00:00<00:00, 45.63it/s]\n",
            "100%|██████████| 11/11 [00:00<00:00, 29.77it/s]\n"
          ]
        },
        {
          "name": "stdout",
          "output_type": "stream",
          "text": [
            "Test : avg_loss = 0.20659899711608887\n",
            "Test : acc = 0.6345029239766082\n",
            "******************************************\n",
            "Epoch : 54\n",
            "Train : avg_loss = 0.11058923602104187\n"
          ]
        },
        {
          "name": "stderr",
          "output_type": "stream",
          "text": [
            "100%|██████████| 25/25 [00:00<00:00, 26.74it/s]\n",
            "100%|██████████| 11/11 [00:00<00:00, 14.98it/s]\n"
          ]
        },
        {
          "name": "stdout",
          "output_type": "stream",
          "text": [
            "Test : avg_loss = 0.21366161108016968\n",
            "Test : acc = 0.6461988304093568\n",
            "******************************************\n",
            "Epoch : 55\n",
            "Train : avg_loss = 0.10253219306468964\n"
          ]
        },
        {
          "name": "stderr",
          "output_type": "stream",
          "text": [
            "100%|██████████| 25/25 [00:01<00:00, 23.16it/s]\n",
            "100%|██████████| 11/11 [00:00<00:00, 15.32it/s]\n"
          ]
        },
        {
          "name": "stdout",
          "output_type": "stream",
          "text": [
            "Test : avg_loss = 0.21946240961551666\n",
            "Test : acc = 0.6695906432748538\n",
            "******************************************\n",
            "Epoch : 56\n",
            "Train : avg_loss = 0.10565701872110367\n"
          ]
        },
        {
          "name": "stderr",
          "output_type": "stream",
          "text": [
            "100%|██████████| 25/25 [00:01<00:00, 19.95it/s]\n",
            "100%|██████████| 11/11 [00:00<00:00, 13.90it/s]\n"
          ]
        },
        {
          "name": "stdout",
          "output_type": "stream",
          "text": [
            "Test : avg_loss = 0.20643895864486694\n",
            "Test : acc = 0.6637426900584795\n",
            "******************************************\n",
            "Epoch : 57\n",
            "Train : avg_loss = 0.10503022372722626\n"
          ]
        },
        {
          "name": "stderr",
          "output_type": "stream",
          "text": [
            "100%|██████████| 25/25 [00:01<00:00, 21.08it/s]\n",
            "100%|██████████| 11/11 [00:00<00:00, 12.61it/s]\n"
          ]
        },
        {
          "name": "stdout",
          "output_type": "stream",
          "text": [
            "Test : avg_loss = 0.20517447590827942\n",
            "Test : acc = 0.6403508771929824\n",
            "******************************************\n",
            "Epoch : 58\n",
            "Train : avg_loss = 0.09773129224777222\n"
          ]
        },
        {
          "name": "stderr",
          "output_type": "stream",
          "text": [
            "100%|██████████| 25/25 [00:01<00:00, 22.75it/s]\n",
            "100%|██████████| 11/11 [00:00<00:00, 14.82it/s]\n"
          ]
        },
        {
          "name": "stdout",
          "output_type": "stream",
          "text": [
            "Test : avg_loss = 0.21280646324157715\n",
            "Test : acc = 0.6608187134502924\n",
            "******************************************\n",
            "Epoch : 59\n",
            "Train : avg_loss = 0.09993225336074829\n"
          ]
        },
        {
          "name": "stderr",
          "output_type": "stream",
          "text": [
            "100%|██████████| 25/25 [00:00<00:00, 39.55it/s]\n",
            "100%|██████████| 11/11 [00:00<00:00, 24.66it/s]\n"
          ]
        },
        {
          "name": "stdout",
          "output_type": "stream",
          "text": [
            "Test : avg_loss = 0.21882767975330353\n",
            "Test : acc = 0.6432748538011696\n",
            "******************************************\n",
            "Epoch : 60\n",
            "Train : avg_loss = 0.10391800105571747\n"
          ]
        },
        {
          "name": "stderr",
          "output_type": "stream",
          "text": [
            "100%|██████████| 25/25 [00:00<00:00, 40.83it/s]\n",
            "100%|██████████| 11/11 [00:00<00:00, 26.43it/s]\n"
          ]
        },
        {
          "name": "stdout",
          "output_type": "stream",
          "text": [
            "Test : avg_loss = 0.20734664797782898\n",
            "Test : acc = 0.631578947368421\n",
            "******************************************\n",
            "Epoch : 61\n",
            "Train : avg_loss = 0.09954921901226044\n"
          ]
        },
        {
          "name": "stderr",
          "output_type": "stream",
          "text": [
            "100%|██████████| 25/25 [00:00<00:00, 40.80it/s]\n",
            "100%|██████████| 11/11 [00:00<00:00, 26.32it/s]\n"
          ]
        },
        {
          "name": "stdout",
          "output_type": "stream",
          "text": [
            "Test : avg_loss = 0.20075851678848267\n",
            "Test : acc = 0.6988304093567251\n",
            "******************************************\n",
            "Epoch : 62\n",
            "Train : avg_loss = 0.09825316071510315\n"
          ]
        },
        {
          "name": "stderr",
          "output_type": "stream",
          "text": [
            "100%|██████████| 25/25 [00:00<00:00, 40.33it/s]\n",
            "100%|██████████| 11/11 [00:00<00:00, 25.93it/s]\n"
          ]
        },
        {
          "name": "stdout",
          "output_type": "stream",
          "text": [
            "Test : avg_loss = 0.19630983471870422\n",
            "Test : acc = 0.6228070175438597\n",
            "******************************************\n",
            "Epoch : 63\n",
            "Train : avg_loss = 0.11096321791410446\n"
          ]
        },
        {
          "name": "stderr",
          "output_type": "stream",
          "text": [
            "100%|██████████| 25/25 [00:00<00:00, 41.75it/s]\n",
            "100%|██████████| 11/11 [00:00<00:00, 25.97it/s]\n"
          ]
        },
        {
          "name": "stdout",
          "output_type": "stream",
          "text": [
            "Test : avg_loss = 0.19988372921943665\n",
            "Test : acc = 0.6842105263157895\n",
            "******************************************\n",
            "Epoch : 64\n",
            "Train : avg_loss = 0.10533072799444199\n"
          ]
        },
        {
          "name": "stderr",
          "output_type": "stream",
          "text": [
            "100%|██████████| 25/25 [00:00<00:00, 41.24it/s]\n",
            "100%|██████████| 11/11 [00:00<00:00, 24.31it/s]\n"
          ]
        },
        {
          "name": "stdout",
          "output_type": "stream",
          "text": [
            "Test : avg_loss = 0.19696453213691711\n",
            "Test : acc = 0.6695906432748538\n",
            "******************************************\n",
            "Epoch : 65\n",
            "Train : avg_loss = 0.10165348649024963\n"
          ]
        },
        {
          "name": "stderr",
          "output_type": "stream",
          "text": [
            "100%|██████████| 25/25 [00:00<00:00, 39.98it/s]\n",
            "100%|██████████| 11/11 [00:00<00:00, 24.74it/s]\n"
          ]
        },
        {
          "name": "stdout",
          "output_type": "stream",
          "text": [
            "Test : avg_loss = 0.2829952836036682\n",
            "Test : acc = 0.6432748538011696\n",
            "******************************************\n",
            "Epoch : 66\n",
            "Train : avg_loss = 0.11903925240039825\n"
          ]
        },
        {
          "name": "stderr",
          "output_type": "stream",
          "text": [
            "100%|██████████| 25/25 [00:00<00:00, 43.20it/s]\n",
            "100%|██████████| 11/11 [00:00<00:00, 26.64it/s]\n"
          ]
        },
        {
          "name": "stdout",
          "output_type": "stream",
          "text": [
            "Test : avg_loss = 0.22407840192317963\n",
            "Test : acc = 0.7134502923976608\n",
            "******************************************\n",
            "Epoch : 67\n",
            "Train : avg_loss = 0.09876804053783417\n"
          ]
        },
        {
          "name": "stderr",
          "output_type": "stream",
          "text": [
            "100%|██████████| 25/25 [00:00<00:00, 45.64it/s]\n",
            "100%|██████████| 11/11 [00:00<00:00, 25.68it/s]\n"
          ]
        },
        {
          "name": "stdout",
          "output_type": "stream",
          "text": [
            "Test : avg_loss = 0.18208372592926025\n",
            "Test : acc = 0.652046783625731\n",
            "******************************************\n",
            "Epoch : 68\n",
            "Train : avg_loss = 0.09479441493749619\n"
          ]
        },
        {
          "name": "stderr",
          "output_type": "stream",
          "text": [
            "100%|██████████| 25/25 [00:00<00:00, 43.69it/s]\n",
            "100%|██████████| 11/11 [00:00<00:00, 25.69it/s]\n"
          ]
        },
        {
          "name": "stdout",
          "output_type": "stream",
          "text": [
            "Test : avg_loss = 0.19459304213523865\n",
            "Test : acc = 0.6871345029239766\n",
            "******************************************\n",
            "Epoch : 69\n",
            "Train : avg_loss = 0.100867360830307\n"
          ]
        },
        {
          "name": "stderr",
          "output_type": "stream",
          "text": [
            "100%|██████████| 25/25 [00:00<00:00, 43.13it/s]\n",
            "100%|██████████| 11/11 [00:00<00:00, 25.94it/s]\n"
          ]
        },
        {
          "name": "stdout",
          "output_type": "stream",
          "text": [
            "Test : avg_loss = 0.19901293516159058\n",
            "Test : acc = 0.6900584795321637\n",
            "******************************************\n",
            "Epoch : 70\n",
            "Train : avg_loss = 0.09495401382446289\n"
          ]
        },
        {
          "name": "stderr",
          "output_type": "stream",
          "text": [
            "100%|██████████| 25/25 [00:00<00:00, 44.74it/s]\n",
            "100%|██████████| 11/11 [00:00<00:00, 25.75it/s]\n"
          ]
        },
        {
          "name": "stdout",
          "output_type": "stream",
          "text": [
            "Test : avg_loss = 0.20310455560684204\n",
            "Test : acc = 0.7134502923976608\n",
            "******************************************\n",
            "Epoch : 71\n",
            "Train : avg_loss = 0.10575881600379944\n"
          ]
        },
        {
          "name": "stderr",
          "output_type": "stream",
          "text": [
            "100%|██████████| 25/25 [00:00<00:00, 40.60it/s]\n",
            "100%|██████████| 11/11 [00:00<00:00, 24.07it/s]\n"
          ]
        },
        {
          "name": "stdout",
          "output_type": "stream",
          "text": [
            "Test : avg_loss = 0.21204999089241028\n",
            "Test : acc = 0.6842105263157895\n",
            "******************************************\n",
            "Epoch : 72\n",
            "Train : avg_loss = 0.11031220853328705\n"
          ]
        },
        {
          "name": "stderr",
          "output_type": "stream",
          "text": [
            "100%|██████████| 25/25 [00:00<00:00, 41.78it/s]\n",
            "100%|██████████| 11/11 [00:00<00:00, 26.06it/s]\n"
          ]
        },
        {
          "name": "stdout",
          "output_type": "stream",
          "text": [
            "Test : avg_loss = 0.20666074752807617\n",
            "Test : acc = 0.7368421052631579\n",
            "******************************************\n",
            "Epoch : 73\n",
            "Train : avg_loss = 0.09859544783830643\n"
          ]
        },
        {
          "name": "stderr",
          "output_type": "stream",
          "text": [
            "100%|██████████| 25/25 [00:00<00:00, 40.29it/s]\n",
            "100%|██████████| 11/11 [00:00<00:00, 25.89it/s]\n"
          ]
        },
        {
          "name": "stdout",
          "output_type": "stream",
          "text": [
            "Test : avg_loss = 0.21331435441970825\n",
            "Test : acc = 0.7514619883040936\n",
            "******************************************\n",
            "Epoch : 74\n",
            "Train : avg_loss = 0.09761914610862732\n"
          ]
        },
        {
          "name": "stderr",
          "output_type": "stream",
          "text": [
            "100%|██████████| 25/25 [00:00<00:00, 26.87it/s]\n",
            "100%|██████████| 11/11 [00:00<00:00, 17.32it/s]\n"
          ]
        },
        {
          "name": "stdout",
          "output_type": "stream",
          "text": [
            "Test : avg_loss = 0.19955337047576904\n",
            "Test : acc = 0.7309941520467836\n",
            "******************************************\n",
            "Epoch : 75\n",
            "Train : avg_loss = 0.09591945260763168\n"
          ]
        },
        {
          "name": "stderr",
          "output_type": "stream",
          "text": [
            "100%|██████████| 25/25 [00:00<00:00, 38.77it/s]\n",
            "100%|██████████| 11/11 [00:00<00:00, 23.28it/s]\n"
          ]
        },
        {
          "name": "stdout",
          "output_type": "stream",
          "text": [
            "Test : avg_loss = 0.19548338651657104\n",
            "Test : acc = 0.7105263157894737\n",
            "******************************************\n",
            "Epoch : 76\n",
            "Train : avg_loss = 0.09696406126022339\n"
          ]
        },
        {
          "name": "stderr",
          "output_type": "stream",
          "text": [
            "100%|██████████| 25/25 [00:00<00:00, 38.94it/s]\n",
            "100%|██████████| 11/11 [00:00<00:00, 21.98it/s]\n"
          ]
        },
        {
          "name": "stdout",
          "output_type": "stream",
          "text": [
            "Test : avg_loss = 0.19215133786201477\n",
            "Test : acc = 0.695906432748538\n",
            "******************************************\n",
            "Epoch : 77\n",
            "Train : avg_loss = 0.09801510721445084\n"
          ]
        },
        {
          "name": "stderr",
          "output_type": "stream",
          "text": [
            "100%|██████████| 25/25 [00:00<00:00, 38.30it/s]\n",
            "100%|██████████| 11/11 [00:00<00:00, 21.69it/s]\n"
          ]
        },
        {
          "name": "stdout",
          "output_type": "stream",
          "text": [
            "Test : avg_loss = 0.20988008379936218\n",
            "Test : acc = 0.7076023391812866\n",
            "******************************************\n",
            "Epoch : 78\n",
            "Train : avg_loss = 0.10266835987567902\n"
          ]
        },
        {
          "name": "stderr",
          "output_type": "stream",
          "text": [
            "100%|██████████| 25/25 [00:00<00:00, 33.92it/s]\n",
            "100%|██████████| 11/11 [00:00<00:00, 21.59it/s]\n"
          ]
        },
        {
          "name": "stdout",
          "output_type": "stream",
          "text": [
            "Test : avg_loss = 0.19023150205612183\n",
            "Test : acc = 0.6842105263157895\n",
            "******************************************\n",
            "Epoch : 79\n",
            "Train : avg_loss = 0.09526199102401733\n"
          ]
        },
        {
          "name": "stderr",
          "output_type": "stream",
          "text": [
            "100%|██████████| 25/25 [00:00<00:00, 38.40it/s]\n",
            "100%|██████████| 11/11 [00:00<00:00, 23.42it/s]\n"
          ]
        },
        {
          "name": "stdout",
          "output_type": "stream",
          "text": [
            "Test : avg_loss = 0.1943943202495575\n",
            "Test : acc = 0.7192982456140351\n",
            "******************************************\n",
            "Epoch : 80\n",
            "Train : avg_loss = 0.09654809534549713\n"
          ]
        },
        {
          "name": "stderr",
          "output_type": "stream",
          "text": [
            "100%|██████████| 25/25 [00:00<00:00, 36.48it/s]\n",
            "100%|██████████| 11/11 [00:00<00:00, 21.31it/s]\n"
          ]
        },
        {
          "name": "stdout",
          "output_type": "stream",
          "text": [
            "Test : avg_loss = 0.24583888053894043\n",
            "Test : acc = 0.7076023391812866\n",
            "******************************************\n",
            "Epoch : 81\n",
            "Train : avg_loss = 0.12482138723134995\n"
          ]
        },
        {
          "name": "stderr",
          "output_type": "stream",
          "text": [
            "100%|██████████| 25/25 [00:00<00:00, 38.02it/s]\n",
            "100%|██████████| 11/11 [00:00<00:00, 21.43it/s]\n"
          ]
        },
        {
          "name": "stdout",
          "output_type": "stream",
          "text": [
            "Test : avg_loss = 0.20883357524871826\n",
            "Test : acc = 0.6461988304093568\n",
            "******************************************\n",
            "Epoch : 82\n",
            "Train : avg_loss = 0.10892080515623093\n"
          ]
        },
        {
          "name": "stderr",
          "output_type": "stream",
          "text": [
            "100%|██████████| 25/25 [00:00<00:00, 39.55it/s]\n",
            "100%|██████████| 11/11 [00:00<00:00, 22.79it/s]\n"
          ]
        },
        {
          "name": "stdout",
          "output_type": "stream",
          "text": [
            "Test : avg_loss = 0.19816216826438904\n",
            "Test : acc = 0.695906432748538\n",
            "******************************************\n",
            "Epoch : 83\n",
            "Train : avg_loss = 0.09920059889554977\n"
          ]
        },
        {
          "name": "stderr",
          "output_type": "stream",
          "text": [
            "100%|██████████| 25/25 [00:00<00:00, 38.71it/s]\n",
            "100%|██████████| 11/11 [00:00<00:00, 24.37it/s]\n"
          ]
        },
        {
          "name": "stdout",
          "output_type": "stream",
          "text": [
            "Test : avg_loss = 0.19740113615989685\n",
            "Test : acc = 0.716374269005848\n",
            "******************************************\n",
            "Epoch : 84\n",
            "Train : avg_loss = 0.10012035071849823\n"
          ]
        },
        {
          "name": "stderr",
          "output_type": "stream",
          "text": [
            "100%|██████████| 25/25 [00:00<00:00, 25.51it/s]\n",
            "100%|██████████| 11/11 [00:00<00:00, 14.33it/s]\n"
          ]
        },
        {
          "name": "stdout",
          "output_type": "stream",
          "text": [
            "Test : avg_loss = 0.2249131202697754\n",
            "Test : acc = 0.7339181286549707\n",
            "******************************************\n",
            "Epoch : 85\n",
            "Train : avg_loss = 0.11222327500581741\n"
          ]
        },
        {
          "name": "stderr",
          "output_type": "stream",
          "text": [
            "100%|██████████| 25/25 [00:00<00:00, 36.32it/s]\n",
            "100%|██████████| 11/11 [00:00<00:00, 20.17it/s]\n"
          ]
        },
        {
          "name": "stdout",
          "output_type": "stream",
          "text": [
            "Test : avg_loss = 0.20021915435791016\n",
            "Test : acc = 0.6900584795321637\n",
            "******************************************\n",
            "Epoch : 86\n",
            "Train : avg_loss = 0.09709262102842331\n"
          ]
        },
        {
          "name": "stderr",
          "output_type": "stream",
          "text": [
            "100%|██████████| 25/25 [00:00<00:00, 34.45it/s]\n",
            "100%|██████████| 11/11 [00:00<00:00, 20.89it/s]\n"
          ]
        },
        {
          "name": "stdout",
          "output_type": "stream",
          "text": [
            "Test : avg_loss = 0.18898724019527435\n",
            "Test : acc = 0.7192982456140351\n",
            "******************************************\n",
            "Epoch : 87\n",
            "Train : avg_loss = 0.09689788520336151\n"
          ]
        },
        {
          "name": "stderr",
          "output_type": "stream",
          "text": [
            "100%|██████████| 25/25 [00:00<00:00, 35.19it/s]\n",
            "100%|██████████| 11/11 [00:00<00:00, 21.34it/s]\n"
          ]
        },
        {
          "name": "stdout",
          "output_type": "stream",
          "text": [
            "Test : avg_loss = 0.19748817384243011\n",
            "Test : acc = 0.6871345029239766\n",
            "******************************************\n",
            "Epoch : 88\n",
            "Train : avg_loss = 0.11038734763860703\n"
          ]
        },
        {
          "name": "stderr",
          "output_type": "stream",
          "text": [
            "100%|██████████| 25/25 [00:00<00:00, 34.90it/s]\n",
            "100%|██████████| 11/11 [00:00<00:00, 21.76it/s]\n"
          ]
        },
        {
          "name": "stdout",
          "output_type": "stream",
          "text": [
            "Test : avg_loss = 0.25089898705482483\n",
            "Test : acc = 0.6988304093567251\n",
            "******************************************\n",
            "Epoch : 89\n",
            "Train : avg_loss = 0.12466351687908173\n"
          ]
        },
        {
          "name": "stderr",
          "output_type": "stream",
          "text": [
            "100%|██████████| 25/25 [00:00<00:00, 36.62it/s]\n",
            "100%|██████████| 11/11 [00:00<00:00, 20.91it/s]\n"
          ]
        },
        {
          "name": "stdout",
          "output_type": "stream",
          "text": [
            "Test : avg_loss = 0.2290392518043518\n",
            "Test : acc = 0.7134502923976608\n",
            "******************************************\n",
            "Epoch : 90\n",
            "Train : avg_loss = 0.10865457355976105\n"
          ]
        },
        {
          "name": "stderr",
          "output_type": "stream",
          "text": [
            "100%|██████████| 25/25 [00:00<00:00, 35.85it/s]\n",
            "100%|██████████| 11/11 [00:00<00:00, 20.91it/s]\n"
          ]
        },
        {
          "name": "stdout",
          "output_type": "stream",
          "text": [
            "Test : avg_loss = 0.23333251476287842\n",
            "Test : acc = 0.7426900584795322\n",
            "******************************************\n",
            "Epoch : 91\n",
            "Train : avg_loss = 0.10749220103025436\n"
          ]
        },
        {
          "name": "stderr",
          "output_type": "stream",
          "text": [
            "100%|██████████| 25/25 [00:00<00:00, 36.22it/s]\n",
            "100%|██████████| 11/11 [00:00<00:00, 21.27it/s]\n"
          ]
        },
        {
          "name": "stdout",
          "output_type": "stream",
          "text": [
            "Test : avg_loss = 0.2434263825416565\n",
            "Test : acc = 0.7134502923976608\n",
            "******************************************\n",
            "Epoch : 92\n",
            "Train : avg_loss = 0.1110682487487793\n"
          ]
        },
        {
          "name": "stderr",
          "output_type": "stream",
          "text": [
            "100%|██████████| 25/25 [00:00<00:00, 33.16it/s]\n",
            "100%|██████████| 11/11 [00:00<00:00, 21.15it/s]\n"
          ]
        },
        {
          "name": "stdout",
          "output_type": "stream",
          "text": [
            "Test : avg_loss = 0.20852738618850708\n",
            "Test : acc = 0.7368421052631579\n",
            "******************************************\n",
            "Epoch : 93\n",
            "Train : avg_loss = 0.1036950945854187\n"
          ]
        },
        {
          "name": "stderr",
          "output_type": "stream",
          "text": [
            "100%|██████████| 25/25 [00:01<00:00, 16.07it/s]\n",
            "100%|██████████| 11/11 [00:00<00:00, 19.91it/s]\n"
          ]
        },
        {
          "name": "stdout",
          "output_type": "stream",
          "text": [
            "Test : avg_loss = 0.19969964027404785\n",
            "Test : acc = 0.6871345029239766\n",
            "******************************************\n",
            "Epoch : 94\n",
            "Train : avg_loss = 0.09880204498767853\n"
          ]
        },
        {
          "name": "stderr",
          "output_type": "stream",
          "text": [
            "100%|██████████| 25/25 [00:00<00:00, 33.56it/s]\n",
            "100%|██████████| 11/11 [00:00<00:00, 19.43it/s]\n"
          ]
        },
        {
          "name": "stdout",
          "output_type": "stream",
          "text": [
            "Test : avg_loss = 0.19049669802188873\n",
            "Test : acc = 0.7105263157894737\n",
            "******************************************\n",
            "Epoch : 95\n",
            "Train : avg_loss = 0.09784691035747528\n"
          ]
        },
        {
          "name": "stderr",
          "output_type": "stream",
          "text": [
            "100%|██████████| 25/25 [00:00<00:00, 33.61it/s]\n",
            "100%|██████████| 11/11 [00:00<00:00, 17.80it/s]\n"
          ]
        },
        {
          "name": "stdout",
          "output_type": "stream",
          "text": [
            "Test : avg_loss = 0.19938260316848755\n",
            "Test : acc = 0.6871345029239766\n",
            "******************************************\n",
            "Epoch : 96\n",
            "Train : avg_loss = 0.10349692404270172\n"
          ]
        },
        {
          "name": "stderr",
          "output_type": "stream",
          "text": [
            "100%|██████████| 25/25 [00:00<00:00, 34.64it/s]\n",
            "100%|██████████| 11/11 [00:00<00:00, 19.70it/s]\n"
          ]
        },
        {
          "name": "stdout",
          "output_type": "stream",
          "text": [
            "Test : avg_loss = 0.20748862624168396\n",
            "Test : acc = 0.6842105263157895\n",
            "******************************************\n",
            "Epoch : 97\n",
            "Train : avg_loss = 0.10532031953334808\n"
          ]
        },
        {
          "name": "stderr",
          "output_type": "stream",
          "text": [
            "100%|██████████| 25/25 [00:00<00:00, 33.46it/s]\n",
            "100%|██████████| 11/11 [00:00<00:00, 18.79it/s]\n"
          ]
        },
        {
          "name": "stdout",
          "output_type": "stream",
          "text": [
            "Test : avg_loss = 0.18914438784122467\n",
            "Test : acc = 0.6929824561403509\n",
            "******************************************\n",
            "Epoch : 98\n",
            "Train : avg_loss = 0.0962594598531723\n"
          ]
        },
        {
          "name": "stderr",
          "output_type": "stream",
          "text": [
            "100%|██████████| 25/25 [00:00<00:00, 35.12it/s]\n",
            "100%|██████████| 11/11 [00:00<00:00, 22.20it/s]\n"
          ]
        },
        {
          "name": "stdout",
          "output_type": "stream",
          "text": [
            "Test : avg_loss = 0.1979546844959259\n",
            "Test : acc = 0.7192982456140351\n",
            "******************************************\n",
            "Epoch : 99\n",
            "Train : avg_loss = 0.08858242630958557\n"
          ]
        },
        {
          "name": "stderr",
          "output_type": "stream",
          "text": [
            "100%|██████████| 25/25 [00:00<00:00, 31.34it/s]\n",
            "100%|██████████| 11/11 [00:00<00:00, 17.68it/s]\n"
          ]
        },
        {
          "name": "stdout",
          "output_type": "stream",
          "text": [
            "Test : avg_loss = 0.2007809579372406\n",
            "Test : acc = 0.7046783625730995\n",
            "******************************************\n",
            "Epoch : 100\n",
            "Train : avg_loss = 0.09761861711740494\n"
          ]
        },
        {
          "name": "stderr",
          "output_type": "stream",
          "text": [
            "100%|██████████| 25/25 [00:00<00:00, 31.31it/s]\n",
            "100%|██████████| 11/11 [00:00<00:00, 17.92it/s]\n"
          ]
        },
        {
          "name": "stdout",
          "output_type": "stream",
          "text": [
            "Test : avg_loss = 0.19738510251045227\n",
            "Test : acc = 0.6988304093567251\n",
            "******************************************\n",
            "Epoch : 101\n",
            "Train : avg_loss = 0.11174505949020386\n"
          ]
        },
        {
          "name": "stderr",
          "output_type": "stream",
          "text": [
            "100%|██████████| 25/25 [00:00<00:00, 34.05it/s]\n",
            "100%|██████████| 11/11 [00:00<00:00, 20.00it/s]\n"
          ]
        },
        {
          "name": "stdout",
          "output_type": "stream",
          "text": [
            "Test : avg_loss = 0.19801892340183258\n",
            "Test : acc = 0.7280701754385965\n",
            "******************************************\n",
            "Epoch : 102\n",
            "Train : avg_loss = 0.09466341882944107\n"
          ]
        },
        {
          "name": "stderr",
          "output_type": "stream",
          "text": [
            "100%|██████████| 25/25 [00:00<00:00, 34.88it/s]\n",
            "100%|██████████| 11/11 [00:00<00:00, 20.42it/s]\n"
          ]
        },
        {
          "name": "stdout",
          "output_type": "stream",
          "text": [
            "Test : avg_loss = 0.22293710708618164\n",
            "Test : acc = 0.7426900584795322\n",
            "******************************************\n",
            "Epoch : 103\n",
            "Train : avg_loss = 0.10066549479961395\n"
          ]
        },
        {
          "name": "stderr",
          "output_type": "stream",
          "text": [
            "100%|██████████| 25/25 [00:00<00:00, 34.66it/s]\n",
            "100%|██████████| 11/11 [00:00<00:00, 20.07it/s]\n"
          ]
        },
        {
          "name": "stdout",
          "output_type": "stream",
          "text": [
            "Test : avg_loss = 0.22016778588294983\n",
            "Test : acc = 0.7251461988304093\n",
            "******************************************\n",
            "Epoch : 104\n",
            "Train : avg_loss = 0.09146873652935028\n"
          ]
        },
        {
          "name": "stderr",
          "output_type": "stream",
          "text": [
            "100%|██████████| 25/25 [00:00<00:00, 36.03it/s]\n",
            "100%|██████████| 11/11 [00:00<00:00, 21.61it/s]\n"
          ]
        },
        {
          "name": "stdout",
          "output_type": "stream",
          "text": [
            "Test : avg_loss = 0.22121159732341766\n",
            "Test : acc = 0.7426900584795322\n",
            "******************************************\n",
            "Epoch : 105\n",
            "Train : avg_loss = 0.1040157824754715\n"
          ]
        },
        {
          "name": "stderr",
          "output_type": "stream",
          "text": [
            "100%|██████████| 25/25 [00:00<00:00, 37.59it/s]\n",
            "100%|██████████| 11/11 [00:00<00:00, 19.63it/s]\n"
          ]
        },
        {
          "name": "stdout",
          "output_type": "stream",
          "text": [
            "Test : avg_loss = 0.195295512676239\n",
            "Test : acc = 0.7456140350877193\n",
            "******************************************\n",
            "Epoch : 106\n",
            "Train : avg_loss = 0.11128285527229309\n"
          ]
        },
        {
          "name": "stderr",
          "output_type": "stream",
          "text": [
            "100%|██████████| 25/25 [00:00<00:00, 34.99it/s]\n",
            "100%|██████████| 11/11 [00:00<00:00, 21.11it/s]\n"
          ]
        },
        {
          "name": "stdout",
          "output_type": "stream",
          "text": [
            "Test : avg_loss = 0.21214202046394348\n",
            "Test : acc = 0.7514619883040936\n",
            "******************************************\n",
            "Epoch : 107\n",
            "Train : avg_loss = 0.100142702460289\n"
          ]
        },
        {
          "name": "stderr",
          "output_type": "stream",
          "text": [
            "100%|██████████| 25/25 [00:01<00:00, 24.76it/s]\n",
            "100%|██████████| 11/11 [00:00<00:00, 18.13it/s]\n"
          ]
        },
        {
          "name": "stdout",
          "output_type": "stream",
          "text": [
            "Test : avg_loss = 0.22964590787887573\n",
            "Test : acc = 0.7368421052631579\n",
            "******************************************\n",
            "Epoch : 108\n",
            "Train : avg_loss = 0.1125452071428299\n"
          ]
        },
        {
          "name": "stderr",
          "output_type": "stream",
          "text": [
            "100%|██████████| 25/25 [00:00<00:00, 36.61it/s]\n",
            "100%|██████████| 11/11 [00:00<00:00, 21.55it/s]\n"
          ]
        },
        {
          "name": "stdout",
          "output_type": "stream",
          "text": [
            "Test : avg_loss = 0.23188063502311707\n",
            "Test : acc = 0.7777777777777778\n",
            "******************************************\n",
            "Epoch : 109\n",
            "Train : avg_loss = 0.09974577277898788\n"
          ]
        },
        {
          "name": "stderr",
          "output_type": "stream",
          "text": [
            "100%|██████████| 25/25 [00:00<00:00, 34.95it/s]\n",
            "100%|██████████| 11/11 [00:00<00:00, 20.44it/s]\n"
          ]
        },
        {
          "name": "stdout",
          "output_type": "stream",
          "text": [
            "Test : avg_loss = 0.20373547077178955\n",
            "Test : acc = 0.7076023391812866\n",
            "******************************************\n",
            "Epoch : 110\n",
            "Train : avg_loss = 0.1045544296503067\n"
          ]
        },
        {
          "name": "stderr",
          "output_type": "stream",
          "text": [
            "100%|██████████| 25/25 [00:00<00:00, 35.03it/s]\n",
            "100%|██████████| 11/11 [00:00<00:00, 18.76it/s]\n"
          ]
        },
        {
          "name": "stdout",
          "output_type": "stream",
          "text": [
            "Test : avg_loss = 0.20246347784996033\n",
            "Test : acc = 0.7368421052631579\n",
            "******************************************\n",
            "Epoch : 111\n",
            "Train : avg_loss = 0.09657970070838928\n"
          ]
        },
        {
          "name": "stderr",
          "output_type": "stream",
          "text": [
            "100%|██████████| 25/25 [00:00<00:00, 36.51it/s]\n",
            "100%|██████████| 11/11 [00:00<00:00, 20.53it/s]\n"
          ]
        },
        {
          "name": "stdout",
          "output_type": "stream",
          "text": [
            "Test : avg_loss = 0.18330228328704834\n",
            "Test : acc = 0.7368421052631579\n",
            "******************************************\n",
            "Epoch : 112\n",
            "Train : avg_loss = 0.09297871589660645\n"
          ]
        },
        {
          "name": "stderr",
          "output_type": "stream",
          "text": [
            "100%|██████████| 25/25 [00:00<00:00, 34.20it/s]\n",
            "100%|██████████| 11/11 [00:00<00:00, 19.70it/s]\n"
          ]
        },
        {
          "name": "stdout",
          "output_type": "stream",
          "text": [
            "Test : avg_loss = 0.18687868118286133\n",
            "Test : acc = 0.7543859649122807\n",
            "******************************************\n",
            "Epoch : 113\n",
            "Train : avg_loss = 0.09942363947629929\n"
          ]
        },
        {
          "name": "stderr",
          "output_type": "stream",
          "text": [
            "100%|██████████| 25/25 [00:00<00:00, 34.42it/s]\n",
            "100%|██████████| 11/11 [00:00<00:00, 18.84it/s]\n"
          ]
        },
        {
          "name": "stdout",
          "output_type": "stream",
          "text": [
            "Test : avg_loss = 0.19874528050422668\n",
            "Test : acc = 0.7602339181286549\n",
            "******************************************\n",
            "Epoch : 114\n",
            "Train : avg_loss = 0.10405296087265015\n"
          ]
        },
        {
          "name": "stderr",
          "output_type": "stream",
          "text": [
            "100%|██████████| 25/25 [00:00<00:00, 34.31it/s]\n",
            "100%|██████████| 11/11 [00:00<00:00, 20.25it/s]\n"
          ]
        },
        {
          "name": "stdout",
          "output_type": "stream",
          "text": [
            "Test : avg_loss = 0.21297979354858398\n",
            "Test : acc = 0.7426900584795322\n",
            "******************************************\n",
            "Epoch : 115\n",
            "Train : avg_loss = 0.12316606938838959\n"
          ]
        },
        {
          "name": "stderr",
          "output_type": "stream",
          "text": [
            "100%|██████████| 25/25 [00:00<00:00, 34.33it/s]\n",
            "100%|██████████| 11/11 [00:00<00:00, 19.92it/s]\n"
          ]
        },
        {
          "name": "stdout",
          "output_type": "stream",
          "text": [
            "Test : avg_loss = 0.21710079908370972\n",
            "Test : acc = 0.7017543859649122\n",
            "******************************************\n",
            "Epoch : 116\n",
            "Train : avg_loss = 0.10450730472803116\n"
          ]
        },
        {
          "name": "stderr",
          "output_type": "stream",
          "text": [
            "100%|██████████| 25/25 [00:00<00:00, 35.32it/s]\n",
            "100%|██████████| 11/11 [00:00<00:00, 20.61it/s]\n"
          ]
        },
        {
          "name": "stdout",
          "output_type": "stream",
          "text": [
            "Test : avg_loss = 0.2273281216621399\n",
            "Test : acc = 0.7426900584795322\n",
            "******************************************\n",
            "Epoch : 117\n",
            "Train : avg_loss = 0.11059195548295975\n"
          ]
        },
        {
          "name": "stderr",
          "output_type": "stream",
          "text": [
            "100%|██████████| 25/25 [00:00<00:00, 33.98it/s]\n",
            "100%|██████████| 11/11 [00:00<00:00, 19.30it/s]\n"
          ]
        },
        {
          "name": "stdout",
          "output_type": "stream",
          "text": [
            "Test : avg_loss = 0.20585224032402039\n",
            "Test : acc = 0.7222222222222222\n",
            "******************************************\n",
            "Epoch : 118\n",
            "Train : avg_loss = 0.09851432591676712\n"
          ]
        },
        {
          "name": "stderr",
          "output_type": "stream",
          "text": [
            "100%|██████████| 25/25 [00:00<00:00, 35.98it/s]\n",
            "100%|██████████| 11/11 [00:00<00:00, 20.30it/s]\n"
          ]
        },
        {
          "name": "stdout",
          "output_type": "stream",
          "text": [
            "Test : avg_loss = 0.208653062582016\n",
            "Test : acc = 0.6783625730994152\n",
            "******************************************\n",
            "Epoch : 119\n",
            "Train : avg_loss = 0.10835288465023041\n"
          ]
        },
        {
          "name": "stderr",
          "output_type": "stream",
          "text": [
            "100%|██████████| 25/25 [00:00<00:00, 35.09it/s]\n",
            "100%|██████████| 11/11 [00:00<00:00, 19.26it/s]\n"
          ]
        },
        {
          "name": "stdout",
          "output_type": "stream",
          "text": [
            "Test : avg_loss = 0.2269190549850464\n",
            "Test : acc = 0.6812865497076024\n",
            "******************************************\n",
            "Epoch : 120\n",
            "Train : avg_loss = 0.10757109522819519\n"
          ]
        },
        {
          "name": "stderr",
          "output_type": "stream",
          "text": [
            "100%|██████████| 25/25 [00:00<00:00, 30.80it/s]\n",
            "100%|██████████| 11/11 [00:00<00:00, 18.46it/s]\n"
          ]
        },
        {
          "name": "stdout",
          "output_type": "stream",
          "text": [
            "Test : avg_loss = 0.2531537711620331\n",
            "Test : acc = 0.7485380116959064\n",
            "******************************************\n",
            "Epoch : 121\n",
            "Train : avg_loss = 0.11653506755828857\n"
          ]
        },
        {
          "name": "stderr",
          "output_type": "stream",
          "text": [
            "100%|██████████| 25/25 [00:00<00:00, 30.87it/s]\n",
            "100%|██████████| 11/11 [00:00<00:00, 17.04it/s]\n"
          ]
        },
        {
          "name": "stdout",
          "output_type": "stream",
          "text": [
            "Test : avg_loss = 0.2065056413412094\n",
            "Test : acc = 0.716374269005848\n",
            "******************************************\n",
            "Epoch : 122\n",
            "Train : avg_loss = 0.09342008829116821\n"
          ]
        },
        {
          "name": "stderr",
          "output_type": "stream",
          "text": [
            "100%|██████████| 25/25 [00:00<00:00, 31.93it/s]\n",
            "100%|██████████| 11/11 [00:00<00:00, 19.23it/s]\n"
          ]
        },
        {
          "name": "stdout",
          "output_type": "stream",
          "text": [
            "Test : avg_loss = 0.19097641110420227\n",
            "Test : acc = 0.7192982456140351\n",
            "******************************************\n",
            "Epoch : 123\n",
            "Train : avg_loss = 0.1003098338842392\n"
          ]
        },
        {
          "name": "stderr",
          "output_type": "stream",
          "text": [
            "100%|██████████| 25/25 [00:00<00:00, 33.34it/s]\n",
            "100%|██████████| 11/11 [00:00<00:00, 18.17it/s]\n"
          ]
        },
        {
          "name": "stdout",
          "output_type": "stream",
          "text": [
            "Test : avg_loss = 0.1984214186668396\n",
            "Test : acc = 0.7339181286549707\n",
            "******************************************\n",
            "Epoch : 124\n",
            "Train : avg_loss = 0.0997135192155838\n"
          ]
        },
        {
          "name": "stderr",
          "output_type": "stream",
          "text": [
            "100%|██████████| 25/25 [00:00<00:00, 32.90it/s]\n",
            "100%|██████████| 11/11 [00:00<00:00, 19.20it/s]\n"
          ]
        },
        {
          "name": "stdout",
          "output_type": "stream",
          "text": [
            "Test : avg_loss = 0.2112383246421814\n",
            "Test : acc = 0.7339181286549707\n",
            "******************************************\n",
            "Epoch : 125\n",
            "Train : avg_loss = 0.10538789629936218\n"
          ]
        },
        {
          "name": "stderr",
          "output_type": "stream",
          "text": [
            "100%|██████████| 25/25 [00:00<00:00, 34.02it/s]\n",
            "100%|██████████| 11/11 [00:00<00:00, 18.11it/s]\n"
          ]
        },
        {
          "name": "stdout",
          "output_type": "stream",
          "text": [
            "Test : avg_loss = 0.20883522927761078\n",
            "Test : acc = 0.7602339181286549\n",
            "******************************************\n",
            "Epoch : 126\n",
            "Train : avg_loss = 0.1067807674407959\n"
          ]
        },
        {
          "name": "stderr",
          "output_type": "stream",
          "text": [
            "100%|██████████| 25/25 [00:00<00:00, 30.21it/s]\n",
            "100%|██████████| 11/11 [00:00<00:00, 16.09it/s]\n"
          ]
        },
        {
          "name": "stdout",
          "output_type": "stream",
          "text": [
            "Test : avg_loss = 0.2186458706855774\n",
            "Test : acc = 0.7192982456140351\n",
            "******************************************\n",
            "Epoch : 127\n",
            "Train : avg_loss = 0.09316935390233994\n"
          ]
        },
        {
          "name": "stderr",
          "output_type": "stream",
          "text": [
            "100%|██████████| 25/25 [00:00<00:00, 29.77it/s]\n",
            "100%|██████████| 11/11 [00:00<00:00, 16.99it/s]\n"
          ]
        },
        {
          "name": "stdout",
          "output_type": "stream",
          "text": [
            "Test : avg_loss = 0.1844216287136078\n",
            "Test : acc = 0.7339181286549707\n",
            "******************************************\n",
            "Epoch : 128\n",
            "Train : avg_loss = 0.09825999289751053\n"
          ]
        },
        {
          "name": "stderr",
          "output_type": "stream",
          "text": [
            "100%|██████████| 25/25 [00:00<00:00, 28.92it/s]\n",
            "100%|██████████| 11/11 [00:00<00:00, 16.39it/s]\n"
          ]
        },
        {
          "name": "stdout",
          "output_type": "stream",
          "text": [
            "Test : avg_loss = 0.1999352127313614\n",
            "Test : acc = 0.6929824561403509\n",
            "******************************************\n",
            "Epoch : 129\n",
            "Train : avg_loss = 0.0943036898970604\n"
          ]
        },
        {
          "name": "stderr",
          "output_type": "stream",
          "text": [
            "100%|██████████| 25/25 [00:01<00:00, 14.77it/s]\n",
            "100%|██████████| 11/11 [00:00<00:00, 17.74it/s]\n"
          ]
        },
        {
          "name": "stdout",
          "output_type": "stream",
          "text": [
            "Test : avg_loss = 0.22869998216629028\n",
            "Test : acc = 0.6461988304093568\n",
            "******************************************\n",
            "Epoch : 130\n",
            "Train : avg_loss = 0.10203132033348083\n"
          ]
        },
        {
          "name": "stderr",
          "output_type": "stream",
          "text": [
            "100%|██████████| 25/25 [00:00<00:00, 33.48it/s]\n",
            "100%|██████████| 11/11 [00:00<00:00, 18.34it/s]\n"
          ]
        },
        {
          "name": "stdout",
          "output_type": "stream",
          "text": [
            "Test : avg_loss = 0.2108755111694336\n",
            "Test : acc = 0.7368421052631579\n",
            "******************************************\n",
            "Epoch : 131\n",
            "Train : avg_loss = 0.10167913138866425\n"
          ]
        },
        {
          "name": "stderr",
          "output_type": "stream",
          "text": [
            "100%|██████████| 25/25 [00:00<00:00, 31.54it/s]\n",
            "100%|██████████| 11/11 [00:00<00:00, 17.56it/s]\n"
          ]
        },
        {
          "name": "stdout",
          "output_type": "stream",
          "text": [
            "Test : avg_loss = 0.22795629501342773\n",
            "Test : acc = 0.7309941520467836\n",
            "******************************************\n",
            "Epoch : 132\n",
            "Train : avg_loss = 0.1148439571261406\n"
          ]
        },
        {
          "name": "stderr",
          "output_type": "stream",
          "text": [
            "100%|██████████| 25/25 [00:00<00:00, 33.29it/s]\n",
            "100%|██████████| 11/11 [00:00<00:00, 19.20it/s]\n"
          ]
        },
        {
          "name": "stdout",
          "output_type": "stream",
          "text": [
            "Test : avg_loss = 0.22035957872867584\n",
            "Test : acc = 0.6666666666666666\n",
            "******************************************\n",
            "Epoch : 133\n",
            "Train : avg_loss = 0.10550134629011154\n"
          ]
        },
        {
          "name": "stderr",
          "output_type": "stream",
          "text": [
            "100%|██████████| 25/25 [00:00<00:00, 33.80it/s]\n",
            "100%|██████████| 11/11 [00:00<00:00, 19.11it/s]\n"
          ]
        },
        {
          "name": "stdout",
          "output_type": "stream",
          "text": [
            "Test : avg_loss = 0.2163441777229309\n",
            "Test : acc = 0.7192982456140351\n",
            "******************************************\n",
            "Epoch : 134\n",
            "Train : avg_loss = 0.11656416207551956\n"
          ]
        },
        {
          "name": "stderr",
          "output_type": "stream",
          "text": [
            "100%|██████████| 25/25 [00:00<00:00, 34.45it/s]\n",
            "100%|██████████| 11/11 [00:00<00:00, 19.41it/s]\n"
          ]
        },
        {
          "name": "stdout",
          "output_type": "stream",
          "text": [
            "Test : avg_loss = 0.23433153331279755\n",
            "Test : acc = 0.7339181286549707\n",
            "******************************************\n",
            "Epoch : 135\n",
            "Train : avg_loss = 0.106814444065094\n"
          ]
        },
        {
          "name": "stderr",
          "output_type": "stream",
          "text": [
            "100%|██████████| 25/25 [00:00<00:00, 33.46it/s]\n",
            "100%|██████████| 11/11 [00:00<00:00, 18.48it/s]\n"
          ]
        },
        {
          "name": "stdout",
          "output_type": "stream",
          "text": [
            "Test : avg_loss = 0.20957045257091522\n",
            "Test : acc = 0.7456140350877193\n",
            "******************************************\n",
            "Epoch : 136\n",
            "Train : avg_loss = 0.1089208722114563\n"
          ]
        },
        {
          "name": "stderr",
          "output_type": "stream",
          "text": [
            "100%|██████████| 25/25 [00:00<00:00, 31.23it/s]\n",
            "100%|██████████| 11/11 [00:00<00:00, 17.62it/s]\n"
          ]
        },
        {
          "name": "stdout",
          "output_type": "stream",
          "text": [
            "Test : avg_loss = 0.20898199081420898\n",
            "Test : acc = 0.7309941520467836\n",
            "******************************************\n",
            "Epoch : 137\n",
            "Train : avg_loss = 0.11916555464267731\n"
          ]
        },
        {
          "name": "stderr",
          "output_type": "stream",
          "text": [
            "100%|██████████| 25/25 [00:00<00:00, 33.70it/s]\n",
            "100%|██████████| 11/11 [00:00<00:00, 14.78it/s]\n"
          ]
        },
        {
          "name": "stdout",
          "output_type": "stream",
          "text": [
            "Test : avg_loss = 0.23391512036323547\n",
            "Test : acc = 0.7631578947368421\n",
            "******************************************\n",
            "Epoch : 138\n",
            "Train : avg_loss = 0.09954091906547546\n"
          ]
        },
        {
          "name": "stderr",
          "output_type": "stream",
          "text": [
            "100%|██████████| 25/25 [00:00<00:00, 26.62it/s]\n",
            "100%|██████████| 11/11 [00:00<00:00, 16.32it/s]\n"
          ]
        },
        {
          "name": "stdout",
          "output_type": "stream",
          "text": [
            "Test : avg_loss = 0.23969219624996185\n",
            "Test : acc = 0.716374269005848\n",
            "******************************************\n",
            "Epoch : 139\n",
            "Train : avg_loss = 0.10315361618995667\n"
          ]
        },
        {
          "name": "stderr",
          "output_type": "stream",
          "text": [
            "100%|██████████| 25/25 [00:00<00:00, 31.96it/s]\n",
            "100%|██████████| 11/11 [00:00<00:00, 18.37it/s]\n"
          ]
        },
        {
          "name": "stdout",
          "output_type": "stream",
          "text": [
            "Test : avg_loss = 0.20049989223480225\n",
            "Test : acc = 0.7426900584795322\n",
            "******************************************\n",
            "Epoch : 140\n",
            "Train : avg_loss = 0.09909714758396149\n"
          ]
        },
        {
          "name": "stderr",
          "output_type": "stream",
          "text": [
            "100%|██████████| 25/25 [00:00<00:00, 34.08it/s]\n",
            "100%|██████████| 11/11 [00:00<00:00, 17.41it/s]\n"
          ]
        },
        {
          "name": "stdout",
          "output_type": "stream",
          "text": [
            "Test : avg_loss = 0.19574561715126038\n",
            "Test : acc = 0.716374269005848\n",
            "******************************************\n",
            "Epoch : 141\n",
            "Train : avg_loss = 0.09937941282987595\n"
          ]
        },
        {
          "name": "stderr",
          "output_type": "stream",
          "text": [
            "100%|██████████| 25/25 [00:00<00:00, 30.42it/s]\n",
            "100%|██████████| 11/11 [00:00<00:00, 16.64it/s]\n"
          ]
        },
        {
          "name": "stdout",
          "output_type": "stream",
          "text": [
            "Test : avg_loss = 0.20359614491462708\n",
            "Test : acc = 0.7309941520467836\n",
            "******************************************\n",
            "Epoch : 142\n",
            "Train : avg_loss = 0.10501305758953094\n"
          ]
        },
        {
          "name": "stderr",
          "output_type": "stream",
          "text": [
            "100%|██████████| 25/25 [00:00<00:00, 32.45it/s]\n",
            "100%|██████████| 11/11 [00:00<00:00, 17.24it/s]\n"
          ]
        },
        {
          "name": "stdout",
          "output_type": "stream",
          "text": [
            "Test : avg_loss = 0.21829518675804138\n",
            "Test : acc = 0.7485380116959064\n",
            "******************************************\n",
            "Epoch : 143\n",
            "Train : avg_loss = 0.09562017768621445\n"
          ]
        },
        {
          "name": "stderr",
          "output_type": "stream",
          "text": [
            "100%|██████████| 25/25 [00:00<00:00, 31.75it/s]\n",
            "100%|██████████| 11/11 [00:00<00:00, 17.21it/s]\n"
          ]
        },
        {
          "name": "stdout",
          "output_type": "stream",
          "text": [
            "Test : avg_loss = 0.22825360298156738\n",
            "Test : acc = 0.7251461988304093\n",
            "******************************************\n",
            "Epoch : 144\n",
            "Train : avg_loss = 0.1060098335146904\n"
          ]
        },
        {
          "name": "stderr",
          "output_type": "stream",
          "text": [
            "100%|██████████| 25/25 [00:00<00:00, 30.64it/s]\n",
            "100%|██████████| 11/11 [00:00<00:00, 17.44it/s]\n"
          ]
        },
        {
          "name": "stdout",
          "output_type": "stream",
          "text": [
            "Test : avg_loss = 0.22751159965991974\n",
            "Test : acc = 0.7134502923976608\n",
            "******************************************\n",
            "Epoch : 145\n",
            "Train : avg_loss = 0.10737446695566177\n"
          ]
        },
        {
          "name": "stderr",
          "output_type": "stream",
          "text": [
            "100%|██████████| 25/25 [00:00<00:00, 31.35it/s]\n",
            "100%|██████████| 11/11 [00:00<00:00, 17.96it/s]\n"
          ]
        },
        {
          "name": "stdout",
          "output_type": "stream",
          "text": [
            "Test : avg_loss = 0.22370202839374542\n",
            "Test : acc = 0.7660818713450293\n",
            "******************************************\n",
            "Epoch : 146\n",
            "Train : avg_loss = 0.11668862402439117\n"
          ]
        },
        {
          "name": "stderr",
          "output_type": "stream",
          "text": [
            "100%|██████████| 25/25 [00:00<00:00, 31.43it/s]\n",
            "100%|██████████| 11/11 [00:00<00:00, 17.53it/s]\n"
          ]
        },
        {
          "name": "stdout",
          "output_type": "stream",
          "text": [
            "Test : avg_loss = 0.23599140346050262\n",
            "Test : acc = 0.7397660818713451\n",
            "******************************************\n",
            "Epoch : 147\n",
            "Train : avg_loss = 0.0976857990026474\n"
          ]
        },
        {
          "name": "stderr",
          "output_type": "stream",
          "text": [
            "100%|██████████| 25/25 [00:00<00:00, 30.40it/s]\n",
            "100%|██████████| 11/11 [00:00<00:00, 15.85it/s]\n"
          ]
        },
        {
          "name": "stdout",
          "output_type": "stream",
          "text": [
            "Test : avg_loss = 0.23163579404354095\n",
            "Test : acc = 0.7339181286549707\n",
            "******************************************\n",
            "Epoch : 148\n",
            "Train : avg_loss = 0.12637482583522797\n"
          ]
        },
        {
          "name": "stderr",
          "output_type": "stream",
          "text": [
            "100%|██████████| 25/25 [00:00<00:00, 29.43it/s]\n",
            "100%|██████████| 11/11 [00:00<00:00, 16.95it/s]\n"
          ]
        },
        {
          "name": "stdout",
          "output_type": "stream",
          "text": [
            "Test : avg_loss = 0.20027217268943787\n",
            "Test : acc = 0.6754385964912281\n",
            "******************************************\n",
            "Epoch : 149\n",
            "Train : avg_loss = 0.10442283004522324\n"
          ]
        },
        {
          "name": "stderr",
          "output_type": "stream",
          "text": [
            "100%|██████████| 25/25 [00:00<00:00, 32.27it/s]\n",
            "100%|██████████| 11/11 [00:00<00:00, 17.42it/s]\n"
          ]
        },
        {
          "name": "stdout",
          "output_type": "stream",
          "text": [
            "Test : avg_loss = 0.20086967945098877\n",
            "Test : acc = 0.6695906432748538\n",
            "******************************************\n",
            "Epoch : 150\n",
            "Train : avg_loss = 0.10650447756052017\n"
          ]
        },
        {
          "name": "stderr",
          "output_type": "stream",
          "text": [
            "100%|██████████| 25/25 [00:00<00:00, 32.30it/s]\n",
            "100%|██████████| 11/11 [00:00<00:00, 18.02it/s]\n"
          ]
        },
        {
          "name": "stdout",
          "output_type": "stream",
          "text": [
            "Test : avg_loss = 0.21060100197792053\n",
            "Test : acc = 0.7017543859649122\n",
            "******************************************\n"
          ]
        }
      ],
      "source": [
        "device='cpu'\n",
        "num_epochs = 150\n",
        "model_Lp = Net().to(device)\n",
        "optimizer = optim.Adam(model_Lp.parameters(), lr=0.01)\n",
        "\n",
        "### pytorch-metric-learning stuff ###\n",
        "distance = distances.LpDistance()\n",
        "reducer = reducers.ThresholdReducer(low=0)\n",
        "loss_func = losses.TripletMarginLoss(margin=0.2, distance=distance, reducer=reducer)\n",
        "mining_func = miners.TripletMarginMiner(\n",
        "    margin=0.2, distance=distance, type_of_triplets=\"semihard\"\n",
        ")\n",
        "accuracy_calculator = AccuracyCalculator(include=(\"precision_at_1\",), k=1)\n",
        "### pytorch-metric-learning stuff ###\n",
        "\n",
        "test_acc_Lp=[]\n",
        "test_loss_Lp=[]\n",
        "train_loss_Lp=[]\n",
        "for epoch in range(1, num_epochs + 1):\n",
        "    print(\"Epoch : {}\".format(epoch))\n",
        "\n",
        "    train_loss=train(model_Lp, loss_func, mining_func, device, train_loader, optimizer, epoch)\n",
        "    test_loss , test_acc = test(dataset_train, dataset_test, model_Lp, accuracy_calculator, test_loader , mining_func , loss_func)\n",
        "\n",
        "    test_loss_Lp.append(test_loss)\n",
        "    test_acc_Lp.append(test_acc)\n",
        "    train_loss_Lp.append(train_loss)\n",
        "\n",
        "    print(\"******************************************\")"
      ]
    },
    {
      "cell_type": "code",
      "execution_count": 7,
      "metadata": {
        "colab": {
          "base_uri": "https://localhost:8080/",
          "height": 312
        },
        "id": "zDr7kWOXE_fe",
        "outputId": "efd84f43-6c81-49aa-d85b-54a70833eb57"
      },
      "outputs": [
        {
          "data": {
            "image/png": "[encoded data removed]",
            "text/plain": [
              "<Figure size 432x288 with 2 Axes>"
            ]
          },
          "metadata": {
            "needs_background": "light"
          },
          "output_type": "display_data"
        },
        {
          "name": "stdout",
          "output_type": "stream",
          "text": [
            "Max Test Acc = 0.7777777777777778\n"
          ]
        }
      ],
      "source": [
        "plot_graph(train_loss_Lp , test_loss_Lp , test_acc_Lp , 'Euclidean , Example Miner')\n",
        "print('Max Test Acc = {}' .format(np.max(test_acc_Lp)))"
      ]
    },
    {
      "cell_type": "code",
      "execution_count": 9,
      "metadata": {
        "colab": {
          "base_uri": "https://localhost:8080/"
        },
        "id": "KhbL7TKmE_fe",
        "outputId": "345907f9-1d8e-40eb-da89-ddba1d71a11b"
      },
      "outputs": [
        {
          "name": "stderr",
          "output_type": "stream",
          "text": [
            "  0%|          | 0/11 [00:00<?, ?it/s]/usr/local/lib/python3.8/dist-packages/torch/nn/functional.py:1331: UserWarning: dropout2d: Received a 2-D input to dropout2d, which is deprecated and will result in an error in a future release. To retain the behavior and silence this warning, please use dropout instead. Note that dropout2d exists to provide channel-wise dropout on inputs with 2 spatial dimensions, a channel dimension, and an optional batch dimension (i.e. 3D or 4D inputs).\n",
            "  warnings.warn(warn_msg)\n",
            "100%|██████████| 11/11 [00:00<00:00, 16.28it/s]\n",
            "100%|██████████| 25/25 [00:00<00:00, 30.64it/s]\n"
          ]
        }
      ],
      "source": [
        "data_test,target_test=get_sub_data_embed(dataset_test , model_Lp , 5)\n",
        "data_test = np.float32(data_test/(np.max(data_test)-np.min(data_test)))\n",
        "data_train,target_train=get_sub_data_embed(dataset_train , model_Lp , 5)\n",
        "data_train = np.float32(data_train/(np.max(data_train)-np.min(data_train)))"
      ]
    },
    {
      "cell_type": "code",
      "execution_count": 10,
      "metadata": {
        "colab": {
          "base_uri": "https://localhost:8080/",
          "height": 655
        },
        "id": "ZGk1aIprE_fe",
        "outputId": "49dd22ac-c5de-4479-a9fd-1d73e6b2c022"
      },
      "outputs": [
        {
          "data": {
            "text/plain": [
              "<matplotlib.axes._subplots.AxesSubplot at 0x7f55f162f610>"
            ]
          },
          "execution_count": 10,
          "metadata": {},
          "output_type": "execute_result"
        },
        {
          "data": {
            "image/png": "[encoded data removed]",
            "text/plain": [
              "<Figure size 800x800 with 1 Axes>"
            ]
          },
          "metadata": {},
          "output_type": "display_data"
        }
      ],
      "source": [
        "import umap\n",
        "import umap.plot\n",
        "mapper = umap.UMAP().fit(data_test)\n",
        "umap.plot.points(mapper, labels=target_test)"
      ]
    },
    {
      "cell_type": "code",
      "execution_count": 11,
      "metadata": {
        "colab": {
          "base_uri": "https://localhost:8080/",
          "height": 655
        },
        "id": "ooJMffoZE_fe",
        "outputId": "cb9f1cf2-d79d-4408-e771-334ce0bcbad3"
      },
      "outputs": [
        {
          "data": {
            "text/plain": [
              "<matplotlib.axes._subplots.AxesSubplot at 0x7f55f2637fd0>"
            ]
          },
          "execution_count": 11,
          "metadata": {},
          "output_type": "execute_result"
        },
        {
          "data": {
            "image/png": "[encoded data removed]",
            "text/plain": [
              "<Figure size 800x800 with 1 Axes>"
            ]
          },
          "metadata": {},
          "output_type": "display_data"
        }
      ],
      "source": [
        "mapper = umap.UMAP().fit(data_train)\n",
        "umap.plot.points(mapper, labels=target_train)"
      ]
    },
    {
      "cell_type": "code",
      "execution_count": 12,
      "metadata": {
        "colab": {
          "base_uri": "https://localhost:8080/"
        },
        "id": "roA_TJ-jE_fe",
        "outputId": "6f95f1e8-9f68-4770-f86e-05a5b6826846"
      },
      "outputs": [
        {
          "name": "stdout",
          "output_type": "stream",
          "text": [
            "Test Acc without KNN :0.7017543859649122 \n"
          ]
        },
        {
          "name": "stderr",
          "output_type": "stream",
          "text": [
            "  0%|          | 0/25 [00:00<?, ?it/s]/usr/local/lib/python3.8/dist-packages/torch/nn/functional.py:1331: UserWarning: dropout2d: Received a 2-D input to dropout2d, which is deprecated and will result in an error in a future release. To retain the behavior and silence this warning, please use dropout instead. Note that dropout2d exists to provide channel-wise dropout on inputs with 2 spatial dimensions, a channel dimension, and an optional batch dimension (i.e. 3D or 4D inputs).\n",
            "  warnings.warn(warn_msg)\n",
            "100%|██████████| 25/25 [00:02<00:00,  9.49it/s]\n",
            "100%|██████████| 11/11 [00:00<00:00, 13.62it/s]"
          ]
        },
        {
          "name": "stdout",
          "output_type": "stream",
          "text": [
            "\n",
            "Test Acc :  72.22222222222221\n"
          ]
        },
        {
          "name": "stderr",
          "output_type": "stream",
          "text": [
            "\n"
          ]
        }
      ],
      "source": [
        "# KNN :\n",
        "print(\"Test Acc without KNN :{} \".format(test_acc_Lp[149]))\n",
        "KNN_on_embeddings(dataset_train , dataset_test , model_Lp , K=5)"
      ]
    }
  ],
  "metadata": {
    "colab": {
      "collapsed_sections": [
        "Nil4ytgdrS2R",
        "ktuiwoMTwwpv",
        "y5Fa5FWmEgs-"
      ],
      "provenance": []
    },
    "gpuClass": "standard",
    "kernelspec": {
      "display_name": "Python 3",
      "name": "python3"
    },
    "language_info": {
      "name": "python"
    }
  },
  "nbformat": 4,
  "nbformat_minor": 0
}
